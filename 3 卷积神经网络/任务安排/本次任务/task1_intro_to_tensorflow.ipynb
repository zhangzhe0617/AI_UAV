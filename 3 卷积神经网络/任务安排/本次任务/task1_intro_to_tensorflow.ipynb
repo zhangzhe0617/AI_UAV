{
 "cells": [
  {
   "cell_type": "markdown",
   "metadata": {},
   "source": [
    "<h1 align=\"center\">TensorFlow Neural Network Lab</h1>"
   ]
  },
  {
   "cell_type": "markdown",
   "metadata": {},
   "source": [
    "<img src='C:/Users/zhangwenqi/Desktop/神经网络test/第一课神经网络/第九章tensorflow/intro-to-tensorflow/image/notmnist.png'>\n",
    "In this lab, you'll use all the tools you learned from *Introduction to TensorFlow* to label images of English letters! The data you are using, <a href=\"http://yaroslavvb.blogspot.com/2011/09/notmnist-dataset.html\">notMNIST</a>, consists of images of a letter from A to J in different fonts.\n",
    "\n",
    "The above images are a few examples of the data you'll be training on. After training the network, you will compare your prediction model against test data. Your goal, by the end of this lab, is to make predictions against that test set with at least an 80% accuracy. Let's jump in!"
   ]
  },
  {
   "cell_type": "code",
   "execution_count": 8,
   "metadata": {},
   "outputs": [
    {
     "ename": "SyntaxError",
     "evalue": "(unicode error) 'unicodeescape' codec can't decode bytes in position 2-4: truncated \\uXXXX escape (<ipython-input-8-86b403bd4cce>, line 2)",
     "output_type": "error",
     "traceback": [
      "\u001b[1;36m  File \u001b[1;32m\"<ipython-input-8-86b403bd4cce>\"\u001b[1;36m, line \u001b[1;32m2\u001b[0m\n\u001b[1;33m    Image(filename='F:\\uav+ai\\神经网络test\\第一课神经网络\\第九章tensorflow/intro-to-tensorflow/image/notmnist.png')\u001b[0m\n\u001b[1;37m                  ^\u001b[0m\n\u001b[1;31mSyntaxError\u001b[0m\u001b[1;31m:\u001b[0m (unicode error) 'unicodeescape' codec can't decode bytes in position 2-4: truncated \\uXXXX escape\n"
     ]
    }
   ],
   "source": [
    "#from IPython.display import Image\n",
    "Image(filename='F:\\uav+ai\\神经网络test\\第一课神经网络\\第九章tensorflow/intro-to-tensorflow/image/notmnist.png')"
   ]
  },
  {
   "cell_type": "markdown",
   "metadata": {},
   "source": [
    "To start this lab, you first need to import all the necessary modules. Run the code below. If it runs successfully, it will print \"`All modules imported`\"."
   ]
  },
  {
   "cell_type": "code",
   "execution_count": 9,
   "metadata": {},
   "outputs": [
    {
     "name": "stdout",
     "output_type": "stream",
     "text": [
      "All modules imported.\n"
     ]
    }
   ],
   "source": [
    "import hashlib#哈希算法   Python的hashlib提供了常见的摘要算法，如MD5，SHA1等等\n",
    "import os\n",
    "import pickle #它可以将对象转换为一种可以传输或存储的格式 序列化过程将文本信息转变为二进制数据流\n",
    "from urllib.request import urlretrieve\n",
    "\n",
    "import numpy as np\n",
    "from PIL import Image\n",
    "from sklearn.model_selection import train_test_split\n",
    "from sklearn.preprocessing import LabelBinarizer\n",
    "from sklearn.utils import resample\n",
    "from tqdm import tqdm\n",
    "from zipfile import ZipFile\n",
    "\n",
    "print('All modules imported.')"
   ]
  },
  {
   "cell_type": "markdown",
   "metadata": {},
   "source": [
    "The notMNIST dataset is too large for many computers to handle.  It contains 500,000 images for just training.  You'll be using a subset of this data, 15,000 images for each label (A-J)."
   ]
  },
  {
   "cell_type": "code",
   "execution_count": 78,
   "metadata": {
    "scrolled": true
   },
   "outputs": [
    {
     "name": "stdout",
     "output_type": "stream",
     "text": [
      "All files downloaded.\n"
     ]
    }
   ],
   "source": [
    "def download(url, file):\n",
    "    \"\"\"\n",
    "    Download file from <url>\n",
    "    :param url: URL to file\n",
    "    :param file: Local file path\n",
    "    \"\"\"\n",
    "    if not os.path.isfile(file):\n",
    "        print('Downloading ' + file + '...')\n",
    "        urlretrieve(url, file)\n",
    "        print('Download Finished')\n",
    "\n",
    "# Download the training and test dataset.\n",
    "download('https://s3.amazonaws.com/udacity-sdc/notMNIST_train.zip', 'notMNIST_train.zip')\n",
    "download('https://s3.amazonaws.com/udacity-sdc/notMNIST_test.zip', 'notMNIST_test.zip')\n",
    "\n",
    "# Make sure the files aren't corrupted\n",
    "assert hashlib.md5(open('notMNIST_train.zip', 'rb').read()).hexdigest() == 'c8673b3f28f489e9cdf3a3d74e2ac8fa',\\\n",
    "        'notMNIST_train.zip file is corrupted.  Remove the file and try again.'#MD5是最常见的摘要算法，速度很快，生成结果是固定的128 bit字节\n",
    "assert hashlib.md5(open('notMNIST_test.zip', 'rb').read()).hexdigest() == '5d3c7e653e63471c88df796156a9dfa9',\\\n",
    "        'notMNIST_test.zip file is corrupted.  Remove the file and try again.'\n",
    "\n",
    "# Wait until you see that all files have been downloaded.\n",
    "print('All files downloaded.')"
   ]
  },
  {
   "cell_type": "code",
   "execution_count": 10,
   "metadata": {},
   "outputs": [
    {
     "data": {
      "text/plain": [
       "<PixelAccess at 0xeb57230>"
      ]
     },
     "execution_count": 10,
     "metadata": {},
     "output_type": "execute_result"
    }
   ],
   "source": [
    "#载入图片  按照np.float32读取进来，并变成一维数组\n",
    "image = Image.open(r'F:\\uav+ai\\神经网络test\\第一课神经网络\\第九章tensorflow\\A11.png')\n",
    "image.load()"
   ]
  },
  {
   "cell_type": "code",
   "execution_count": 11,
   "metadata": {},
   "outputs": [],
   "source": [
    "feature = np.array(image, dtype=np.float32).flatten() #flatten()函数是使28*28的二维数组变平成为784一维"
   ]
  },
  {
   "cell_type": "code",
   "execution_count": 12,
   "metadata": {},
   "outputs": [
    {
     "data": {
      "text/plain": [
       "(784,)"
      ]
     },
     "execution_count": 12,
     "metadata": {},
     "output_type": "execute_result"
    }
   ],
   "source": [
    "np.shape(feature)"
   ]
  },
  {
   "cell_type": "code",
   "execution_count": 13,
   "metadata": {
    "scrolled": true
   },
   "outputs": [
    {
     "data": {
      "text/plain": [
       "array([  0.,   0.,   0.,   0.,   0.,   0.,   0.,   3.,   0.,  79., 255.,\n",
       "       253., 255., 255., 255., 255., 255., 252., 255., 186.,   0.,   1.,\n",
       "         0.,   0.,   0.,   0.,   0.,   0.,   0.,   0.,   0.,   0.,   0.,\n",
       "         0.,   0.,   3.,   0., 163., 255., 252., 255., 255., 255., 255.,\n",
       "       255., 254., 255., 242.,  25.,   0.,   1.,   0.,   0.,   0.,   0.,\n",
       "         0.,   0.,   0.,   0.,   0.,   0.,   0.,   1.,   0.,  21., 232.,\n",
       "       255., 254., 255., 254., 254., 255., 255., 255., 253., 255.,  86.,\n",
       "         0.,   4.,   0.,   0.,   0.,   0.,   0.,   0.,   0.,   0.,   0.,\n",
       "         0.,   0.,   3.,   0.,  88., 255., 253., 255., 255., 255., 255.,\n",
       "       255., 255., 255., 251., 255., 147.,   0.,   3.,   0.,   0.,   0.,\n",
       "         0.,   0.,   0.,   0.,   0.,   0.,   0.,   0.,   2.,   0., 169.,\n",
       "       255., 252., 254., 255., 239., 239., 255., 254., 255., 253., 255.,\n",
       "       213.,   2.,   0.,   0.,   0.,   0.,   0.,   0.,   0.,   0.,   0.,\n",
       "         0.,   0.,   1.,   0.,  23., 238., 255., 254., 252., 255., 179.,\n",
       "       148., 255., 252., 255., 254., 255., 251.,  48.,   0.,   2.,   0.,\n",
       "         0.,   0.,   0.,   0.,   0.,   0.,   0.,   0.,   4.,   0.,  94.,\n",
       "       255., 252., 255., 251., 255.,  99.,  79., 255., 251., 255., 255.,\n",
       "       251., 255., 106.,   0.,   4.,   0.,   0.,   0.,   0.,   0.,   0.,\n",
       "         0.,   0.,   0.,   2.,   0., 176., 255., 252., 254., 255., 251.,\n",
       "        37.,  35., 251., 255., 254., 255., 252., 255., 177.,   0.,   3.,\n",
       "         0.,   0.,   0.,   0.,   0.,   0.,   0.,   0.,   2.,   0.,  30.,\n",
       "       239., 255., 254., 253., 255., 201.,   0.,   2., 214., 255., 253.,\n",
       "       255., 254., 255., 231.,  22.,   0.,   1.,   0.,   0.,   0.,   0.,\n",
       "         0.,   0.,   0.,   3.,   0., 100., 255., 252., 255., 251., 255.,\n",
       "       126.,   0.,   0., 153., 255., 251., 255., 255., 253., 255.,  76.,\n",
       "         0.,   3.,   0.,   0.,   0.,   0.,   0.,   0.,   0.,   2.,   0.,\n",
       "       183., 255., 252., 254., 255., 254.,  55.,   0.,   0.,  95., 255.,\n",
       "       252., 255., 255., 252., 255., 149.,   0.,   4.,   0.,   0.,   0.,\n",
       "         0.,   0.,   0.,   2.,   0.,  35., 243., 255., 254., 253., 255.,\n",
       "       212.,   5.,   1.,   0.,  37., 249., 255., 254., 255., 253., 255.,\n",
       "       211.,   7.,   0.,   1.,   0.,   0.,   0.,   0.,   0.,   3.,   0.,\n",
       "       107., 255., 252., 255., 251., 255., 143.,   0.,   4.,   0.,   4.,\n",
       "       210., 255., 253., 255., 255., 255., 255.,  50.,   0.,   2.,   0.,\n",
       "         0.,   0.,   0.,   0.,   1.,   0., 189., 255., 252., 255., 254.,\n",
       "       255.,  69.,   0.,   7.,   8.,   0., 156., 255., 251., 255., 255.,\n",
       "       251., 255., 120.,   0.,   4.,   0.,   0.,   0.,   0.,   2.,   0.,\n",
       "        39., 250., 255., 254., 253., 255., 217.,  10.,   0.,   1.,   3.,\n",
       "         0.,  86., 255., 253., 255., 255., 252., 255., 188.,   0.,   1.,\n",
       "         0.,   0.,   0.,   0.,   4.,   0., 121., 255., 252., 255., 253.,\n",
       "       255., 200.,  80.,  91.,  89.,  90.,  83., 117., 255., 255., 255.,\n",
       "       255., 254., 255., 245.,  30.,   0.,   2.,   0.,   0.,   1.,   0.,\n",
       "         2., 204., 255., 253., 255., 255., 255., 255., 255., 255., 255.,\n",
       "       255., 255., 255., 255., 255., 255., 255., 255., 252., 255.,  95.,\n",
       "         0.,   4.,   0.,   0.,   2.,   0.,  60., 255., 255., 254., 255.,\n",
       "       255., 255., 254., 251., 251., 251., 251., 251., 252., 255., 255.,\n",
       "       255., 255., 255., 252., 255., 166.,   0.,   2.,   0.,   0.,   3.,\n",
       "         0., 144., 255., 251., 255., 255., 255., 251., 251., 251., 251.,\n",
       "       251., 251., 251., 251., 251., 254., 255., 255., 255., 254., 255.,\n",
       "       229.,  15.,   0.,   1.,   1.,   0.,  11., 223., 255., 253., 255.,\n",
       "       255., 255., 255., 255., 255., 255., 255., 255., 255., 255., 255.,\n",
       "       255., 255., 255., 255., 255., 253., 255.,  72.,   0.,   3.,   3.,\n",
       "         0.,  78., 255., 253., 255., 255., 255., 249., 163., 148., 152.,\n",
       "       151., 151., 151., 151., 151., 150., 235., 255., 254., 255., 255.,\n",
       "       252., 255., 144.,   0.,   3.,   3.,   0., 165., 255., 252., 255.,\n",
       "       253., 255., 208.,   0.,   0.,   0.,   0.,   0.,   0.,   0.,   3.,\n",
       "         0., 170., 255., 252., 255., 255., 253., 255., 212.,   3.,   0.,\n",
       "         0.,  26., 235., 255., 254., 255., 251., 255., 138.,   0.,   8.,\n",
       "         4.,   4.,   4.,   4.,   4.,   8.,   0., 103., 255., 251., 255.,\n",
       "       255., 255., 255., 255.,  49.,   0.,   0.,  98., 255., 252., 255.,\n",
       "       255., 254., 255.,  71.,   0.,   3.,   0.,   0.,   0.,   0.,   0.,\n",
       "         2.,   0.,  51., 252., 255., 254., 255., 255., 252., 255., 118.,\n",
       "         0.,   0., 184., 255., 252., 255., 254., 255., 230.,  14.,   0.,\n",
       "         1.,   0.,   0.,   0.,   0.,   0.,   1.,   0.,   5., 219., 255.,\n",
       "       253., 255., 255., 252., 255., 187.,   0.,  41., 246., 255., 254.,\n",
       "       255., 252., 255., 170.,   0.,   2.,   0.,   0.,   0.,   0.,   0.,\n",
       "         0.,   0.,   2.,   0., 159., 255., 252., 255., 255., 254., 255.,\n",
       "       241.,  31., 131., 255., 253., 255., 255., 252., 255., 108.,   0.,\n",
       "         4.,   0.,   0.,   0.,   0.,   0.,   0.,   0.,   4.,   0.,  99.,\n",
       "       255., 252., 255., 255., 255., 253., 255., 104., 206., 255., 253.,\n",
       "       255., 254., 255., 248.,  41.,   0.,   2.,   0.,   0.,   0.,   0.,\n",
       "         0.,   0.,   0.,   2.,   0.,  40., 246., 255., 254., 255., 255.,\n",
       "       252., 255., 166.], dtype=float32)"
      ]
     },
     "execution_count": 13,
     "metadata": {},
     "output_type": "execute_result"
    }
   ],
   "source": [
    "feature#本质上得到的是一张图的灰度值，28*28的大小网格灰度"
   ]
  },
  {
   "cell_type": "code",
   "execution_count": 16,
   "metadata": {
    "scrolled": true
   },
   "outputs": [
    {
     "name": "stderr",
     "output_type": "stream",
     "text": [
      "100%|█████████████████████████████| 210001/210001 [00:39<00:00, 5306.10files/s]\n",
      "100%|███████████████████████████████| 10001/10001 [00:01<00:00, 5342.11files/s]\n"
     ]
    },
    {
     "name": "stdout",
     "output_type": "stream",
     "text": [
      "All features and labels uncompressed.\n"
     ]
    }
   ],
   "source": [
    "def uncompress_features_labels(file): #解压图片  获取数据特征和标签\n",
    "    \"\"\"\n",
    "    Uncompress features and labels from a zip file\n",
    "    :param file: The zip file to extract the data from\n",
    "    \"\"\"\n",
    "    features = []\n",
    "    labels = []\n",
    "\n",
    "    with ZipFile(file) as zipf:\n",
    "        # Progress Bar\n",
    "        filenames_pbar = tqdm(zipf.namelist(), unit='files')\n",
    "        \n",
    "        # Get features and labels from all files\n",
    "        for filename in filenames_pbar:\n",
    "            # Check if the file is a directory\n",
    "            if not filename.endswith('/'):\n",
    "                with zipf.open(filename) as image_file:\n",
    "                    image = Image.open(image_file)\n",
    "                    image.load()\n",
    "                    # Load image data as 1 dimensional array\n",
    "                    # We're using float32 to save on memory space\n",
    "                    feature = np.array(image, dtype=np.float32).flatten() \n",
    "\n",
    "                # Get the the letter from the filename.  This is the letter of the image.\n",
    "                label = os.path.split(filename)[1][0] #标签是图片文件名\n",
    "\n",
    "                features.append(feature)\n",
    "                labels.append(label)\n",
    "    return np.array(features), np.array(labels)\n",
    "\n",
    "# Get the features and labels from the zip files\n",
    "train_features, train_labels = uncompress_features_labels(r'F:\\uav+ai\\神经网络test\\第一课神经网络\\第九章tensorflow\\notMNIST_train.zip')#features是(150000, 784)  labels是(150000,) ABCD24个字母表\n",
    "\n",
    "test_features, test_labels = uncompress_features_labels(r'F:\\uav+ai\\神经网络test\\第一课神经网络\\第九章tensorflow\\notMNIST_test.zip')\n",
    "\n",
    "# Limit the amount of data to work with a docker container\n",
    "docker_size_limit = 150000\n",
    "train_features, train_labels = resample(train_features, train_labels, n_samples=docker_size_limit)#resample函数是重新采样，降低了数据量\n",
    "\n",
    "# Set flags for feature engineering.  This will prevent you from skipping an important step.\n",
    "is_features_normal = False\n",
    "is_labels_encod = False\n",
    "\n",
    "# Wait until you see that all features and labels have been uncompressed.\n",
    "print('All features and labels uncompressed.')"
   ]
  },
  {
   "cell_type": "code",
   "execution_count": 17,
   "metadata": {},
   "outputs": [
    {
     "data": {
      "text/plain": [
       "(150000,)"
      ]
     },
     "execution_count": 17,
     "metadata": {},
     "output_type": "execute_result"
    }
   ],
   "source": [
    "np.shape(train_labels)"
   ]
  },
  {
   "cell_type": "markdown",
   "metadata": {},
   "source": [
    "\n",
    "## Problem 1\n",
    "The first problem involves normalizing the features for your training and test data.\n",
    "\n",
    "Implement Min-Max scaling in the `normalize_grayscale()` function to a range of `a=0.1` and `b=0.9`. After scaling, the values of the pixels in the input data should range from 0.1 to 0.9.\n",
    "\n",
    "Since the raw notMNIST image data is in [grayscale](https://en.wikipedia.org/wiki/Grayscale), the current values range from a min of 0 to a max of 255.\n",
    "\n",
    "Min-Max Scaling:\n",
    "$\n",
    "X'=a+{\\frac {\\left(X-X_{\\min }\\right)\\left(b-a\\right)}{X_{\\max }-X_{\\min }}}\n",
    "$\n",
    "\n",
    "*If you're having trouble solving problem 1, you can view the solution [here](https://github.com/udacity/deep-learning/blob/master/intro-to-tensorflow/intro_to_tensorflow_solution.ipynb).*\n",
    "## 将灰度图归一化，(X-Xmin)/(Xmax-Xmin)范围为0-1，而经过a+(X-Xmin)/(Xmax-Xmin) *(a-b)后范围为a-b"
   ]
  },
  {
   "cell_type": "code",
   "execution_count": 19,
   "metadata": {},
   "outputs": [
    {
     "name": "stdout",
     "output_type": "stream",
     "text": [
      "Tests Passed!\n"
     ]
    }
   ],
   "source": [
    "# Problem 1 - Implement Min-Max scaling for grayscale image data\n",
    "def normalize_grayscale(image_data): #归一化 将灰度值范围设置为0.1-0.9\n",
    "    \n",
    "    a = 0.1\n",
    "    b = 0.9\n",
    "    grayscale_min = 0\n",
    "    grayscale_max = 255\n",
    "    return a + ( ( (image_data - grayscale_min)*(b - a) )/( grayscale_max - grayscale_min ) )\n",
    "\n",
    "\n",
    "### DON'T MODIFY ANYTHING BELOW ###\n",
    "# Test Cases\n",
    "np.testing.assert_array_almost_equal(\n",
    "    normalize_grayscale(np.array([0, 1, 2, 3, 4, 5, 6, 7, 8, 9, 10, 255])),\n",
    "    [0.1, 0.103137254902, 0.106274509804, 0.109411764706, 0.112549019608, 0.11568627451, 0.118823529412, 0.121960784314,\n",
    "     0.125098039216, 0.128235294118, 0.13137254902, 0.9],\n",
    "    decimal=3)\n",
    "np.testing.assert_array_almost_equal(\n",
    "    normalize_grayscale(np.array([0, 1, 10, 20, 30, 40, 233, 244, 254,255])),\n",
    "    [0.1, 0.103137254902, 0.13137254902, 0.162745098039, 0.194117647059, 0.225490196078, 0.830980392157, 0.865490196078,\n",
    "     0.896862745098, 0.9])\n",
    "\n",
    "if not is_features_normal:\n",
    "    train_features = normalize_grayscale(train_features)\n",
    "    test_features = normalize_grayscale(test_features)\n",
    "    is_features_normal = True\n",
    "\n",
    "print('Tests Passed!')"
   ]
  },
  {
   "cell_type": "code",
   "execution_count": 20,
   "metadata": {},
   "outputs": [
    {
     "name": "stdout",
     "output_type": "stream",
     "text": [
      "Labels One-Hot Encoded\n"
     ]
    }
   ],
   "source": [
    "if not is_labels_encod: #对ABCD10个字母编码\n",
    "    # Turn labels into numbers and apply One-Hot Encoding\n",
    "    encoder = LabelBinarizer() #LabelBinarizer是sklearn库里的数值便签二值化的工具\n",
    "    encoder.fit(train_labels)\n",
    "    train_labels = encoder.transform(train_labels)\n",
    "    test_labels = encoder.transform(test_labels)\n",
    "\n",
    "    # Change to float32, so it can be multiplied against the features in TensorFlow, which are float32\n",
    "    train_labels = train_labels.astype(np.float32)\n",
    "    test_labels = test_labels.astype(np.float32)\n",
    "    is_labels_encod = True\n",
    "\n",
    "print('Labels One-Hot Encoded')"
   ]
  },
  {
   "cell_type": "code",
   "execution_count": 21,
   "metadata": {},
   "outputs": [
    {
     "data": {
      "text/plain": [
       "array([[1, 0, 0, 0, 0, 0, 0, 0, 0, 0],\n",
       "       [0, 1, 0, 0, 0, 0, 0, 0, 0, 0],\n",
       "       [0, 0, 1, 0, 0, 0, 0, 0, 0, 0],\n",
       "       [0, 0, 0, 1, 0, 0, 0, 0, 0, 0],\n",
       "       [0, 0, 0, 0, 1, 0, 0, 0, 0, 0],\n",
       "       [0, 0, 0, 0, 0, 1, 0, 0, 0, 0],\n",
       "       [0, 0, 0, 0, 0, 0, 1, 0, 0, 0],\n",
       "       [0, 0, 0, 0, 0, 0, 0, 1, 0, 0],\n",
       "       [0, 0, 0, 0, 0, 0, 0, 0, 1, 0],\n",
       "       [0, 0, 0, 0, 0, 0, 0, 0, 0, 1]])"
      ]
     },
     "execution_count": 21,
     "metadata": {},
     "output_type": "execute_result"
    }
   ],
   "source": [
    "befor=np.array(['A','B','C','D','E','F','G','H','i','j'])\n",
    "encoder.fit(befor)\n",
    "atfer=encoder.transform(befor)\n",
    "atfer"
   ]
  },
  {
   "cell_type": "code",
   "execution_count": 22,
   "metadata": {},
   "outputs": [
    {
     "name": "stdout",
     "output_type": "stream",
     "text": [
      "Training features and labels randomized and split.\n"
     ]
    }
   ],
   "source": [
    "assert is_features_normal, 'You skipped the step to normalize the features'\n",
    "assert is_labels_encod, 'You skipped the step to One-Hot Encode the labels'\n",
    "#预留有效性组\n",
    "# Get randomized datasets for training and validation\n",
    "train_features, valid_features, train_labels, valid_labels = train_test_split(\n",
    "    train_features,\n",
    "    train_labels,\n",
    "    test_size=0.05,\n",
    "    random_state=832289)\n",
    "\n",
    "print('Training features and labels randomized and split.')"
   ]
  },
  {
   "cell_type": "code",
   "execution_count": 24,
   "metadata": {},
   "outputs": [
    {
     "name": "stdout",
     "output_type": "stream",
     "text": [
      "Saving data to pickle file...\n",
      "Data cached in pickle file.\n"
     ]
    }
   ],
   "source": [
    "# Save the data for easy access  数据文件单独保存为pickle文件\n",
    "pickle_file = 'notMNIST.pickle'\n",
    "if not os.path.isfile(pickle_file):  #二进制数据流\n",
    "    print('Saving data to pickle file...')\n",
    "    try:\n",
    "        with open(r'F:\\uav+ai\\神经网络test\\第一课神经网络\\第九章tensorflow\\notMNIST.pickle', 'wb') as pfile:\n",
    "            pickle.dump(\n",
    "                {\n",
    "                    'train_dataset': train_features,\n",
    "                    'train_labels': train_labels,\n",
    "                    'valid_dataset': valid_features,\n",
    "                    'valid_labels': valid_labels,\n",
    "                    'test_dataset': test_features,\n",
    "                    'test_labels': test_labels,\n",
    "                },\n",
    "                pfile, pickle.HIGHEST_PROTOCOL)\n",
    "    except Exception as e:\n",
    "        print('Unable to save data to', pickle_file, ':', e)\n",
    "        raise\n",
    "\n",
    "print('Data cached in pickle file.')"
   ]
  },
  {
   "cell_type": "markdown",
   "metadata": {},
   "source": [
    "# Checkpoint\n",
    "All your progress is now saved to the pickle file.  If you need to leave and comeback to this lab, you no longer have to start from the beginning.  Just run the code block below and it will load all the data and modules required to proceed."
   ]
  },
  {
   "cell_type": "code",
   "execution_count": 25,
   "metadata": {},
   "outputs": [
    {
     "name": "stdout",
     "output_type": "stream",
     "text": [
      "Data and modules loaded.\n"
     ]
    }
   ],
   "source": [
    "%matplotlib inline\n",
    "\n",
    "# Load the modules\n",
    "import pickle\n",
    "import math\n",
    "\n",
    "import numpy as np\n",
    "import tensorflow as tf\n",
    "from tqdm import tqdm\n",
    "import matplotlib.pyplot as plt\n",
    "\n",
    "# Reload the data\n",
    "pickle_file = r'F:\\uav+ai\\神经网络test\\第一课神经网络\\第九章tensorflow\\notMNIST.pickle'\n",
    "with open(pickle_file, 'rb') as f:\n",
    "  pickle_data = pickle.load(f)\n",
    "  train_features = pickle_data['train_dataset']\n",
    "  train_labels = pickle_data['train_labels']\n",
    "  valid_features = pickle_data['valid_dataset']\n",
    "  valid_labels = pickle_data['valid_labels']\n",
    "  test_features = pickle_data['test_dataset']\n",
    "  test_labels = pickle_data['test_labels']\n",
    "  del pickle_data  # Free up memory\n",
    "\n",
    "print('Data and modules loaded.')"
   ]
  },
  {
   "cell_type": "markdown",
   "metadata": {},
   "source": [
    "\n",
    "## Problem 2\n",
    "\n",
    "Now it's time to build a simple neural network using TensorFlow. Here, your network will be just an input layer and an output layer.\n",
    "\n",
    "<img src=\"image/network_diagram.png\" style=\"height: 40%;width: 40%; position: relative; right: 10%\">\n",
    "\n",
    "For the input here the images have been flattened into a vector of $28 \\times 28 = 784$ features. Then, we're trying to predict the image digit so there are 10 output units, one for each label. Of course, feel free to add hidden layers if you want, but this notebook is built to guide you through a single layer network. \n",
    "\n",
    "For the neural network to train on your data, you need the following <a href=\"https://www.tensorflow.org/resources/dims_types.html#data-types\">float32</a> tensors:\n",
    " - `features`\n",
    "  - Placeholder tensor for feature data (`train_features`/`valid_features`/`test_features`)\n",
    " - `labels`\n",
    "  - Placeholder tensor for label data (`train_labels`/`valid_labels`/`test_labels`)\n",
    " - `weights`\n",
    "  - Variable Tensor with random numbers from a truncated normal distribution.\n",
    "    - See <a href=\"https://www.tensorflow.org/api_docs/python/constant_op.html#truncated_normal\">`tf.truncated_normal()` documentation</a> for help.\n",
    " - `biases`\n",
    "  - Variable Tensor with all zeros.\n",
    "    - See <a href=\"https://www.tensorflow.org/api_docs/python/constant_op.html#zeros\"> `tf.zeros()` documentation</a> for help.\n",
    "\n",
    "*If you're having trouble solving problem 2, review \"TensorFlow Linear Function\" section of the class.  If that doesn't help, the solution for this problem is available [here](intro_to_tensorflow_solution.ipynb).*"
   ]
  },
  {
   "cell_type": "code",
   "execution_count": 26,
   "metadata": {},
   "outputs": [
    {
     "name": "stdout",
     "output_type": "stream",
     "text": [
      "WARNING:tensorflow:Tensor._shape is private, use Tensor.shape instead. Tensor._shape will eventually be removed.\n",
      "WARNING:tensorflow:Tensor._shape is private, use Tensor.shape instead. Tensor._shape will eventually be removed.\n",
      "WARNING:tensorflow:Tensor._shape is private, use Tensor.shape instead. Tensor._shape will eventually be removed.\n",
      "WARNING:tensorflow:Tensor._shape is private, use Tensor.shape instead. Tensor._shape will eventually be removed.\n",
      "Tests Passed!\n"
     ]
    }
   ],
   "source": [
    "# All the pixels in the image (28 * 28 = 784)\n",
    "features_count = 784\n",
    "# All the labels\n",
    "labels_count = 10\n",
    "\n",
    "# TODO: Set the features and labels tensors  待输入量 采用placeholder\n",
    "features = tf.placeholder(tf.float32)\n",
    "labels = tf.placeholder(tf.float32)\n",
    "\n",
    "# TODO: Set the weights and biases tensors  变量， 采用varibale\n",
    "weights = tf.Variable(tf.truncated_normal((features_count,labels_count)))\n",
    "biases = tf.Variable(tf.zeros(labels_count))\n",
    "\n",
    "\n",
    "\n",
    "### DON'T MODIFY ANYTHING BELOW ###\n",
    "\n",
    "#Test Cases\n",
    "from tensorflow.python.ops.variables import Variable\n",
    "#断言测试  变量类型符合要求\n",
    "assert features._op.name.startswith('Placeholder'), 'features must be a placeholder'\n",
    "assert labels._op.name.startswith('Placeholder'), 'labels must be a placeholder'\n",
    "assert isinstance(weights, Variable), 'weights must be a TensorFlow variable'\n",
    "assert isinstance(biases, Variable), 'biases must be a TensorFlow variable'\n",
    "#断言测试  变量维度符合要求\n",
    "assert features._shape == None or (\\\n",
    "    features._shape.dims[0].value is None and\\\n",
    "    features._shape.dims[1].value in [None, 784]), 'The shape of features is incorrect'\n",
    "assert labels._shape  == None or (\\\n",
    "    labels._shape.dims[0].value is None and\\\n",
    "    labels._shape.dims[1].value in [None, 10]), 'The shape of labels is incorrect'\n",
    "assert weights._variable._shape == (784, 10), 'The shape of weights is incorrect'\n",
    "assert biases._variable._shape == (10), 'The shape of biases is incorrect'\n",
    "#断言测试 变量数据类型符合要求\n",
    "assert features._dtype == tf.float32, 'features must be type float32'\n",
    "assert labels._dtype == tf.float32, 'labels must be type float32'\n",
    "\n",
    "# Feed dicts for training, validation, and test session  写入占位符\n",
    "train_feed_dict = {features: train_features, labels: train_labels}\n",
    "valid_feed_dict = {features: valid_features, labels: valid_labels}\n",
    "test_feed_dict = {features: test_features, labels: test_labels}\n",
    "\n",
    "# Linear Function WX + b   单层简单网络\n",
    "logits = tf.matmul(features, weights) + biases#  150000*784  dot 784*10=150000*10\n",
    " \n",
    "prediction = tf.nn.softmax(logits)#  经过激活函数后 1500000*10 \n",
    "\n",
    "# Cross entropy\n",
    "cross_entropy = -tf.reduce_sum(labels * tf.log(prediction), reduction_indices=1) #labels是150000*10  点乘 150000*10 得到交叉熵\n",
    "\n",
    "# Training loss\n",
    "loss = tf.reduce_mean(cross_entropy) #损失函数\n",
    "\n",
    "# Create an operation that initializes all variables\n",
    "init = tf.global_variables_initializer()\n",
    "\n",
    "# Test Cases\n",
    "with tf.Session() as session:\n",
    "    session.run(init)\n",
    "    session.run(loss, feed_dict=train_feed_dict)\n",
    "    session.run(loss, feed_dict=valid_feed_dict)\n",
    "    session.run(loss, feed_dict=test_feed_dict)\n",
    "    biases_data = session.run(biases)\n",
    "\n",
    "assert not np.count_nonzero(biases_data), 'biases must be zeros'\n",
    "\n",
    "print('Tests Passed!')"
   ]
  },
  {
   "cell_type": "code",
   "execution_count": 27,
   "metadata": {},
   "outputs": [
    {
     "name": "stdout",
     "output_type": "stream",
     "text": [
      "Accuracy function created.\n"
     ]
    }
   ],
   "source": [
    "# Determine if the predictions are correct\n",
    "is_correct_prediction = tf.equal(tf.argmax(prediction, 1), tf.argmax(labels, 1))\n",
    "# Calculate the accuracy of the predictions\n",
    "accuracy = tf.reduce_mean(tf.cast(is_correct_prediction, tf.float32))\n",
    "\n",
    "print('Accuracy function created.')"
   ]
  },
  {
   "cell_type": "markdown",
   "metadata": {},
   "source": [
    "<img src=\"image/Learn_Rate_Tune_Image.png\" style=\"height: 70%;width: 70%\">\n",
    "## Problem 3\n",
    "Below are 2 parameter configurations for training the neural network. In each configuration, one of the parameters has multiple options. For each configuration, choose the option that gives the best acccuracy.\n",
    "\n",
    "Parameter configurations:\n",
    "\n",
    "Configuration 1\n",
    "* **Epochs:** 1\n",
    "* **Learning Rate:**\n",
    "  * 0.8\n",
    "  * 0.5\n",
    "  * 0.1\n",
    "  * 0.05\n",
    "  * 0.01\n",
    "\n",
    "Configuration 2\n",
    "* **Epochs:**\n",
    "  * 1\n",
    "  * 2\n",
    "  * 3\n",
    "  * 4\n",
    "  * 5\n",
    "* **Learning Rate:** 0.2\n",
    "\n",
    "The code will print out a Loss and Accuracy graph, so you can see how well the neural network performed.\n",
    "\n",
    "*If you're having trouble solving problem 3, you can view the solution [here](intro_to_tensorflow_solution.ipynb).*"
   ]
  },
  {
   "cell_type": "code",
   "execution_count": 29,
   "metadata": {
    "scrolled": false
   },
   "outputs": [
    {
     "name": "stderr",
     "output_type": "stream",
     "text": [
      "Epoch  1/20: 100%|███████████████████| 1114/1114 [00:06<00:00, 185.16batches/s]\n",
      "Epoch  2/20: 100%|███████████████████| 1114/1114 [00:05<00:00, 187.78batches/s]\n",
      "Epoch  3/20: 100%|███████████████████| 1114/1114 [00:06<00:00, 183.09batches/s]\n",
      "Epoch  4/20: 100%|███████████████████| 1114/1114 [00:05<00:00, 186.62batches/s]\n",
      "Epoch  5/20: 100%|███████████████████| 1114/1114 [00:05<00:00, 187.12batches/s]\n",
      "Epoch  6/20: 100%|███████████████████| 1114/1114 [00:06<00:00, 185.47batches/s]\n",
      "Epoch  7/20: 100%|███████████████████| 1114/1114 [00:05<00:00, 161.87batches/s]\n",
      "Epoch  8/20: 100%|███████████████████| 1114/1114 [00:05<00:00, 190.22batches/s]\n",
      "Epoch  9/20: 100%|███████████████████| 1114/1114 [00:05<00:00, 187.12batches/s]\n",
      "Epoch 10/20: 100%|███████████████████| 1114/1114 [00:05<00:00, 186.03batches/s]\n",
      "Epoch 11/20: 100%|███████████████████| 1114/1114 [00:05<00:00, 188.39batches/s]\n",
      "Epoch 12/20: 100%|███████████████████| 1114/1114 [00:05<00:00, 188.23batches/s]\n",
      "Epoch 13/20: 100%|███████████████████| 1114/1114 [00:06<00:00, 176.93batches/s]\n",
      "Epoch 14/20: 100%|███████████████████| 1114/1114 [00:06<00:00, 180.13batches/s]\n",
      "Epoch 15/20: 100%|███████████████████| 1114/1114 [00:05<00:00, 187.88batches/s]\n",
      "Epoch 16/20: 100%|███████████████████| 1114/1114 [00:05<00:00, 170.61batches/s]\n",
      "Epoch 17/20: 100%|███████████████████| 1114/1114 [00:05<00:00, 186.21batches/s]\n",
      "Epoch 18/20: 100%|███████████████████| 1114/1114 [00:05<00:00, 185.90batches/s]\n",
      "Epoch 19/20: 100%|███████████████████| 1114/1114 [00:05<00:00, 186.56batches/s]\n",
      "Epoch 20/20: 100%|███████████████████| 1114/1114 [00:05<00:00, 186.68batches/s]\n"
     ]
    },
    {
     "data": {
      "image/png": "[encoded data removed]",
      "text/plain": [
       "<Figure size 432x288 with 2 Axes>"
      ]
     },
     "metadata": {
      "needs_background": "light"
     },
     "output_type": "display_data"
    },
    {
     "name": "stdout",
     "output_type": "stream",
     "text": [
      "Validation accuracy at 0.09746666997671127\n"
     ]
    }
   ],
   "source": [
    "# Change if you have memory restrictions\n",
    "batch_size = 128\n",
    "\n",
    "# TODO: Find the best parameters for each configuration\n",
    "epochs = 20\n",
    "learning_rate = 0.005\n",
    "\n",
    "\n",
    "\n",
    "### DON'T MODIFY ANYTHING BELOW ###\n",
    "# Gradient Descent\n",
    "optimizer = tf.train.GradientDescentOptimizer(learning_rate).minimize(loss)    \n",
    "\n",
    "# The accuracy measured against the validation set\n",
    "validation_accuracy = 0.0\n",
    "\n",
    "# Measurements use for graphing loss and accuracy\n",
    "log_batch_step = 50\n",
    "batches = []\n",
    "loss_batch = []\n",
    "train_acc_batch = []\n",
    "valid_acc_batch = []\n",
    "\n",
    "with tf.Session() as session:\n",
    "    session.run(init)\n",
    "    batch_count = int(math.ceil(len(train_features)/batch_size))#将整个样本分割成150000/128个部分1100个子集\n",
    "\n",
    "    for epoch_i in range(epochs):\n",
    "        \n",
    "        # Progress bar\n",
    "        batches_pbar = tqdm(range(batch_count), desc='Epoch {:>2}/{}'.format(epoch_i+1, epochs), unit='batches')\n",
    "        \n",
    "        # The training cycle\n",
    "        for batch_i in batches_pbar: #针对每个子集\n",
    "            # Get a batch of training features and labels\n",
    "            batch_start = batch_i*batch_size\n",
    "            batch_features = train_features[batch_start:batch_start + batch_size]\n",
    "            batch_labels = train_labels[batch_start:batch_start + batch_size]\n",
    "\n",
    "            # Run optimizer and get loss\n",
    "            _, l = session.run(\n",
    "                [optimizer, loss],\n",
    "                feed_dict={features: batch_features, labels: batch_labels})#l是输出loss\n",
    "\n",
    "            # Log every 50 batches\n",
    "            if not batch_i % log_batch_step:\n",
    "                # Calculate Training and Validation accuracy\n",
    "                training_accuracy = session.run(accuracy, feed_dict=train_feed_dict) #当前情况下的训练样本精度\n",
    "                validation_accuracy = session.run(accuracy, feed_dict=valid_feed_dict) #当前下的观测样本精度\n",
    "\n",
    "                # Log batches\n",
    "                previous_batch = batches[-1] if batches else 0\n",
    "                batches.append(log_batch_step + previous_batch)\n",
    "                \n",
    "                loss_batch.append(l) \n",
    "                train_acc_batch.append(training_accuracy)\n",
    "                valid_acc_batch.append(validation_accuracy)\n",
    "\n",
    "        # Check accuracy against Validation data\n",
    "        validation_accuracy = session.run(accuracy, feed_dict=valid_feed_dict)\n",
    "\n",
    "loss_plot = plt.subplot(211)\n",
    "loss_plot.set_title('Loss')\n",
    "loss_plot.plot(batches, loss_batch, 'g')\n",
    "loss_plot.set_xlim([batches[0], batches[-1]])#迭代次数和loss函数曲线图\n",
    "\n",
    "acc_plot = plt.subplot(212)\n",
    "acc_plot.set_title('Accuracy')\n",
    "acc_plot.plot(batches, train_acc_batch, 'r', label='Training Accuracy')\n",
    "acc_plot.plot(batches, valid_acc_batch, 'x', label='Validation Accuracy')#精度图\n",
    "acc_plot.set_ylim([0, 1.0])\n",
    "acc_plot.set_xlim([batches[0], batches[-1]])\n",
    "acc_plot.legend(loc=4)\n",
    "plt.tight_layout()\n",
    "plt.show()\n",
    "\n",
    "print('Validation accuracy at {}'.format(validation_accuracy))"
   ]
  },
  {
   "cell_type": "markdown",
   "metadata": {},
   "source": [
    "## Test\n",
    "You're going to test your model against your hold out dataset/testing data.  This will give you a good indicator of how well the model will do in the real world.  You should have a test accuracy of at least 80%."
   ]
  },
  {
   "cell_type": "code",
   "execution_count": 148,
   "metadata": {
    "scrolled": true
   },
   "outputs": [
    {
     "name": "stderr",
     "output_type": "stream",
     "text": [
      "\n",
      "Epoch  1/20:   0%|                               | 0/1114 [00:00<?, ?batches/s]\n",
      "Epoch  1/20:   9%|█▊                 | 104/1114 [00:00<00:00, 1039.94batches/s]\n",
      "Epoch  1/20:  19%|███▋               | 213/1114 [00:00<00:00, 1054.45batches/s]\n",
      "Epoch  1/20:  29%|█████▍             | 322/1114 [00:00<00:00, 1064.85batches/s]\n",
      "Epoch  1/20:  38%|███████▏           | 424/1114 [00:00<00:00, 1050.97batches/s]\n",
      "Epoch  1/20:  48%|█████████          | 533/1114 [00:00<00:00, 1062.36batches/s]\n",
      "Epoch  1/20:  58%|██████████▉        | 641/1114 [00:00<00:00, 1067.58batches/s]\n",
      "Epoch  1/20:  67%|████████████▊      | 749/1114 [00:00<00:00, 1071.25batches/s]\n",
      "Epoch  1/20:  77%|██████████████▋    | 858/1114 [00:00<00:00, 1076.79batches/s]\n",
      "Epoch  1/20:  87%|████████████████▍  | 967/1114 [00:00<00:00, 1080.70batches/s]\n",
      "Epoch  1/20:  96%|█████████████████▎| 1074/1114 [00:01<00:00, 1077.45batches/s]\n",
      "Epoch  1/20: 100%|██████████████████| 1114/1114 [00:01<00:00, 1064.95batches/s]\n",
      "Epoch  2/20:   0%|                               | 0/1114 [00:00<?, ?batches/s]\n",
      "Epoch  2/20:   9%|█▋                 | 102/1114 [00:00<00:00, 1019.94batches/s]\n",
      "Epoch  2/20:  19%|███▌               | 207/1114 [00:00<00:00, 1028.76batches/s]\n",
      "Epoch  2/20:  28%|█████▎             | 312/1114 [00:00<00:00, 1035.02batches/s]\n",
      "Epoch  2/20:  36%|███████▏            | 403/1114 [00:00<00:00, 994.03batches/s]\n",
      "Epoch  2/20:  44%|████████▊           | 489/1114 [00:00<00:00, 949.61batches/s]\n",
      "Epoch  2/20:  54%|██████████▋         | 597/1114 [00:00<00:00, 985.28batches/s]\n",
      "Epoch  2/20:  63%|████████████       | 705/1114 [00:00<00:00, 1011.89batches/s]\n",
      "Epoch  2/20:  73%|█████████████▊     | 811/1114 [00:00<00:00, 1025.84batches/s]\n",
      "Epoch  2/20:  82%|████████████████▎   | 909/1114 [00:00<00:00, 996.20batches/s]\n",
      "Epoch  2/20:  91%|████████████████▍ | 1015/1114 [00:01<00:00, 1014.50batches/s]\n",
      "Epoch  2/20: 100%|██████████████████| 1114/1114 [00:01<00:00, 1013.59batches/s]\n",
      "Epoch  3/20:   0%|                               | 0/1114 [00:00<?, ?batches/s]\n",
      "Epoch  3/20:   9%|█▊                 | 104/1114 [00:00<00:00, 1039.94batches/s]\n",
      "Epoch  3/20:  19%|███▌               | 212/1114 [00:00<00:00, 1051.63batches/s]\n",
      "Epoch  3/20:  29%|█████▍             | 322/1114 [00:00<00:00, 1065.67batches/s]\n",
      "Epoch  3/20:  38%|███████▎           | 426/1114 [00:00<00:00, 1057.82batches/s]\n",
      "Epoch  3/20:  48%|█████████          | 534/1114 [00:00<00:00, 1064.36batches/s]\n",
      "Epoch  3/20:  58%|██████████▉        | 643/1114 [00:00<00:00, 1071.90batches/s]\n",
      "Epoch  3/20:  68%|████████████▊      | 753/1114 [00:00<00:00, 1080.16batches/s]\n",
      "Epoch  3/20:  77%|██████████████▋    | 858/1114 [00:00<00:00, 1070.92batches/s]\n",
      "Epoch  3/20:  87%|████████████████▌  | 968/1114 [00:00<00:00, 1079.46batches/s]\n",
      "Epoch  3/20:  96%|█████████████████▎| 1075/1114 [00:01<00:00, 1076.59batches/s]\n",
      "Epoch  3/20: 100%|██████████████████| 1114/1114 [00:01<00:00, 1069.04batches/s]\n",
      "Epoch  4/20:   0%|                               | 0/1114 [00:00<?, ?batches/s]\n",
      "Epoch  4/20:   8%|█▋                   | 92/1114 [00:00<00:01, 919.95batches/s]\n",
      "Epoch  4/20:  15%|███                 | 172/1114 [00:00<00:01, 877.43batches/s]\n",
      "Epoch  4/20:  24%|████▋               | 264/1114 [00:00<00:00, 889.77batches/s]\n",
      "Epoch  4/20:  31%|██████▏             | 347/1114 [00:00<00:00, 870.94batches/s]\n",
      "Epoch  4/20:  40%|███████▉            | 441/1114 [00:00<00:00, 890.55batches/s]\n",
      "Epoch  4/20:  49%|█████████▊          | 544/1114 [00:00<00:00, 928.24batches/s]\n",
      "Epoch  4/20:  58%|███████████▌        | 645/1114 [00:00<00:00, 951.33batches/s]\n",
      "Epoch  4/20:  66%|█████████████▏      | 734/1114 [00:00<00:00, 929.12batches/s]\n",
      "Epoch  4/20:  74%|██████████████▊     | 823/1114 [00:00<00:00, 914.19batches/s]\n",
      "Epoch  4/20:  84%|████████████████▋   | 932/1114 [00:01<00:00, 960.66batches/s]\n",
      "Epoch  4/20:  93%|█████████████████▋ | 1039/1114 [00:01<00:00, 991.03batches/s]\n",
      "Epoch  4/20: 100%|███████████████████| 1114/1114 [00:01<00:00, 948.03batches/s]\n",
      "Epoch  5/20:   0%|                               | 0/1114 [00:00<?, ?batches/s]\n",
      "Epoch  5/20:  10%|█▊                 | 107/1114 [00:00<00:00, 1069.94batches/s]\n",
      "Epoch  5/20:  19%|███▋               | 215/1114 [00:00<00:00, 1072.92batches/s]\n",
      "Epoch  5/20:  29%|█████▍             | 322/1114 [00:00<00:00, 1072.02batches/s]\n",
      "Epoch  5/20:  39%|███████▎           | 431/1114 [00:00<00:00, 1077.33batches/s]\n",
      "Epoch  5/20:  48%|█████████▏         | 537/1114 [00:00<00:00, 1072.06batches/s]\n",
      "Epoch  5/20:  58%|███████████        | 646/1114 [00:00<00:00, 1077.36batches/s]\n",
      "Epoch  5/20:  68%|████████████▉      | 755/1114 [00:00<00:00, 1081.10batches/s]\n",
      "Epoch  5/20:  78%|██████████████▊    | 866/1114 [00:00<00:00, 1089.59batches/s]\n",
      "Epoch  5/20:  87%|████████████████▌  | 969/1114 [00:00<00:00, 1032.34batches/s]\n",
      "Epoch  5/20:  96%|█████████████████▎| 1069/1114 [00:01<00:00, 1000.91batches/s]\n",
      "Epoch  5/20: 100%|██████████████████| 1114/1114 [00:01<00:00, 1045.95batches/s]\n",
      "Epoch  6/20:   0%|                               | 0/1114 [00:00<?, ?batches/s]\n",
      "Epoch  6/20:  10%|█▉                 | 112/1114 [00:00<00:00, 1119.94batches/s]\n",
      "Epoch  6/20:  20%|███▊               | 222/1114 [00:00<00:00, 1113.86batches/s]\n",
      "Epoch  6/20:  30%|█████▋             | 333/1114 [00:00<00:00, 1112.68batches/s]\n",
      "Epoch  6/20:  39%|███████▍           | 434/1114 [00:00<00:00, 1079.73batches/s]\n",
      "Epoch  6/20:  49%|█████████▎         | 544/1114 [00:00<00:00, 1085.71batches/s]\n",
      "Epoch  6/20:  59%|███████████▏       | 655/1114 [00:00<00:00, 1092.87batches/s]\n",
      "Epoch  6/20:  69%|█████████████      | 765/1114 [00:00<00:00, 1094.98batches/s]\n",
      "Epoch  6/20:  79%|██████████████▉    | 875/1114 [00:00<00:00, 1096.46batches/s]\n",
      "Epoch  6/20:  89%|████████████████▊  | 986/1114 [00:00<00:00, 1100.47batches/s]\n",
      "Epoch  6/20:  98%|█████████████████▋| 1093/1114 [00:01<00:00, 1091.13batches/s]\n",
      "Epoch  6/20: 100%|██████████████████| 1114/1114 [00:01<00:00, 1088.89batches/s]\n",
      "Epoch  7/20:   0%|                               | 0/1114 [00:00<?, ?batches/s]\n",
      "Epoch  7/20:  10%|█▉                 | 112/1114 [00:00<00:00, 1119.94batches/s]\n",
      "Epoch  7/20:  20%|███▊               | 223/1114 [00:00<00:00, 1116.92batches/s]\n",
      "Epoch  7/20:  30%|█████▋             | 333/1114 [00:00<00:00, 1111.77batches/s]\n",
      "Epoch  7/20:  40%|███████▌           | 443/1114 [00:00<00:00, 1108.19batches/s]\n",
      "Epoch  7/20:  50%|█████████▍         | 553/1114 [00:00<00:00, 1105.70batches/s]\n",
      "Epoch  7/20:  60%|███████████▎       | 664/1114 [00:00<00:00, 1106.97batches/s]\n",
      "Epoch  7/20:  69%|█████████████▏     | 774/1114 [00:00<00:00, 1104.85batches/s]\n",
      "Epoch  7/20:  79%|███████████████    | 885/1114 [00:00<00:00, 1106.37batches/s]\n",
      "Epoch  7/20:  89%|████████████████▉  | 994/1114 [00:00<00:00, 1101.39batches/s]\n",
      "Epoch  7/20:  99%|█████████████████▊| 1103/1114 [00:01<00:00, 1097.93batches/s]\n",
      "Epoch  7/20: 100%|██████████████████| 1114/1114 [00:01<00:00, 1098.56batches/s]\n",
      "Epoch  8/20:   0%|                               | 0/1114 [00:00<?, ?batches/s]\n",
      "Epoch  8/20:  10%|█▊                 | 108/1114 [00:00<00:00, 1079.94batches/s]\n",
      "Epoch  8/20:  20%|███▋               | 219/1114 [00:00<00:00, 1088.77batches/s]\n",
      "Epoch  8/20:  29%|█████▌             | 328/1114 [00:00<00:00, 1089.12batches/s]\n",
      "Epoch  8/20:  39%|███████▍           | 438/1114 [00:00<00:00, 1092.34batches/s]\n",
      "Epoch  8/20:  49%|█████████▎         | 547/1114 [00:00<00:00, 1091.62batches/s]\n",
      "Epoch  8/20:  59%|███████████▏       | 658/1114 [00:00<00:00, 1097.05batches/s]\n",
      "Epoch  8/20:  69%|█████████████      | 768/1114 [00:00<00:00, 1097.91batches/s]\n",
      "Epoch  8/20:  79%|██████████████▉    | 878/1114 [00:00<00:00, 1098.52batches/s]\n",
      "Epoch  8/20:  89%|████████████████▊  | 986/1114 [00:00<00:00, 1092.88batches/s]\n",
      "Epoch  8/20:  98%|█████████████████▋| 1097/1114 [00:01<00:00, 1097.94batches/s]\n",
      "Epoch  8/20: 100%|██████████████████| 1114/1114 [00:01<00:00, 1091.02batches/s]\n",
      "Epoch  9/20:   0%|                               | 0/1114 [00:00<?, ?batches/s]\n",
      "Epoch  9/20:  10%|█▉                 | 111/1114 [00:00<00:00, 1109.94batches/s]\n",
      "Epoch  9/20:  20%|███▊               | 221/1114 [00:00<00:00, 1106.92batches/s]\n",
      "Epoch  9/20:  30%|█████▋             | 331/1114 [00:00<00:00, 1104.81batches/s]\n",
      "Epoch  9/20:  40%|███████▌           | 441/1114 [00:00<00:00, 1103.35batches/s]\n",
      "Epoch  9/20:  49%|█████████▍         | 550/1114 [00:00<00:00, 1099.29batches/s]\n",
      "Epoch  9/20:  59%|███████████▎       | 660/1114 [00:00<00:00, 1099.48batches/s]\n",
      "Epoch  9/20:  69%|█████████████▏     | 770/1114 [00:00<00:00, 1099.62batches/s]\n",
      "Epoch  9/20:  79%|███████████████    | 882/1114 [00:00<00:00, 1105.64batches/s]\n",
      "Epoch  9/20:  89%|████████████████▉  | 993/1114 [00:00<00:00, 1106.92batches/s]\n",
      "Epoch  9/20:  99%|█████████████████▊| 1104/1114 [00:01<00:00, 1107.83batches/s]\n",
      "Epoch  9/20: 100%|██████████████████| 1114/1114 [00:01<00:00, 1098.56batches/s]\n",
      "Epoch 10/20:   0%|                               | 0/1114 [00:00<?, ?batches/s]\n",
      "Epoch 10/20:  10%|█▉                 | 114/1114 [00:00<00:00, 1139.94batches/s]\n",
      "Epoch 10/20:  20%|███▊               | 224/1114 [00:00<00:00, 1127.63batches/s]\n",
      "Epoch 10/20:  30%|█████▋             | 335/1114 [00:00<00:00, 1122.27batches/s]\n",
      "Epoch 10/20:  40%|███████▌           | 446/1114 [00:00<00:00, 1118.54batches/s]\n",
      "Epoch 10/20:  50%|█████████▌         | 558/1114 [00:00<00:00, 1118.96batches/s]\n",
      "Epoch 10/20:  60%|███████████▍       | 670/1114 [00:00<00:00, 1119.25batches/s]\n",
      "Epoch 10/20:  70%|█████████████▎     | 781/1114 [00:00<00:00, 1116.44batches/s]\n",
      "Epoch 10/20:  80%|███████████████▏   | 890/1114 [00:00<00:00, 1108.36batches/s]\n",
      "Epoch 10/20:  90%|████████████████▏ | 1002/1114 [00:00<00:00, 1111.80batches/s]\n",
      "Epoch 10/20: 100%|█████████████████▉| 1113/1114 [00:01<00:00, 1111.24batches/s]\n",
      "Epoch 10/20: 100%|██████████████████| 1114/1114 [00:01<00:00, 1109.50batches/s]\n",
      "Epoch 11/20:   0%|                               | 0/1114 [00:00<?, ?batches/s]\n",
      "Epoch 11/20:  10%|█▉                 | 115/1114 [00:00<00:00, 1149.94batches/s]\n",
      "Epoch 11/20:  20%|███▊               | 226/1114 [00:00<00:00, 1137.64batches/s]\n",
      "Epoch 11/20:  30%|█████▋             | 337/1114 [00:00<00:00, 1129.18batches/s]\n",
      "Epoch 11/20:  40%|███████▋           | 448/1114 [00:00<00:00, 1123.34batches/s]\n",
      "Epoch 11/20:  50%|█████████▌         | 558/1114 [00:00<00:00, 1116.21batches/s]\n",
      "Epoch 11/20:  60%|███████████▍       | 669/1114 [00:00<00:00, 1114.32batches/s]\n",
      "Epoch 11/20:  70%|█████████████▎     | 779/1114 [00:00<00:00, 1109.97batches/s]\n",
      "Epoch 11/20:  80%|███████████████▏   | 889/1114 [00:00<00:00, 1106.94batches/s]\n",
      "Epoch 11/20:  90%|█████████████████  | 999/1114 [00:00<00:00, 1104.83batches/s]\n",
      "Epoch 11/20: 100%|█████████████████▉| 1110/1114 [00:01<00:00, 1106.36batches/s]\n",
      "Epoch 11/20: 100%|██████████████████| 1114/1114 [00:01<00:00, 1105.10batches/s]\n",
      "Epoch 12/20:   0%|                               | 0/1114 [00:00<?, ?batches/s]\n",
      "Epoch 12/20:  10%|█▉                 | 113/1114 [00:00<00:00, 1129.94batches/s]\n",
      "Epoch 12/20:  20%|███▊               | 224/1114 [00:00<00:00, 1123.86batches/s]\n",
      "Epoch 12/20:  30%|█████▋             | 336/1114 [00:00<00:00, 1122.68batches/s]\n",
      "Epoch 12/20:  40%|███████▌           | 446/1114 [00:00<00:00, 1115.76batches/s]\n",
      "Epoch 12/20:  50%|█████████▍         | 555/1114 [00:00<00:00, 1107.88batches/s]\n",
      "Epoch 12/20:  60%|███████████▎       | 666/1114 [00:00<00:00, 1108.50batches/s]\n",
      "Epoch 12/20:  70%|█████████████▏     | 776/1114 [00:00<00:00, 1105.92batches/s]\n",
      "Epoch 12/20:  79%|███████████████    | 884/1114 [00:00<00:00, 1097.99batches/s]\n",
      "Epoch 12/20:  89%|████████████████▉  | 995/1114 [00:00<00:00, 1101.55batches/s]\n",
      "Epoch 12/20:  99%|█████████████████▊| 1105/1114 [00:01<00:00, 1101.06batches/s]\n",
      "Epoch 12/20: 100%|██████████████████| 1114/1114 [00:01<00:00, 1101.82batches/s]\n",
      "Epoch 13/20:   0%|                               | 0/1114 [00:00<?, ?batches/s]\n",
      "Epoch 13/20:  10%|█▉                 | 113/1114 [00:00<00:00, 1129.94batches/s]\n",
      "Epoch 13/20:  20%|███▊               | 224/1114 [00:00<00:00, 1123.86batches/s]\n",
      "Epoch 13/20:  30%|█████▋             | 334/1114 [00:00<00:00, 1116.58batches/s]\n",
      "Epoch 13/20:  40%|███████▌           | 445/1114 [00:00<00:00, 1114.58batches/s]\n",
      "Epoch 13/20:  50%|█████████▍         | 555/1114 [00:00<00:00, 1110.14batches/s]\n",
      "Epoch 13/20:  60%|███████████▎       | 666/1114 [00:00<00:00, 1110.08batches/s]\n",
      "Epoch 13/20:  70%|█████████████▏     | 775/1114 [00:00<00:00, 1103.96batches/s]\n",
      "Epoch 13/20:  79%|███████████████    | 883/1114 [00:00<00:00, 1096.64batches/s]\n",
      "Epoch 13/20:  89%|████████████████▊  | 987/1114 [00:00<00:00, 1072.32batches/s]\n",
      "Epoch 13/20:  98%|█████████████████▋| 1097/1114 [00:01<00:00, 1080.46batches/s]\n",
      "Epoch 13/20: 100%|██████████████████| 1114/1114 [00:01<00:00, 1088.89batches/s]\n",
      "Epoch 14/20:   0%|                               | 0/1114 [00:00<?, ?batches/s]\n",
      "Epoch 14/20:  10%|█▉                 | 111/1114 [00:00<00:00, 1109.93batches/s]\n",
      "Epoch 14/20:  20%|███▊               | 221/1114 [00:00<00:00, 1106.92batches/s]\n",
      "Epoch 14/20:  30%|█████▋             | 332/1114 [00:00<00:00, 1107.82batches/s]\n",
      "Epoch 14/20:  40%|███████▌           | 442/1114 [00:00<00:00, 1105.44batches/s]\n",
      "Epoch 14/20:  50%|█████████▍         | 552/1114 [00:00<00:00, 1103.79batches/s]\n",
      "Epoch 14/20:  59%|███████████▎       | 662/1114 [00:00<00:00, 1102.63batches/s]\n",
      "Epoch 14/20:  69%|█████████████▏     | 773/1114 [00:00<00:00, 1104.81batches/s]\n",
      "Epoch 14/20:  79%|███████████████    | 883/1114 [00:00<00:00, 1103.34batches/s]\n",
      "Epoch 14/20:  89%|████████████████▉  | 994/1114 [00:00<00:00, 1105.31batches/s]\n",
      "Epoch 14/20:  99%|█████████████████▊| 1104/1114 [00:01<00:00, 1103.70batches/s]\n",
      "Epoch 14/20: 100%|██████████████████| 1114/1114 [00:01<00:00, 1099.64batches/s]\n",
      "Epoch 15/20:   0%|                               | 0/1114 [00:00<?, ?batches/s]\n",
      "Epoch 15/20:  10%|█▉                 | 113/1114 [00:00<00:00, 1129.93batches/s]\n",
      "Epoch 15/20:  20%|███▊               | 222/1114 [00:00<00:00, 1117.63batches/s]\n",
      "Epoch 15/20:  30%|█████▋             | 333/1114 [00:00<00:00, 1115.31batches/s]\n",
      "Epoch 15/20:  40%|███████▌           | 442/1114 [00:00<00:00, 1107.58batches/s]\n",
      "Epoch 15/20:  50%|█████████▍         | 553/1114 [00:00<00:00, 1108.28batches/s]\n",
      "Epoch 15/20:  60%|███████████▎       | 663/1114 [00:00<00:00, 1105.77batches/s]\n",
      "Epoch 15/20:  69%|█████████████▏     | 773/1114 [00:00<00:00, 1104.01batches/s]\n",
      "Epoch 15/20:  79%|███████████████    | 883/1114 [00:00<00:00, 1102.79batches/s]\n",
      "Epoch 15/20:  89%|████████████████▉  | 993/1114 [00:00<00:00, 1101.93batches/s]\n",
      "Epoch 15/20:  99%|█████████████████▊| 1103/1114 [00:01<00:00, 1101.33batches/s]\n",
      "Epoch 15/20: 100%|██████████████████| 1114/1114 [00:01<00:00, 1097.47batches/s]\n",
      "Epoch 16/20:   0%|                               | 0/1114 [00:00<?, ?batches/s]\n",
      "Epoch 16/20:  10%|█▉                 | 111/1114 [00:00<00:00, 1109.93batches/s]\n",
      "Epoch 16/20:  20%|███▋               | 219/1114 [00:00<00:00, 1100.76batches/s]\n",
      "Epoch 16/20:  29%|█████▌             | 326/1114 [00:00<00:00, 1091.33batches/s]\n",
      "Epoch 16/20:  39%|███████▍           | 435/1114 [00:00<00:00, 1090.91batches/s]\n",
      "Epoch 16/20:  49%|█████████▎         | 543/1114 [00:00<00:00, 1087.60batches/s]\n",
      "Epoch 16/20:  59%|███████████▏       | 653/1114 [00:00<00:00, 1091.27batches/s]\n",
      "Epoch 16/20:  69%|█████████████      | 764/1114 [00:00<00:00, 1096.80batches/s]\n",
      "Epoch 16/20:  79%|██████████████▉    | 875/1114 [00:00<00:00, 1100.71batches/s]\n",
      "Epoch 16/20:  89%|████████████████▊  | 986/1114 [00:00<00:00, 1103.46batches/s]\n",
      "Epoch 16/20:  98%|█████████████████▋| 1096/1114 [00:01<00:00, 1102.40batches/s]\n",
      "Epoch 16/20: 100%|██████████████████| 1114/1114 [00:01<00:00, 1091.02batches/s]\n",
      "Epoch 17/20:   0%|                               | 0/1114 [00:00<?, ?batches/s]\n",
      "Epoch 17/20:  10%|█▉                 | 111/1114 [00:00<00:00, 1109.94batches/s]\n",
      "Epoch 17/20:  20%|███▊               | 220/1114 [00:00<00:00, 1103.86batches/s]\n",
      "Epoch 17/20:  30%|█████▋             | 330/1114 [00:00<00:00, 1102.68batches/s]\n",
      "Epoch 17/20:  39%|███████▌           | 440/1114 [00:00<00:00, 1101.86batches/s]\n",
      "Epoch 17/20:  49%|█████████▍         | 551/1114 [00:00<00:00, 1104.27batches/s]\n",
      "Epoch 17/20:  59%|███████████▎       | 661/1114 [00:00<00:00, 1099.66batches/s]\n",
      "Epoch 17/20:  69%|█████████████      | 769/1114 [00:00<00:00, 1093.67batches/s]\n",
      "Epoch 17/20:  79%|██████████████▉    | 879/1114 [00:00<00:00, 1095.54batches/s]\n",
      "Epoch 17/20:  89%|████████████████▊  | 988/1114 [00:00<00:00, 1093.85batches/s]\n",
      "Epoch 17/20:  99%|█████████████████▋| 1098/1114 [00:01<00:00, 1095.67batches/s]\n"
     ]
    },
    {
     "name": "stderr",
     "output_type": "stream",
     "text": [
      "Epoch 17/20: 100%|██████████████████| 1114/1114 [00:01<00:00, 1093.17batches/s]\n",
      "Epoch 18/20:   0%|                               | 0/1114 [00:00<?, ?batches/s]\n",
      "Epoch 18/20:  10%|█▉                 | 111/1114 [00:00<00:00, 1109.93batches/s]\n",
      "Epoch 18/20:  20%|███▊               | 222/1114 [00:00<00:00, 1109.94batches/s]\n",
      "Epoch 18/20:  30%|█████▋             | 334/1114 [00:00<00:00, 1112.92batches/s]\n",
      "Epoch 18/20:  40%|███████▌           | 444/1114 [00:00<00:00, 1108.99batches/s]\n",
      "Epoch 18/20:  50%|█████████▌         | 557/1114 [00:00<00:00, 1115.19batches/s]\n",
      "Epoch 18/20:  60%|███████████▍       | 669/1114 [00:00<00:00, 1116.61batches/s]\n",
      "Epoch 18/20:  70%|█████████████▎     | 781/1114 [00:00<00:00, 1117.61batches/s]\n",
      "Epoch 18/20:  80%|███████████████▏   | 891/1114 [00:00<00:00, 1112.25batches/s]\n",
      "Epoch 18/20:  90%|████████████████▏ | 1003/1114 [00:00<00:00, 1114.54batches/s]\n",
      "Epoch 18/20: 100%|██████████████████| 1114/1114 [00:01<00:00, 1112.82batches/s]\n",
      "Epoch 19/20:   0%|                               | 0/1114 [00:00<?, ?batches/s]\n",
      "Epoch 19/20:  10%|█▉                 | 115/1114 [00:00<00:00, 1149.94batches/s]\n",
      "Epoch 19/20:  20%|███▊               | 226/1114 [00:00<00:00, 1137.64batches/s]\n",
      "Epoch 19/20:  30%|█████▋             | 336/1114 [00:00<00:00, 1126.06batches/s]\n",
      "Epoch 19/20:  40%|███████▌           | 447/1114 [00:00<00:00, 1121.17batches/s]\n",
      "Epoch 19/20:  50%|█████████▌         | 559/1114 [00:00<00:00, 1120.80batches/s]\n",
      "Epoch 19/20:  60%|███████████▍       | 669/1114 [00:00<00:00, 1114.46batches/s]\n",
      "Epoch 19/20:  70%|█████████████▎     | 781/1114 [00:00<00:00, 1116.10batches/s]\n",
      "Epoch 19/20:  80%|███████████████▏   | 892/1114 [00:00<00:00, 1114.24batches/s]\n",
      "Epoch 19/20:  90%|████████████████▏ | 1001/1114 [00:00<00:00, 1106.84batches/s]\n",
      "Epoch 19/20: 100%|█████████████████▉| 1113/1114 [00:01<00:00, 1110.73batches/s]\n",
      "Epoch 19/20: 100%|██████████████████| 1114/1114 [00:01<00:00, 1110.60batches/s]\n",
      "Epoch 20/20:   0%|                               | 0/1114 [00:00<?, ?batches/s]\n",
      "Epoch 20/20:  10%|█▉                 | 114/1114 [00:00<00:00, 1139.93batches/s]\n",
      "Epoch 20/20:  20%|███▊               | 224/1114 [00:00<00:00, 1127.63batches/s]\n",
      "Epoch 20/20:  27%|█████▏             | 306/1114 [00:00<00:00, 1006.08batches/s]\n",
      "Epoch 20/20:  36%|███████▏            | 402/1114 [00:00<00:00, 991.78batches/s]\n",
      "Epoch 20/20:  46%|████████▋          | 513/1114 [00:00<00:00, 1024.50batches/s]\n",
      "Epoch 20/20:  56%|██████████▋        | 625/1114 [00:00<00:00, 1051.38batches/s]\n",
      "Epoch 20/20:  66%|████████████▌      | 736/1114 [00:00<00:00, 1068.28batches/s]\n",
      "Epoch 20/20:  76%|██████████████▍    | 847/1114 [00:00<00:00, 1080.45batches/s]\n",
      "Epoch 20/20:  86%|████████████████▎  | 958/1114 [00:00<00:00, 1089.13batches/s]\n",
      "Epoch 20/20:  96%|█████████████████▎| 1070/1114 [00:01<00:00, 1098.19batches/s]\n",
      "Epoch 20/20: 100%|██████████████████| 1114/1114 [00:01<00:00, 1064.95batches/s]"
     ]
    },
    {
     "name": "stdout",
     "output_type": "stream",
     "text": [
      "Nice Job! Test Accuracy is 0.8166999816894531\n"
     ]
    }
   ],
   "source": [
    "### DON'T MODIFY ANYTHING BELOW ### 测试样板精度\n",
    "# The accuracy measured against the test set\n",
    "test_accuracy = 0.0\n",
    "\n",
    "with tf.Session() as session:\n",
    "    \n",
    "    session.run(init)\n",
    "    batch_count = int(math.ceil(len(train_features)/batch_size))\n",
    "\n",
    "    for epoch_i in range(epochs):\n",
    "        \n",
    "        # Progress bar\n",
    "        batches_pbar = tqdm(range(batch_count), desc='Epoch {:>2}/{}'.format(epoch_i+1, epochs), unit='batches')\n",
    "        \n",
    "        # The training cycle\n",
    "        for batch_i in batches_pbar:\n",
    "            # Get a batch of training features and labels\n",
    "            batch_start = batch_i*batch_size\n",
    "            batch_features = train_features[batch_start:batch_start + batch_size]\n",
    "            batch_labels = train_labels[batch_start:batch_start + batch_size]\n",
    "\n",
    "            # Run optimizer\n",
    "            _ = session.run(optimizer, feed_dict={features: batch_features, labels: batch_labels})\n",
    "\n",
    "        # Check accuracy against Test data\n",
    "        test_accuracy = session.run(accuracy, feed_dict=test_feed_dict)\n",
    "\n",
    "\n",
    "assert test_accuracy >= 0.80, 'Test accuracy at {}, should be equal to or greater than 0.80'.format(test_accuracy)\n",
    "print('Nice Job! Test Accuracy is {}'.format(test_accuracy))"
   ]
  },
  {
   "cell_type": "markdown",
   "metadata": {},
   "source": [
    "# Multiple layers\n",
    "Good job!  You built a one layer TensorFlow network!  However, you might want to build more than one layer.  This is deep learning after all!  In the next section, you will start to satisfy your need for more layers."
   ]
  }
 ],
 "metadata": {
  "anaconda-cloud": {},
  "kernelspec": {
   "display_name": "Python 3",
   "language": "python",
   "name": "python3"
  },
  "language_info": {
   "codemirror_mode": {
    "name": "ipython",
    "version": 3
   },
   "file_extension": ".py",
   "mimetype": "text/x-python",
   "name": "python",
   "nbconvert_exporter": "python",
   "pygments_lexer": "ipython3",
   "version": "3.5.4"
  }
 },
 "nbformat": 4,
 "nbformat_minor": 1
}
