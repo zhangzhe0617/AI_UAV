{
 "cells": [
  {
   "cell_type": "markdown",
   "metadata": {},
   "source": [
    "# 采用rnn+lstm的设计实现预测sin()函数功能\n",
    "## 设计采样序列实现"
   ]
  },
  {
   "cell_type": "code",
   "execution_count": null,
   "metadata": {},
   "outputs": [],
   "source": [
    "import tensorflow as tf\n",
    "import numpy as np\n",
    "import matplotlib.pyplot as plt\n",
    "%matplotlib inline"
   ]
  },
  {
   "cell_type": "code",
   "execution_count": 2,
   "metadata": {},
   "outputs": [],
   "source": [
    "# 训练数据个数\n",
    "training_examples = 10000\n",
    "# 测试数据个数\n",
    "testing_examples = 1000\n",
    "# sin函数的采样间隔\n",
    "sample_gap = 0.01\n",
    "# 每个训练样本的长度\n",
    "timesteps = 20"
   ]
  },
  {
   "cell_type": "markdown",
   "metadata": {},
   "source": [
    "## 生成训练数据和训练标签"
   ]
  },
  {
   "cell_type": "code",
   "execution_count": 3,
   "metadata": {},
   "outputs": [],
   "source": [
    "def generate_data(seq):#生成训练数据，即训练数据的输入是20个时间步长的时序数据，输出标签是第21个时序时刻的seq数据\n",
    "    '''\n",
    "    生成数据，seq是一序列的连续的sin的值\n",
    "    '''\n",
    "    X = []\n",
    "    y = []\n",
    "\n",
    "    # 用前 timesteps 个sin值，估计第 timesteps+1 个\n",
    "    # 因此， 输入 X 是一段序列，输出 y 是一个值 \n",
    "    for i in range(len(seq) - timesteps -1):#生成X是一个二维数组，即20元素的一个序列，N个序列\n",
    "        X.append(seq[i : i+timesteps])   \n",
    "        y.append(seq[i+timesteps])    #输出y是一维数组 \n",
    "\n",
    "    return np.array(X, dtype=np.float32), np.array(y, dtype=np.float32)\n"
   ]
  },
  {
   "cell_type": "code",
   "execution_count": 4,
   "metadata": {},
   "outputs": [
    {
     "data": {
      "text/plain": [
       "array([  0.        ,   1.01010101,   2.02020202,   3.03030303,\n",
       "         4.04040404,   5.05050505,   6.06060606,   7.07070707,\n",
       "         8.08080808,   9.09090909,  10.1010101 ,  11.11111111,\n",
       "        12.12121212,  13.13131313,  14.14141414,  15.15151515,\n",
       "        16.16161616,  17.17171717,  18.18181818,  19.19191919,\n",
       "        20.2020202 ,  21.21212121,  22.22222222,  23.23232323,\n",
       "        24.24242424,  25.25252525,  26.26262626,  27.27272727,\n",
       "        28.28282828,  29.29292929,  30.3030303 ,  31.31313131,\n",
       "        32.32323232,  33.33333333,  34.34343434,  35.35353535,\n",
       "        36.36363636,  37.37373737,  38.38383838,  39.39393939,\n",
       "        40.4040404 ,  41.41414141,  42.42424242,  43.43434343,\n",
       "        44.44444444,  45.45454545,  46.46464646,  47.47474747,\n",
       "        48.48484848,  49.49494949,  50.50505051,  51.51515152,\n",
       "        52.52525253,  53.53535354,  54.54545455,  55.55555556,\n",
       "        56.56565657,  57.57575758,  58.58585859,  59.5959596 ,\n",
       "        60.60606061,  61.61616162,  62.62626263,  63.63636364,\n",
       "        64.64646465,  65.65656566,  66.66666667,  67.67676768,\n",
       "        68.68686869,  69.6969697 ,  70.70707071,  71.71717172,\n",
       "        72.72727273,  73.73737374,  74.74747475,  75.75757576,\n",
       "        76.76767677,  77.77777778,  78.78787879,  79.7979798 ,\n",
       "        80.80808081,  81.81818182,  82.82828283,  83.83838384,\n",
       "        84.84848485,  85.85858586,  86.86868687,  87.87878788,\n",
       "        88.88888889,  89.8989899 ,  90.90909091,  91.91919192,\n",
       "        92.92929293,  93.93939394,  94.94949495,  95.95959596,\n",
       "        96.96969697,  97.97979798,  98.98989899, 100.        ])"
      ]
     },
     "execution_count": 4,
     "metadata": {},
     "output_type": "execute_result"
    }
   ],
   "source": [
    "l=np.linspace(0, 100, 100) \n",
    "l"
   ]
  },
  {
   "cell_type": "code",
   "execution_count": 5,
   "metadata": {},
   "outputs": [],
   "source": [
    "test_start = training_examples*sample_gap#10000*0.01=100\n",
    "test_end = test_start + testing_examples*sample_gap#100+1000*0.01=110\n",
    "\n",
    "train_x, train_y = generate_data( np.sin( np.linspace(0, test_start, training_examples) ) ) #即采用10000个生成训练数据\n",
    "test_x, test_y = generate_data( np.sin( np.linspace(test_start, test_end, testing_examples) ) )\n",
    "#采用1000个点生成测试数据，并且不能与训练数据重复\n"
   ]
  },
  {
   "cell_type": "code",
   "execution_count": 6,
   "metadata": {
    "scrolled": false
   },
   "outputs": [
    {
     "name": "stdout",
     "output_type": "stream",
     "text": [
      "(9979, 20) (9979,) (979, 20) (979,)\n"
     ]
    }
   ],
   "source": [
    "print(np.shape(train_x),np.shape(train_y),np.shape(test_x),np.shape(test_y))"
   ]
  },
  {
   "cell_type": "markdown",
   "metadata": {},
   "source": [
    "## 构建rnn网络 "
   ]
  },
  {
   "cell_type": "code",
   "execution_count": 7,
   "metadata": {},
   "outputs": [],
   "source": [
    "lstm_size = 20#lstm_size代表的是隐藏层中lstm这种cell的size数，可以理解为隐藏单元数，注意lstm_size数和time_step数目的区别，一个是时间维度，一个是隐层lstm单元维度\n",
    "#可以理解为输入数据维度为64*20*1,20代表时间序列，即时间维度\n",
    "#lstm_size代表数据维度4，即4个lstm并行处理，即每个1对应的输出是4，则总输出为64*20*4\n",
    "lstm_layers = 2\n",
    "batch_size = 64"
   ]
  },
  {
   "cell_type": "code",
   "execution_count": 8,
   "metadata": {},
   "outputs": [],
   "source": [
    "x = tf.placeholder(tf.float32, [None, timesteps, 1], name='input_x')#dynamic_rnn需要三维的数据输入，即64*20*1，1代表是输入单个时间步长下输入数据维度为1\n",
    "y_ = tf.placeholder(tf.float32, [None, 1], name='input_y')\n",
    "keep_prob = tf.placeholder(tf.float32, name='keep_prob')\n"
   ]
  },
  {
   "cell_type": "markdown",
   "metadata": {},
   "source": [
    "### 建立lstm层\n"
   ]
  },
  {
   "cell_type": "code",
   "execution_count": 9,
   "metadata": {},
   "outputs": [
    {
     "name": "stdout",
     "output_type": "stream",
     "text": [
      "WARNING:tensorflow:From c:\\users\\zhangwenqi\\appdata\\local\\programs\\python\\python35\\lib\\site-packages\\tensorflow\\contrib\\learn\\python\\learn\\datasets\\base.py:198: retry (from tensorflow.contrib.learn.python.learn.datasets.base) is deprecated and will be removed in a future version.\n",
      "Instructions for updating:\n",
      "Use the retry module or similar alternatives.\n",
      "(?, 20, 20)\n",
      "(?, 20)\n"
     ]
    }
   ],
   "source": [
    "# 有lstm_size个单元\n",
    "lstm = tf.contrib.rnn.BasicLSTMCell(lstm_size)\n",
    "# 添加dropout\n",
    "drop = tf.contrib.rnn.DropoutWrapper(lstm, output_keep_prob=keep_prob)\n",
    "# 一层不够，就多来几层\n",
    "def lstm_cell():\n",
    "    return tf.contrib.rnn.BasicLSTMCell(lstm_size)\n",
    "cell = tf.contrib.rnn.MultiRNNCell([ lstm_cell() for _ in range(lstm_layers)])\n",
    "\n",
    "# 进行forward，得到隐层的输出\n",
    "outputs, final_state = tf.nn.dynamic_rnn(cell, x, dtype=tf.float32)\n",
    "#dynamic_rnn函数实现了执行多步时间，这里的时间步长即输入序列x的长度20， outputs是time_steps步里所有的输出\n",
    "#tf.nn.dynamic_rnn中输入数据的格式为(batch_size, time_steps, input_size)，其中time_steps表示序列本身的长度，\n",
    "#最后的input_size就表示输入数据单个序列单个时间维度上固有的长度\n",
    "#cell代表的是rnn中的cell，这里选择的是lstm，并且lstm的unit_num是由lstm_size设置\n",
    "# 在本问题中只关注最后一个时刻的输出结果，该结果为下一个时刻的预测值\n",
    "print(np.shape(outputs))# 64*20*4为隐层输出维度   outputs.shape = [batch_size, timestep_size, hidden_size] \n",
    "outputs = outputs[:,-1,:]#即时间维度上取最后一个时间步长的数据\n",
    "print(np.shape(outputs)) #64*4为最后一个时刻的输出  ， h_state = outputs[:, -1, :] 作为最后输出， 最后输出维度是 [batch_size, hidden_size]\n",
    "#得到的outputs就是time_steps步里所有的输出。它的形状为(batch_size, time_steps, cell.output_size)。即64*20*1\n",
    "#state是最后一步的隐状态，它的形状为(batch_size, cell.state_size)。\n",
    "# 定义输出层, 输出值[-1,1]，因此激活函数用tanh\n",
    "predictions = tf.contrib.layers.fully_connected(outputs, 1, activation_fn=tf.tanh)#采用全连接层\n",
    "# 定义损失函数\n",
    "cost = tf.losses.mean_squared_error(y_, predictions)\n",
    "# 定义优化步骤\n",
    "optimizer = tf.train.AdamOptimizer().minimize(cost)\n"
   ]
  },
  {
   "cell_type": "markdown",
   "metadata": {},
   "source": [
    "## 设计一个迭代器 实现batch功能"
   ]
  },
  {
   "cell_type": "code",
   "execution_count": 10,
   "metadata": {},
   "outputs": [],
   "source": [
    "# 获取一个batch_size大小的数据  ,每次batch为64组数据\n",
    "def get_batches(X, y, batch_size=64):\n",
    "    for i in range(0, len(X), batch_size):\n",
    "        begin_i = i\n",
    "        end_i = i + batch_size if (i+batch_size) < len(X) else len(X)\n",
    "\n",
    "        yield X[begin_i:end_i,:], y[begin_i:end_i]\n"
   ]
  },
  {
   "cell_type": "code",
   "execution_count": 11,
   "metadata": {},
   "outputs": [
    {
     "name": "stdout",
     "output_type": "stream",
     "text": [
      "(64, 20) (64,)\n"
     ]
    }
   ],
   "source": [
    "batch=get_batches(train_x,train_y)\n",
    "batch_x,batch_y=next(batch)\n",
    "print(np.shape(batch_x),np.shape(batch_y))"
   ]
  },
  {
   "cell_type": "markdown",
   "metadata": {},
   "source": [
    "### seq是一个一维的10000的数组，train_x是一个10000*20的二维数组，batch_x是一个64*20的二维数组，为每次输入数据，"
   ]
  },
  {
   "cell_type": "code",
   "execution_count": 12,
   "metadata": {},
   "outputs": [
    {
     "name": "stdout",
     "output_type": "stream",
     "text": [
      "Epochs:0/20 Iteration:100 Train loss: 0.01217230\n",
      "Epochs:1/20 Iteration:200 Train loss: 0.01994674\n",
      "Epochs:1/20 Iteration:300 Train loss: 0.00327074\n",
      "Epochs:2/20 Iteration:400 Train loss: 0.00536955\n",
      "Epochs:3/20 Iteration:500 Train loss: 0.00418423\n",
      "Epochs:3/20 Iteration:600 Train loss: 0.00195003\n",
      "Epochs:4/20 Iteration:700 Train loss: 0.00278126\n",
      "Epochs:5/20 Iteration:800 Train loss: 0.00024602\n",
      "Epochs:5/20 Iteration:900 Train loss: 0.00175645\n",
      "Epochs:6/20 Iteration:1000 Train loss: 0.00027043\n",
      "Epochs:7/20 Iteration:1100 Train loss: 0.00212086\n",
      "Epochs:7/20 Iteration:1200 Train loss: 0.00023190\n",
      "Epochs:8/20 Iteration:1300 Train loss: 0.00091446\n",
      "Epochs:8/20 Iteration:1400 Train loss: 0.00007543\n",
      "Epochs:9/20 Iteration:1500 Train loss: 0.00230176\n",
      "Epochs:10/20 Iteration:1600 Train loss: 0.00038034\n",
      "Epochs:10/20 Iteration:1700 Train loss: 0.00154190\n",
      "Epochs:11/20 Iteration:1800 Train loss: 0.00027213\n",
      "Epochs:12/20 Iteration:1900 Train loss: 0.00141279\n",
      "Epochs:12/20 Iteration:2000 Train loss: 0.00006687\n",
      "Epochs:13/20 Iteration:2100 Train loss: 0.00139825\n",
      "Epochs:14/20 Iteration:2200 Train loss: 0.00096368\n",
      "Epochs:14/20 Iteration:2300 Train loss: 0.00076705\n",
      "Epochs:15/20 Iteration:2400 Train loss: 0.00056318\n",
      "Epochs:16/20 Iteration:2500 Train loss: 0.00037301\n",
      "Epochs:16/20 Iteration:2600 Train loss: 0.00008815\n",
      "Epochs:17/20 Iteration:2700 Train loss: 0.00279221\n",
      "Epochs:17/20 Iteration:2800 Train loss: 0.00058038\n",
      "Epochs:18/20 Iteration:2900 Train loss: 0.00252776\n",
      "Epochs:19/20 Iteration:3000 Train loss: 0.00088052\n",
      "Epochs:19/20 Iteration:3100 Train loss: 0.00019918\n"
     ]
    }
   ],
   "source": [
    "epochs = 20\n",
    "session = tf.Session()\n",
    "with session.as_default() as sess:\n",
    "    # 初始化变量\n",
    "    tf.global_variables_initializer().run()\n",
    "\n",
    "    iteration = 1\n",
    "\n",
    "    for e in range(epochs):\n",
    "        for xs, ys in get_batches(train_x, train_y, batch_size):#相当于next（batch） ，迭代器\n",
    "            # xs[:,:,None] 增加一个维度，例如[64, 20] ==> [64, 20, 1]，为了对应输入\n",
    "            # 同理 ys[:,None]\n",
    "            feed_dict = { x:xs[:,:,None], y_:ys[:,None], keep_prob:.5 }#这里的x是64*20，在占位符中定义的是64*20*1\n",
    "\n",
    "            loss, _ = sess.run([cost, optimizer], feed_dict=feed_dict)\n",
    "\n",
    "            if iteration % 100 == 0:\n",
    "                print('Epochs:{}/{}'.format(e, epochs),\n",
    "                      'Iteration:{}'.format(iteration),\n",
    "                      'Train loss: {:.8f}'.format(loss))\n",
    "            iteration += 1\n"
   ]
  },
  {
   "cell_type": "code",
   "execution_count": 13,
   "metadata": {},
   "outputs": [
    {
     "data": {
      "image/png": "[encoded data removed]",
      "text/plain": [
       "<Figure size 432x288 with 1 Axes>"
      ]
     },
     "metadata": {
      "needs_background": "light"
     },
     "output_type": "display_data"
    }
   ],
   "source": [
    "with session.as_default() as sess:\n",
    "    ## 测试结果\n",
    "    feed_dict = {x:test_x[:,:,None], keep_prob:1.0}\n",
    "    results = sess.run(predictions, feed_dict=feed_dict)\n",
    "    plt.plot(results,'r', label='predicted')\n",
    "    plt.plot(test_y, 'g--', label='real sin')\n",
    "    plt.legend()\n",
    "    plt.show()\n"
   ]
  },
  {
   "cell_type": "code",
   "execution_count": null,
   "metadata": {},
   "outputs": [],
   "source": []
  }
 ],
 "metadata": {
  "kernelspec": {
   "display_name": "Python 3",
   "language": "python",
   "name": "python3"
  },
  "language_info": {
   "codemirror_mode": {
    "name": "ipython",
    "version": 3
   },
   "file_extension": ".py",
   "mimetype": "text/x-python",
   "name": "python",
   "nbconvert_exporter": "python",
   "pygments_lexer": "ipython3",
   "version": "3.5.4"
  }
 },
 "nbformat": 4,
 "nbformat_minor": 2
}
