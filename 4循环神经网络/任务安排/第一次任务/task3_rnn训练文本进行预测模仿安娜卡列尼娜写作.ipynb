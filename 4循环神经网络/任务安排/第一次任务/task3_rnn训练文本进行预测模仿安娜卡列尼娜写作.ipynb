{
 "cells": [
  {
   "cell_type": "markdown",
   "metadata": {},
   "source": [
    "# Anna KaRNNa\n",
    "\n",
    "In this notebook, we'll build a character-wise RNN trained on Anna Karenina, one of my all-time favorite books. It'll be able to generate new text based on the text from the book.\n",
    "\n",
    "This network is based off of Andrej Karpathy's [post on RNNs](http://karpathy.github.io/2015/05/21/rnn-effectiveness/) and [implementation in Torch](https://github.com/karpathy/char-rnn). Also, some information [here at r2rt](http://r2rt.com/recurrent-neural-networks-in-tensorflow-ii.html) and from [Sherjil Ozair](https://github.com/sherjilozair/char-rnn-tensorflow) on GitHub. Below is the general architecture of the character-wise RNN.\n",
    "\n",
    "![1.png](c:/Users/zhangwenqi/Desktop/1.png)"
   ]
  },
  {
   "cell_type": "code",
   "execution_count": 1,
   "metadata": {},
   "outputs": [],
   "source": [
    "import time\n",
    "from collections import namedtuple\n",
    "\n",
    "import numpy as np\n",
    "import tensorflow as tf"
   ]
  },
  {
   "cell_type": "markdown",
   "metadata": {},
   "source": [
    "## 建立单词表"
   ]
  },
  {
   "cell_type": "markdown",
   "metadata": {},
   "source": [
    "First we'll load the text file and convert it into integers for our network to use. Here I'm creating a couple dictionaries to convert the characters to and from integers. Encoding the characters as integers makes it easier to use as input in the network.\n",
    "载入文本,建立单词表和单词表索引"
   ]
  },
  {
   "cell_type": "code",
   "execution_count": 2,
   "metadata": {},
   "outputs": [],
   "source": [
    "with open(r'F:\\uav+ai\\神经网络test\\第三课循环神经网络\\3LSTM长短记忆单元\\intro-to-rnns\\anna.txt', 'r') as f:\n",
    "    text=f.read()\n",
    "vocab = sorted(set(text))# 采用set集合建立单词表  存有abcd-z的字母表\n",
    "vocab_to_int = {c: i for i, c in enumerate(vocab)} #为单词表建立序号 \n",
    "int_to_vocab = dict(enumerate(vocab))\n",
    "encoded = np.array([vocab_to_int[c] for c in text], dtype=np.int32)#按照单词表索引，对应每个字母建立编码"
   ]
  },
  {
   "cell_type": "markdown",
   "metadata": {},
   "source": [
    "Let's check out the first 100 characters, make sure everything is peachy. According to the [American Book Review](http://americanbookreview.org/100bestlines.asp), this is the 6th best first line of a book ever."
   ]
  },
  {
   "cell_type": "code",
   "execution_count": 3,
   "metadata": {},
   "outputs": [
    {
     "data": {
      "text/plain": [
       "'Chapter 1\\n\\n\\nHappy families are all alike; every unhappy family is unhappy in its own\\nway.\\n\\nEverythin'"
      ]
     },
     "execution_count": 3,
     "metadata": {},
     "output_type": "execute_result"
    }
   ],
   "source": [
    "text[:100]"
   ]
  },
  {
   "cell_type": "markdown",
   "metadata": {},
   "source": [
    "And we can see the characters encoded as integers."
   ]
  },
  {
   "cell_type": "code",
   "execution_count": 4,
   "metadata": {},
   "outputs": [
    {
     "data": {
      "text/plain": [
       "array([31, 64, 57, 72, 76, 61, 74,  1, 16,  0,  0,  0, 36, 57, 72, 72, 81,\n",
       "        1, 62, 57, 69, 65, 68, 65, 61, 75,  1, 57, 74, 61,  1, 57, 68, 68,\n",
       "        1, 57, 68, 65, 67, 61, 26,  1, 61, 78, 61, 74, 81,  1, 77, 70, 64,\n",
       "       57, 72, 72, 81,  1, 62, 57, 69, 65, 68, 81,  1, 65, 75,  1, 77, 70,\n",
       "       64, 57, 72, 72, 81,  1, 65, 70,  1, 65, 76, 75,  1, 71, 79, 70,  0,\n",
       "       79, 57, 81, 13,  0,  0, 33, 78, 61, 74, 81, 76, 64, 65, 70])"
      ]
     },
     "execution_count": 4,
     "metadata": {},
     "output_type": "execute_result"
    }
   ],
   "source": [
    "encoded[:100]"
   ]
  },
  {
   "cell_type": "code",
   "execution_count": 5,
   "metadata": {},
   "outputs": [
    {
     "data": {
      "text/plain": [
       "1985223"
      ]
     },
     "execution_count": 5,
     "metadata": {},
     "output_type": "execute_result"
    }
   ],
   "source": [
    "len(encoded)"
   ]
  },
  {
   "cell_type": "markdown",
   "metadata": {},
   "source": [
    "Since the network is working with individual characters, it's similar to a classification problem in which we are trying to predict the next character from the previous text.  Here's how many 'classes' our network has to pick from."
   ]
  },
  {
   "cell_type": "code",
   "execution_count": 6,
   "metadata": {},
   "outputs": [
    {
     "data": {
      "text/plain": [
       "83"
      ]
     },
     "execution_count": 6,
     "metadata": {},
     "output_type": "execute_result"
    }
   ],
   "source": [
    "len(vocab)"
   ]
  },
  {
   "cell_type": "markdown",
   "metadata": {},
   "source": [
    "## Making training mini-batches 1、创建迭代器形成批次数据2、将一维数据改成二维\n",
    "\n",
    "Here is where we'll make our mini-batches for training. Remember that we want our batches to be multiple sequences of some desired number of sequence steps. Considering a simple example, our batches would look like this:\n",
    "\n",
    "<img src=\"assets/sequence_batching@1x.png\" width=500px>\n",
    "\n",
    "\n",
    "<br>\n",
    "\n",
    "We start with our text encoded as integers in one long array in `encoded`. Let's create a function that will give us an iterator for our batches. I like using [generator functions](https://jeffknupp.com/blog/2013/04/07/improve-your-python-yield-and-generators-explained/) to do this. Then we can pass `encoded` into this function and get our batch generator. 创建一个迭代器来实现批次出序列数据\n",
    "\n",
    "The first thing we need to do is discard some of the text so we only have completely full batches. Each batch contains $N \\times M$ characters, where $N$ is the batch size (the number of sequences) and $M$ is the number of steps. Then, to get the total number of batches, $K$, we can make from the array `arr`, you divide the length of `arr` by the number of characters per batch. Once you know the number of batches, you can get the total number of characters to keep from `arr`, $N * M * K$.  N代表批次分割数，即转化为二维数组的size大小，M代表每个batch的行元素，k代表总的步数，即batch数\n",
    "\n",
    "After that, we need to split `arr` into $N$ sequences. You can do this using `arr.reshape(size)` where `size` is a tuple containing the dimensions sizes of the reshaped array. We know we want $N$ sequences (`batch_size` below), let's make that the size of the first dimension. For the second dimension, you can use `-1` as a placeholder in the size, it'll fill up the array with the appropriate data for you. After this, you should have an array that is $N \\times (M * K)$.\n",
    "\n",
    "Now that we have this array, we can iterate through it to get our batches. The idea is each batch is a $N \\times M$ window on the $N \\times (M * K)$ array. For each subsequent batch, the window moves over by `n_steps`. We also want to create both the input and target arrays. Remember that the targets are the inputs shifted over one character. 输出序列是输入序列的时序下一个平移，输入序列是以n_step间隔取，即输入是n*m\n",
    "\n",
    "The way I like to do this window is use `range` to take steps of size `n_steps` from $0$ to `arr.shape[1]`, the total number of steps in each sequence. That way, the integers you get from `range` always point to the start of a batch, and each window is `n_steps` wide.\n",
    "\n",
    "> **Exercise:** Write the code for creating batches in the function below. The exercises in this notebook _will not be easy_. I've provided a notebook with solutions alongside this notebook. If you get stuck, checkout the solutions. The most important thing is that you don't copy and paste the code into here, **type out the solution code yourself.**"
   ]
  },
  {
   "cell_type": "code",
   "execution_count": 7,
   "metadata": {},
   "outputs": [],
   "source": [
    "def get_batches(arr, batch_size, n_steps):  #创造迭代器，对文本序列形成批次分割和迭代，可以调用next得到下批次的序列文本编码\n",
    "    # x代表当前输入 y代表下一个序列输入的序列，即也是标签值\n",
    "    '''Create a generator that returns batches of size\n",
    "       batch_size x n_steps from arr.\n",
    "       \n",
    "       Arguments\n",
    "       ---------\n",
    "       arr: Array you want to make batches from\n",
    "       batch_size: Batch size, the number of sequences per batch\n",
    "       n_steps: Number of sequence steps per batch\n",
    "    '''\n",
    "    # Get the number of characters per batch and number of batches we can make\n",
    "    chars_per_batch = batch_size * n_steps#相当于N*M 10*50\n",
    "    n_batches = len(arr)//chars_per_batch  #1985223/50=39704\n",
    "    \n",
    "    # Keep only enough characters to make full batches\n",
    "    arr = arr[:n_batches * chars_per_batch]#取整数个数，统一格式 39704*500=1985200\n",
    "    \n",
    "    # Reshape into batch_size rows\n",
    "    arr = arr.reshape((batch_size, -1))#把arr序列变成了二维数组 为10*198520\n",
    "    \n",
    "    for n in range(0, arr.shape[1], n_steps):#range(0,198520,50)即每隔50个步长取，最后形成10*50的x输出序列，共198520/50个batch\n",
    "        # The features\n",
    "        x = arr[:, n:n+n_steps] #x是10*50的二维数组\n",
    "        # The targets, shifted by one\n",
    "        y_temp = arr[:, n+1:n+n_steps+1] #y比x时序上往后推一步，这样算y数组会少一个元素，需要补齐\n",
    "        \n",
    "        # For the very last batch, y will be one character short at the end of \n",
    "        # the sequences which breaks things. To get around this, I'll make an \n",
    "        # array of the appropriate size first, of all zeros, then add the targets.\n",
    "        # This will introduce a small artifact in the last batch, but it won't matter.\n",
    "        y = np.zeros(x.shape, dtype=x.dtype)\n",
    "        y[:,:y_temp.shape[1]] = y_temp\n",
    "        \n",
    "        yield x, y"
   ]
  },
  {
   "cell_type": "markdown",
   "metadata": {},
   "source": [
    "Now I'll make my data sets and we can check out what's going on here. Here I'm going to use a batch size of 10 and 50 sequence steps."
   ]
  },
  {
   "cell_type": "code",
   "execution_count": 8,
   "metadata": {},
   "outputs": [
    {
     "name": "stdout",
     "output_type": "stream",
     "text": [
      "x\n",
      " [[31 64 57 72 76 61 74  1 16  0  0  0 36 57 72 72 81  1 62 57 69 65 68 65\n",
      "  61 75  1 57 74 61  1 57 68 68  1 57 68 65 67 61 26  1 61 78 61 74 81  1\n",
      "  77 70]\n",
      " [ 1 57 69  1 70 71 76  1 63 71 65 70 63  1 76 71  1 75 76 57 81 11  3  1\n",
      "  57 70 75 79 61 74 61 60  1 29 70 70 57 11  1 75 69 65 68 65 70 63 11  1\n",
      "  58 77]\n",
      " [78 65 70 13  0  0  3 53 61 75 11  1 65 76  7 75  1 75 61 76 76 68 61 60\n",
      "  13  1 48 64 61  1 72 74 65 59 61  1 65 75  1 69 57 63 70 65 62 65 59 61\n",
      "  70 76]\n",
      " [70  1 60 77 74 65 70 63  1 64 65 75  1 59 71 70 78 61 74 75 57 76 65 71\n",
      "  70  1 79 65 76 64  1 64 65 75  0 58 74 71 76 64 61 74  1 79 57 75  1 76\n",
      "  64 65]\n",
      " [ 1 65 76  1 65 75 11  1 75 65 74  2  3  1 75 57 65 60  1 76 64 61  1 71\n",
      "  68 60  1 69 57 70 11  1 63 61 76 76 65 70 63  1 77 72 11  1 57 70 60  0\n",
      "  59 74]\n",
      " [ 1 37 76  1 79 57 75  0 71 70 68 81  1 79 64 61 70  1 76 64 61  1 75 57\n",
      "  69 61  1 61 78 61 70 65 70 63  1 64 61  1 59 57 69 61  1 76 71  1 76 64\n",
      "  61 65]\n",
      " [64 61 70  1 59 71 69 61  1 62 71 74  1 69 61 11  3  1 75 64 61  1 75 57\n",
      "  65 60 11  1 57 70 60  1 79 61 70 76  1 58 57 59 67  1 65 70 76 71  1 76\n",
      "  64 61]\n",
      " [26  1 58 77 76  1 70 71 79  1 75 64 61  1 79 71 77 68 60  1 74 61 57 60\n",
      "  65 68 81  1 64 57 78 61  1 75 57 59 74 65 62 65 59 61 60 11  1 70 71 76\n",
      "   1 69]\n",
      " [76  1 65 75 70  7 76 13  1 48 64 61 81  7 74 61  1 72 74 71 72 74 65 61\n",
      "  76 71 74 75  1 71 62  1 57  1 75 71 74 76 11  0 58 77 76  1 79 61  7 74\n",
      "  61  1]\n",
      " [ 1 75 57 65 60  1 76 71  1 64 61 74 75 61 68 62 11  1 57 70 60  1 58 61\n",
      "  63 57 70  1 57 63 57 65 70  1 62 74 71 69  1 76 64 61  1 58 61 63 65 70\n",
      "  70 65]]\n",
      "\n",
      "y\n",
      " [[64 57 72 76 61 74  1 16  0  0  0 36 57 72 72 81  1 62 57 69 65 68 65 61\n",
      "  75  1 57 74 61  1 57 68 68  1 57 68 65 67 61 26  1 61 78 61 74 81  1 77\n",
      "  70 64]\n",
      " [57 69  1 70 71 76  1 63 71 65 70 63  1 76 71  1 75 76 57 81 11  3  1 57\n",
      "  70 75 79 61 74 61 60  1 29 70 70 57 11  1 75 69 65 68 65 70 63 11  1 58\n",
      "  77 76]\n",
      " [65 70 13  0  0  3 53 61 75 11  1 65 76  7 75  1 75 61 76 76 68 61 60 13\n",
      "   1 48 64 61  1 72 74 65 59 61  1 65 75  1 69 57 63 70 65 62 65 59 61 70\n",
      "  76 26]\n",
      " [ 1 60 77 74 65 70 63  1 64 65 75  1 59 71 70 78 61 74 75 57 76 65 71 70\n",
      "   1 79 65 76 64  1 64 65 75  0 58 74 71 76 64 61 74  1 79 57 75  1 76 64\n",
      "  65 75]\n",
      " [65 76  1 65 75 11  1 75 65 74  2  3  1 75 57 65 60  1 76 64 61  1 71 68\n",
      "  60  1 69 57 70 11  1 63 61 76 76 65 70 63  1 77 72 11  1 57 70 60  0 59\n",
      "  74 71]\n",
      " [37 76  1 79 57 75  0 71 70 68 81  1 79 64 61 70  1 76 64 61  1 75 57 69\n",
      "  61  1 61 78 61 70 65 70 63  1 64 61  1 59 57 69 61  1 76 71  1 76 64 61\n",
      "  65 74]\n",
      " [61 70  1 59 71 69 61  1 62 71 74  1 69 61 11  3  1 75 64 61  1 75 57 65\n",
      "  60 11  1 57 70 60  1 79 61 70 76  1 58 57 59 67  1 65 70 76 71  1 76 64\n",
      "  61  1]\n",
      " [ 1 58 77 76  1 70 71 79  1 75 64 61  1 79 71 77 68 60  1 74 61 57 60 65\n",
      "  68 81  1 64 57 78 61  1 75 57 59 74 65 62 65 59 61 60 11  1 70 71 76  1\n",
      "  69 61]\n",
      " [ 1 65 75 70  7 76 13  1 48 64 61 81  7 74 61  1 72 74 71 72 74 65 61 76\n",
      "  71 74 75  1 71 62  1 57  1 75 71 74 76 11  0 58 77 76  1 79 61  7 74 61\n",
      "   1 76]\n",
      " [75 57 65 60  1 76 71  1 64 61 74 75 61 68 62 11  1 57 70 60  1 58 61 63\n",
      "  57 70  1 57 63 57 65 70  1 62 74 71 69  1 76 64 61  1 58 61 63 65 70 70\n",
      "  65 70]]\n"
     ]
    }
   ],
   "source": [
    "batches = get_batches(encoded, 10, 50)\n",
    "x, y = next(batches)\n",
    "print('x\\n', x[:10, :50])  #x是10行50列的二维列表  ，即每行50个元素组成，\n",
    "print('\\ny\\n', y[:10, :50])"
   ]
  },
  {
   "cell_type": "code",
   "execution_count": 9,
   "metadata": {},
   "outputs": [
    {
     "data": {
      "text/plain": [
       "(10, 50)"
      ]
     },
     "execution_count": 9,
     "metadata": {},
     "output_type": "execute_result"
    }
   ],
   "source": [
    "np.shape(x)"
   ]
  },
  {
   "cell_type": "code",
   "execution_count": 10,
   "metadata": {},
   "outputs": [
    {
     "name": "stdout",
     "output_type": "stream",
     "text": [
      "x\n",
      " [[64 57 72 72 81  1 62 57 69 65]\n",
      " [76  1 65 70  1 75 72 65 76 61]\n",
      " [26  1 76 64 65 74 76 81 12 61]\n",
      " [75 13  1 43 70 59 61  1 65 70]\n",
      " [71 75 75 65 70 63  1 64 65 69]\n",
      " [74  1 64 71 77 75 61  1 58 61]\n",
      " [ 1 74 71 71 69 13  0  0 40 61]\n",
      " [61 74 61 68 81  0 75 77 59 64]\n",
      " [76 64 61  1 68 57 70 60 71 79]\n",
      " [70 63 13  1  3 36 61  7 75  1]]\n",
      "\n",
      "y\n",
      " [[57 72 72 81  1 62 57 69 65 68]\n",
      " [ 1 65 70  1 75 72 65 76 61  1]\n",
      " [ 1 76 64 65 74 76 81 12 61 65]\n",
      " [13  1 43 70 59 61  1 65 70  1]\n",
      " [75 75 65 70 63  1 64 65 69 75]\n",
      " [ 1 64 71 77 75 61  1 58 61 62]\n",
      " [74 71 71 69 13  0  0 40 61 78]\n",
      " [74 61 68 81  0 75 77 59 64  1]\n",
      " [64 61  1 68 57 70 60 71 79 70]\n",
      " [63 13  1  3 36 61  7 75  1 76]]\n"
     ]
    }
   ],
   "source": [
    "x, y = next(batches) #迭代器采用yield 关键字，采用next调用获取下一个迭代结果\n",
    "print('x\\n', x[:10, :10])\n",
    "print('\\ny\\n', y[:10, :10])"
   ]
  },
  {
   "cell_type": "markdown",
   "metadata": {},
   "source": [
    "If you implemented `get_batches` correctly, the above output should look something like \n",
    "```\n",
    "x\n",
    " [[55 63 69 22  6 76 45  5 16 35]\n",
    " [ 5 69  1  5 12 52  6  5 56 52]\n",
    " [48 29 12 61 35 35  8 64 76 78]\n",
    " [12  5 24 39 45 29 12 56  5 63]\n",
    " [ 5 29  6  5 29 78 28  5 78 29]\n",
    " [ 5 13  6  5 36 69 78 35 52 12]\n",
    " [63 76 12  5 18 52  1 76  5 58]\n",
    " [34  5 73 39  6  5 12 52 36  5]\n",
    " [ 6  5 29 78 12 79  6 61  5 59]\n",
    " [ 5 78 69 29 24  5  6 52  5 63]]\n",
    "\n",
    "y\n",
    " [[63 69 22  6 76 45  5 16 35 35]\n",
    " [69  1  5 12 52  6  5 56 52 29]\n",
    " [29 12 61 35 35  8 64 76 78 28]\n",
    " [ 5 24 39 45 29 12 56  5 63 29]\n",
    " [29  6  5 29 78 28  5 78 29 45]\n",
    " [13  6  5 36 69 78 35 52 12 43]\n",
    " [76 12  5 18 52  1 76  5 58 52]\n",
    " [ 5 73 39  6  5 12 52 36  5 78]\n",
    " [ 5 29 78 12 79  6 61  5 59 63]\n",
    " [78 69 29 24  5  6 52  5 63 76]]\n",
    " ```\n",
    " although the exact numbers will be different. Check to make sure the data is shifted over one step for `y`."
   ]
  },
  {
   "cell_type": "markdown",
   "metadata": {},
   "source": [
    "## Building the model  创建rnn输入模型\n",
    "\n",
    "Below is where you'll build the network. We'll break it up into parts so it's easier to reason about each bit. Then we can connect them up into the whole network.\n",
    "\n",
    "<img src=\"F:/uav+ai/神经网络test/第三课循环神经网络/3LSTM长短记忆单元/intro-to-rnns/assets/charRNN.png\" width=500px>\n",
    "\n",
    "\n",
    "### Inputs\n",
    "\n",
    "First off we'll create our input placeholders. As usual we need placeholders for the training data and the targets. We'll also create a placeholder for dropout layers called `keep_prob`. This will be a scalar, that is a 0-D tensor. To make a scalar, you create a placeholder without giving it a size.\n",
    "\n",
    "> **Exercise:** Create the input placeholders in the function below."
   ]
  },
  {
   "cell_type": "code",
   "execution_count": 11,
   "metadata": {},
   "outputs": [],
   "source": [
    "def build_inputs(batch_size, num_steps): #输入序列是n*m的矩阵\n",
    "    ''' Define placeholders for inputs, targets, and dropout \n",
    "    \n",
    "        Arguments\n",
    "        ---------\n",
    "        batch_size: Batch size, number of sequences per batch\n",
    "        num_steps: Number of sequence steps in a batch\n",
    "        \n",
    "    '''\n",
    "    # Declare placeholders we'll feed into the graph  体现了二维输入序列\n",
    "    inputs = tf.placeholder(tf.int32, [batch_size, num_steps], name='inputs')\n",
    "    targets = tf.placeholder(tf.int32, [batch_size, num_steps], name='targets')\n",
    "    \n",
    "    # Keep probability placeholder for drop out layers\n",
    "    keep_prob = tf.placeholder(tf.float32, name='keep_prob')\n",
    "    \n",
    "    return inputs, targets, keep_prob"
   ]
  },
  {
   "cell_type": "markdown",
   "metadata": {},
   "source": [
    "### LSTM Cell\n",
    "\n",
    "Here we will create the LSTM cell we'll use in the hidden layer. We'll use this cell as a building block for the RNN. So we aren't actually defining the RNN here, just the type of cell we'll use in the hidden layer.\n",
    "\n",
    "We first create a basic LSTM cell with\n",
    "\n",
    "```python\n",
    "lstm = tf.contrib.rnn.BasicLSTMCell(num_units)\n",
    "```\n",
    "\n",
    "where `num_units` is the number of units in the hidden layers in the cell. Then we can add dropout by wrapping it with \n",
    "\n",
    "```python\n",
    "tf.contrib.rnn.DropoutWrapper(lstm, output_keep_prob=keep_prob)\n",
    "```\n",
    "You pass in a cell and it will automatically add dropout to the inputs or outputs. Finally, we can stack up the LSTM cells into layers with [`tf.contrib.rnn.MultiRNNCell`](https://www.tensorflow.org/versions/r1.0/api_docs/python/tf/contrib/rnn/MultiRNNCell). With this, you pass in a list of cells and it will send the output of one cell into the next cell. Previously with TensorFlow 1.0, you could do this\n",
    "\n",
    "```python\n",
    "tf.contrib.rnn.MultiRNNCell([cell]*num_layers)#形成堆叠的rnn单元\n",
    "```\n",
    "\n",
    "This might look a little weird if you know Python well because this will create a list of the same `cell` object. However, TensorFlow 1.0 will create different weight matrices for all `cell` objects. But, starting with TensorFlow 1.1 you actually need to create new cell objects in the list. To get it to work in TensorFlow 1.1, it should look like\n",
    "\n",
    "```python\n",
    "def build_cell(num_units, keep_prob):\n",
    "    lstm = tf.contrib.rnn.BasicLSTMCell(num_units)\n",
    "    drop = tf.contrib.rnn.DropoutWrapper(lstm, output_keep_prob=keep_prob)\n",
    "    \n",
    "    return drop\n",
    "    \n",
    "tf.contrib.rnn.MultiRNNCell([build_cell(num_units, keep_prob) for _ in range(num_layers)])\n",
    "```\n",
    "\n",
    "Even though this is actually multiple LSTM cells stacked on each other, you can treat the multiple layers as one cell.\n",
    "\n",
    "We also need to create an initial cell state of all zeros. This can be done like so\n",
    "\n",
    "```python\n",
    "initial_state = cell.zero_state(batch_size, tf.float32)\n",
    "```\n",
    "\n",
    "Below, we implement the `build_lstm` function to create these LSTM cells and the initial state."
   ]
  },
  {
   "cell_type": "markdown",
   "metadata": {},
   "source": [
    "### 建立多层LSTM"
   ]
  },
  {
   "cell_type": "code",
   "execution_count": 12,
   "metadata": {},
   "outputs": [],
   "source": [
    "def build_lstm(lstm_size, num_layers, batch_size, keep_prob):\n",
    "    ''' Build LSTM cell.\n",
    "    \n",
    "        Arguments\n",
    "        ---------\n",
    "        keep_prob: Scalar tensor (tf.placeholder) for the dropout keep probability\n",
    "        lstm_size: Size of the hidden layers in the LSTM cells\n",
    "        num_layers: Number of LSTM layers\n",
    "        batch_size: Batch size\n",
    "\n",
    "    '''\n",
    "    ### Build the LSTM Cell\n",
    "    \n",
    "    def build_cell(lstm_size, keep_prob):\n",
    "        # Use a basic LSTM cell\n",
    "        lstm = tf.contrib.rnn.BasicLSTMCell(lstm_size)#LSTM的维度lstm_size\n",
    "        \n",
    "        # Add dropout to the cell\n",
    "        drop = tf.contrib.rnn.DropoutWrapper(lstm, output_keep_prob=keep_prob)\n",
    "        return drop\n",
    "    \n",
    "    \n",
    "    # Stack up multiple LSTM layers, for deep learning  创造多层LSTM\n",
    "    cell = tf.contrib.rnn.MultiRNNCell([build_cell(lstm_size, keep_prob) for _ in range(num_layers)])\n",
    "    initial_state = cell.zero_state(batch_size, tf.float32)\n",
    "    \n",
    "    return cell, initial_state"
   ]
  },
  {
   "cell_type": "markdown",
   "metadata": {},
   "source": [
    "### RNN Output\n",
    "\n",
    "Here we'll create the output layer. We need to connect the output of the RNN cells to a full connected layer with a softmax output. The softmax output gives us a probability distribution we can use to predict the next character, so we want this layer to have size $C$, the number of classes/characters we have in our text.  \n",
    "1、LSTM后面接全连接层，全连接层是softmax的输出，即单词表的各字母的预测概率  \n",
    "If our input has batch size $N$, number of steps $M$, and the hidden layer has $L$ hidden units, then the output is a 3D tensor with size $N \\times M \\times L$. The output of each LSTM cell has size $L$, we have $M$ of them, one for each sequence step, and we have $N$ sequences. So the total size is $N \\times M \\times L$.   \n",
    "2、 batch_size大小是N，time_step大小是M，lstm_size大小是L，即隐层单元维度是L，则输出是$N \\times M \\times L$\n",
    "\n",
    "We are using the same fully connected layer, the same weights, for each of the outputs. Then, to make things easier, we should reshape the outputs into a 2D tensor with shape $(M * N) \\times L$. That is, one row for each sequence and step, where the values of each row are the output from the LSTM cells. We get the LSTM output as a list, `lstm_output`. First we need to concatenate this whole list into one array with [`tf.concat`](https://www.tensorflow.org/api_docs/python/tf/concat). Then, reshape it (with `tf.reshape`) to size $(M * N) \\times L$.\n",
    "\n",
    "One we have the outputs reshaped, we can do the matrix multiplication with the weights. We need to wrap the weight and bias variables in a variable scope with `tf.variable_scope(scope_name)` because there are weights being created in the LSTM cells. TensorFlow will throw an error if the weights created here have the same names as the weights created in the LSTM cells, which they will be default. To avoid this, we wrap the variables in a variable scope so we can give them unique names.\n",
    "\n",
    "> **Exercise:** Implement the output layer in the function below."
   ]
  },
  {
   "cell_type": "code",
   "execution_count": 13,
   "metadata": {},
   "outputs": [],
   "source": [
    "def build_output(lstm_output, in_size, out_size): #in_size为LSTM_size  而out_size为num_class即84\n",
    "    ''' Build a softmax layer, return the softmax output and logits.\n",
    "    \n",
    "        Arguments\n",
    "        ---------\n",
    "        \n",
    "        x: Input tensor\n",
    "        in_size: Size of the input tensor, for example, size of the LSTM cells\n",
    "        out_size: Size of this softmax layer\n",
    "    \n",
    "    '''\n",
    "\n",
    "    # Reshape output so it's a bunch of rows, one row for each step for each sequence.\n",
    "    # That is, the shape should be batch_size*num_steps rows by lstm_size columns\n",
    "    print(np.shape((lstm_output)),'np.shape((lstm_output))')    #（64,50,128）\n",
    "    seq_output = tf.concat(lstm_output, axis=1)#lstm_output是一个batch_size * time_steps * LSTM_sizes维度 64*50*128维度\n",
    "    print(np.shape(seq_output),'np.shape(seq_output)')      \n",
    "    x = tf.reshape(seq_output, [-1, in_size])# 降维降成3200*128\n",
    "    print(np.shape(x),'np.shape(x)') #（3200,128）\n",
    "    # Connect the RNN outputs to a softmax layer\n",
    "    with tf.variable_scope('softmax'):\n",
    "        softmax_w = tf.Variable(tf.truncated_normal((in_size, out_size), stddev=0.1))#128*84 的二维\n",
    "        softmax_b = tf.Variable(tf.zeros(out_size))  #84\n",
    "    \n",
    "    # Since output is a bunch of rows of RNN cell outputs, logits will be a bunch\n",
    "    # of rows of logit outputs, one for each step and sequence\n",
    "    logits = tf.matmul(x, softmax_w) + softmax_b  #x是3200*128 而w是128*84 =3200*84\n",
    "    \n",
    "    # Use softmax to get the probabilities for predicted characters\n",
    "    out = tf.nn.softmax(logits, name='predictions')\n",
    "    print(np.shape(out),'np.shape(out)') #3200*84\n",
    "    \n",
    "    return out, logits"
   ]
  },
  {
   "cell_type": "markdown",
   "metadata": {},
   "source": [
    "### Training loss\n",
    "\n",
    "Next up is the training loss. We get the logits and targets and calculate the softmax cross-entropy loss. First we need to one-hot encode the targets, we're getting them as encoded characters. Then, reshape the one-hot targets so it's a 2D tensor with size $(M*N) \\times C$ where $C$ is the number of classes/characters we have. Remember that we reshaped the LSTM outputs and ran them through a fully connected layer with $C$ units. So our logits will also have size $(M*N) \\times C$.\n",
    "\n",
    "Then we run the logits and targets through `tf.nn.softmax_cross_entropy_with_logits` and find the mean to get the loss.\n",
    "\n",
    ">**Exercise:** Implement the loss calculation in the function below."
   ]
  },
  {
   "cell_type": "code",
   "execution_count": 14,
   "metadata": {},
   "outputs": [],
   "source": [
    "def build_loss(logits, targets, lstm_size, num_classes):\n",
    "    ''' Calculate the loss from the logits and the targets.\n",
    "    \n",
    "        Arguments\n",
    "        ---------\n",
    "        logits: Logits from final fully connected layer\n",
    "        targets: Targets for supervised learning\n",
    "        lstm_size: Number of LSTM hidden units\n",
    "        num_classes: Number of classes in targets\n",
    "        \n",
    "    '''\n",
    "    \n",
    "    # One-hot encode targets and reshape to match logits, one row per batch_size per step\n",
    "    y_one_hot = tf.one_hot(targets, num_classes)#targets 是64*50维度 经过one_hot编码后增加了一个维度 64*50*84\n",
    "    y_reshaped = tf.reshape(y_one_hot, logits.get_shape())#logits.get_shape()是（3200,84），则y_reshaped也变reshape成3200*84\n",
    "    print(np.shape(y_reshaped),'np.shape(y_reshaped)')\n",
    "    # Softmax cross entropy loss\n",
    "    loss = tf.nn.softmax_cross_entropy_with_logits(logits=logits, labels=y_reshaped)\n",
    "    loss = tf.reduce_mean(loss)\n",
    "    return loss"
   ]
  },
  {
   "cell_type": "markdown",
   "metadata": {},
   "source": [
    "### Optimizer\n",
    "lstm解决了梯度消失里的问题，但是针对梯度爆炸问题，采用截断梯度的办法实现\n",
    "Here we build the optimizer. Normal RNNs have have issues gradients exploding and disappearing. LSTMs fix the disappearance problem, but the gradients can still grow without bound. To fix this, we can clip the gradients above some threshold. That is, if a gradient is larger than that threshold, we set it to the threshold. This will ensure the gradients never grow overly large. Then we use an AdamOptimizer for the learning step."
   ]
  },
  {
   "cell_type": "code",
   "execution_count": 15,
   "metadata": {},
   "outputs": [],
   "source": [
    "def build_optimizer(loss, learning_rate, grad_clip):#采用截断梯度办法防止梯度爆炸\n",
    "    ''' Build optmizer for training, using gradient clipping.\n",
    "    \n",
    "        Arguments:\n",
    "        loss: Network loss\n",
    "        learning_rate: Learning rate for optimizer\n",
    "    \n",
    "    '''\n",
    "    \n",
    "    # Optimizer for training, using gradient clipping to control exploding gradients\n",
    "    tvars = tf.trainable_variables()\n",
    "    grads, _ = tf.clip_by_global_norm(tf.gradients(loss, tvars), grad_clip)\n",
    "    train_op = tf.train.AdamOptimizer(learning_rate)\n",
    "    optimizer = train_op.apply_gradients(zip(grads, tvars))\n",
    "    \n",
    "    return optimizer"
   ]
  },
  {
   "cell_type": "markdown",
   "metadata": {},
   "source": [
    "### Build the network\n",
    "\n",
    "Now we can put all the pieces together and build a class for the network. To actually run data through the LSTM cells, we will use [`tf.nn.dynamic_rnn`](https://www.tensorflow.org/versions/r1.0/api_docs/python/tf/nn/dynamic_rnn). This function will pass the hidden and cell states across LSTM cells appropriately for us. It returns the outputs for each LSTM cell at each step for each sequence in the mini-batch. It also gives us the final LSTM state. We want to save this state as `final_state` so we can pass it to the first LSTM cell in the the next mini-batch run. For `tf.nn.dynamic_rnn`, we pass in the cell and initial state we get from `build_lstm`, as well as our input sequences. Also, we need to one-hot encode the inputs before going into the RNN. \n",
    "\n",
    "> **Exercise:** Use the functions you've implemented previously and `tf.nn.dynamic_rnn` to build the network."
   ]
  },
  {
   "cell_type": "code",
   "execution_count": 16,
   "metadata": {},
   "outputs": [],
   "source": [
    "class CharRNN:\n",
    "    \n",
    "    def __init__(self, num_classes, batch_size=64, num_steps=50, \n",
    "                       lstm_size=128, num_layers=2, learning_rate=0.001, \n",
    "                       grad_clip=5, sampling=False): #代表有两层LSTM，每层LSTM里面隐藏层节点数是128，time_steps=50\n",
    "    \n",
    "        # When we're using this network for sampling later, we'll be passing in\n",
    "        # one character at a time, so providing an option for that\n",
    "        if sampling == True:\n",
    "            batch_size, num_steps = 1, 1\n",
    "        else:\n",
    "            batch_size, num_steps = batch_size, num_steps\n",
    "\n",
    "        tf.reset_default_graph()\n",
    "        \n",
    "        # Build the input placeholder tensors\n",
    "        self.inputs, self.targets, self.keep_prob = build_inputs(batch_size, num_steps)\n",
    "        #通过build_inputs建立输入映射，self.inputs是64*50，self.targets是64*50\n",
    "        \n",
    "        \n",
    "        # Build the LSTM cell 建立LSTM单元\n",
    "        cell, self.initial_state = build_lstm(lstm_size, num_layers, batch_size, self.keep_prob)\n",
    "        # 通过建立LSTM单元，cell是2层LSTM，每层LSTM是128个隐节点 ，每个隐节点都带有dropout\n",
    "        \n",
    "        \n",
    "        ### Run the data through the RNN layers\n",
    "        # First, one-hot encode the input tokens\n",
    "        x_one_hot = tf.one_hot(self.inputs, num_classes)#对输入序列64*50进行热独编码 64*50*84\n",
    "        print(np.shape(x_one_hot),'np.shape(x_one_hot)')\n",
    "        \n",
    "        \n",
    "        # Run each sequence step through the RNN and collect the outputs\n",
    "        outputs, state = tf.nn.dynamic_rnn(cell, x_one_hot, initial_state=self.initial_state)#outputs是64*50*128\n",
    "        self.final_state = state\n",
    "        #通过dynamic_rnn得到的是64*50*128维度,相当于这里是将84个输入点变成128个隐节点，并且有4个控制门，总权重数为84*128*4\n",
    "        \n",
    "        # Get softmax predictions and logits  #这里将lstm的输出连接输出层即sortmax进行分类\n",
    "        self.prediction, self.logits = build_output(outputs, lstm_size, num_classes)\n",
    "        #其中outputs是64*50*128维度，而经过reshape成3200*128然后再通过权重矩阵（128,84），最后输出是3200*84\n",
    "        # Loss and optimizer (with gradient clipping)\n",
    "        \n",
    "        \n",
    "        self.loss = build_loss(self.logits, self.targets, lstm_size, num_classes)\n",
    "        self.optimizer = build_optimizer(self.loss, learning_rate, grad_clip)"
   ]
  },
  {
   "cell_type": "markdown",
   "metadata": {},
   "source": [
    "## Hyperparameters 超参数的调整\n",
    "\n",
    "Here are the hyperparameters for the network.\n",
    "\n",
    "* `batch_size` - Number of sequences running through the network in one pass.\n",
    "* `num_steps` - Number of characters in the sequence the network is trained on. Larger is better typically, the network will learn more long range dependencies. But it takes longer to train. 100 is typically a good number here.\n",
    "* `lstm_size` - The number of units in the hidden layers.\n",
    "* `num_layers` - Number of hidden LSTM layers to use\n",
    "* `learning_rate` - Learning rate for training\n",
    "* `keep_prob` - The dropout keep probability when training. If you're network is overfitting, try decreasing this.\n",
    "\n",
    "Here's some good advice from Andrej Karpathy on training the network. I'm going to copy it in here for your benefit, but also link to [where it originally came from](https://github.com/karpathy/char-rnn#tips-and-tricks).\n",
    "\n",
    "> ## Tips and Tricks \n",
    "\n",
    ">### Monitoring Validation Loss vs. Training Loss  观察验证集和训练集的损失，调整dropout来缓解过拟合问题\n",
    ">If you're somewhat new to Machine Learning or Neural Networks it can take a bit of expertise to get good models. The most important quantity to keep track of is the difference between your training loss (printed during training) and the validation loss (printed once in a while when the RNN is run on the validation data (by default every 1000 iterations)). In particular:\n",
    "\n",
    "> - If your training loss is much lower than validation loss then this means the network might be **overfitting**. Solutions to this are to decrease your network size, or to increase dropout. For example you could try dropout of 0.5 and so on.\n",
    "> - If your training/validation loss are about equal then your model is **underfitting**. Increase the size of your model (either number of layers or the raw number of neurons per layer)\n",
    "\n",
    "> ### Approximate number of parameters 两个比较重要的参数是lstm_size和num_layers，即代表每个隐层的单元数和隐层数,该两个参数决定了需要训练的权重和偏置的总参数数量\n",
    "\n",
    "> The two most important parameters that control the model are `lstm_size` and `num_layers`. I would advise that you always use `num_layers` of either 2/3. The `lstm_size` can be adjusted based on how much data you have. The two important quantities to keep track of here are:\n",
    "\n",
    "> - The number of parameters in your model. This is printed when you start training.\n",
    "> - The size of your dataset. 1MB file is approximately 1 million characters.\n",
    " ## 参数的数量取决于样本的大小，经验公式 1MB的数据样本 大概  采用1million 个权重参数\n",
    "\n",
    ">These two should be about the same order of magnitude. It's a little tricky to tell. Here are some examples:\n",
    "\n",
    "> - I have a 100MB dataset and I'm using the default parameter settings (which currently print 150K parameters). My data size is significantly larger (100 mil >> 0.15 mil), so I expect to heavily underfit. I am thinking I can comfortably afford to make `lstm_size` larger.\n",
    "> - I have a 10MB dataset and running a 10 million parameter model. I'm slightly nervous and I'm carefully monitoring my validation loss. If it's larger than my training loss then I may want to try to increase dropout a bit and see if that helps the validation loss.\n",
    "\n",
    "> ### Best models strategy\n",
    "\n",
    ">The winning strategy to obtaining very good models (if you have the compute time) is to always err on making the network larger (as large as you're willing to wait for it to compute) and then try different dropout values (between 0,1). Whatever model has the best validation performance (the loss, written in the checkpoint filename, low is good) is the one you should use in the end.\n",
    "\n",
    ">It is very common in deep learning to run many different models with many different hyperparameter settings, and in the end take whatever checkpoint gave the best validation performance.\n",
    "\n",
    ">By the way, the size of your training and validation splits are also parameters. Make sure you have a decent amount of data in your validation set or otherwise the validation performance will be noisy and not very informative."
   ]
  },
  {
   "cell_type": "code",
   "execution_count": 17,
   "metadata": {},
   "outputs": [],
   "source": [
    "batch_size = 10         # Sequences per batch\n",
    "num_steps = 50          # Number of sequence steps per batch\n",
    "lstm_size = 128         # Size of hidden layers in LSTMs\n",
    "num_layers = 2          # Number of LSTM layers\n",
    "learning_rate = 0.01    # Learning rate\n",
    "keep_prob = 0.5         # Dropout keep probability"
   ]
  },
  {
   "cell_type": "markdown",
   "metadata": {},
   "source": [
    "## Time for training\n",
    "\n",
    "This is typical training code, passing inputs and targets into the network, then running the optimizer. Here we also get back the final LSTM state for the mini-batch. Then, we pass that state back into the network so the next batch can continue the state from the previous batch. And every so often (set by `save_every_n`) I save a checkpoint.\n",
    "\n",
    "Here I'm saving checkpoints with the format\n",
    "\n",
    "`i{iteration number}_l{# hidden layer units}.ckpt`\n",
    "\n",
    "> **Exercise:** Set the hyperparameters above to train the network. Watch the training loss, it should be consistently dropping. Also, I highly advise running this on a GPU."
   ]
  },
  {
   "cell_type": "code",
   "execution_count": 18,
   "metadata": {
    "scrolled": true
   },
   "outputs": [
    {
     "name": "stdout",
     "output_type": "stream",
     "text": [
      "WARNING:tensorflow:From c:\\users\\zhangwenqi\\appdata\\local\\programs\\python\\python35\\lib\\site-packages\\tensorflow\\contrib\\learn\\python\\learn\\datasets\\base.py:198: retry (from tensorflow.contrib.learn.python.learn.datasets.base) is deprecated and will be removed in a future version.\n",
      "Instructions for updating:\n",
      "Use the retry module or similar alternatives.\n",
      "(10, 50, 83) np.shape(x_one_hot)\n",
      "(10, 50, 128) np.shape((lstm_output))\n",
      "(10, 50, 128) np.shape(seq_output)\n",
      "(500, 128) np.shape(x)\n",
      "(500, 83) np.shape(out)\n",
      "(500, 83) np.shape(y_reshaped)\n",
      "WARNING:tensorflow:From <ipython-input-14-8dca9b3dac38>:18: softmax_cross_entropy_with_logits (from tensorflow.python.ops.nn_ops) is deprecated and will be removed in a future version.\n",
      "Instructions for updating:\n",
      "\n",
      "Future major versions of TensorFlow will allow gradients to flow\n",
      "into the labels input on backprop by default.\n",
      "\n",
      "See tf.nn.softmax_cross_entropy_with_logits_v2.\n",
      "\n",
      "Epoch: 1/20...  Training Step: 50...  Training loss: 3.1397...  0.1000 sec/batch\n",
      "Epoch: 1/20...  Training Step: 100...  Training loss: 2.6794...  0.0960 sec/batch\n",
      "Epoch: 1/20...  Training Step: 150...  Training loss: 2.4449...  0.0960 sec/batch\n",
      "Epoch: 1/20...  Training Step: 200...  Training loss: 2.4993...  0.0990 sec/batch\n",
      "Epoch: 1/20...  Training Step: 250...  Training loss: 2.4008...  0.1090 sec/batch\n",
      "Epoch: 1/20...  Training Step: 300...  Training loss: 2.2039...  0.1000 sec/batch\n",
      "Epoch: 1/20...  Training Step: 350...  Training loss: 2.1796...  0.0950 sec/batch\n",
      "Epoch: 1/20...  Training Step: 400...  Training loss: 2.1528...  0.0950 sec/batch\n",
      "Epoch: 1/20...  Training Step: 450...  Training loss: 2.2271...  0.1110 sec/batch\n",
      "Epoch: 1/20...  Training Step: 500...  Training loss: 2.2627...  0.1010 sec/batch\n",
      "Epoch: 1/20...  Training Step: 550...  Training loss: 1.9528...  0.1010 sec/batch\n",
      "Epoch: 1/20...  Training Step: 600...  Training loss: 1.8811...  0.0990 sec/batch\n",
      "Epoch: 1/20...  Training Step: 650...  Training loss: 1.9517...  0.0950 sec/batch\n",
      "Epoch: 1/20...  Training Step: 700...  Training loss: 1.9219...  0.1000 sec/batch\n",
      "Epoch: 1/20...  Training Step: 750...  Training loss: 2.0774...  0.1020 sec/batch\n",
      "Epoch: 1/20...  Training Step: 800...  Training loss: 2.0013...  0.0980 sec/batch\n",
      "Epoch: 1/20...  Training Step: 850...  Training loss: 2.1559...  0.0970 sec/batch\n",
      "Epoch: 1/20...  Training Step: 900...  Training loss: 1.8973...  0.0950 sec/batch\n",
      "Epoch: 1/20...  Training Step: 950...  Training loss: 1.9643...  0.1040 sec/batch\n",
      "Epoch: 1/20...  Training Step: 1000...  Training loss: 1.8898...  0.1010 sec/batch\n",
      "Epoch: 1/20...  Training Step: 1050...  Training loss: 1.9499...  0.1170 sec/batch\n",
      "Epoch: 1/20...  Training Step: 1100...  Training loss: 1.9120...  0.0950 sec/batch\n",
      "Epoch: 1/20...  Training Step: 1150...  Training loss: 1.9258...  0.0970 sec/batch\n",
      "Epoch: 1/20...  Training Step: 1200...  Training loss: 1.8819...  0.0990 sec/batch\n",
      "Epoch: 1/20...  Training Step: 1250...  Training loss: 1.7271...  0.0980 sec/batch\n",
      "Epoch: 1/20...  Training Step: 1300...  Training loss: 1.8718...  0.0970 sec/batch\n",
      "Epoch: 1/20...  Training Step: 1350...  Training loss: 1.7554...  0.0940 sec/batch\n",
      "Epoch: 1/20...  Training Step: 1400...  Training loss: 2.0141...  0.1090 sec/batch\n",
      "Epoch: 1/20...  Training Step: 1450...  Training loss: 1.8234...  0.0970 sec/batch\n",
      "Epoch: 1/20...  Training Step: 1500...  Training loss: 1.9609...  0.1070 sec/batch\n",
      "Epoch: 1/20...  Training Step: 1550...  Training loss: 1.8080...  0.0980 sec/batch\n",
      "Epoch: 1/20...  Training Step: 1600...  Training loss: 1.8814...  0.0970 sec/batch\n",
      "Epoch: 1/20...  Training Step: 1650...  Training loss: 1.8301...  0.0970 sec/batch\n",
      "Epoch: 1/20...  Training Step: 1700...  Training loss: 1.8937...  0.0980 sec/batch\n",
      "Epoch: 1/20...  Training Step: 1750...  Training loss: 1.9287...  0.0970 sec/batch\n",
      "Epoch: 1/20...  Training Step: 1800...  Training loss: 1.9193...  0.1030 sec/batch\n",
      "Epoch: 1/20...  Training Step: 1850...  Training loss: 1.9522...  0.0950 sec/batch\n",
      "Epoch: 1/20...  Training Step: 1900...  Training loss: 1.6919...  0.0960 sec/batch\n",
      "Epoch: 1/20...  Training Step: 1950...  Training loss: 1.8036...  0.0960 sec/batch\n",
      "Epoch: 1/20...  Training Step: 2000...  Training loss: 1.8138...  0.1130 sec/batch\n",
      "Epoch: 1/20...  Training Step: 2050...  Training loss: 1.9693...  0.1010 sec/batch\n",
      "Epoch: 1/20...  Training Step: 2100...  Training loss: 1.7666...  0.1020 sec/batch\n",
      "Epoch: 1/20...  Training Step: 2150...  Training loss: 1.7538...  0.0960 sec/batch\n",
      "Epoch: 1/20...  Training Step: 2200...  Training loss: 1.7715...  0.1010 sec/batch\n",
      "Epoch: 1/20...  Training Step: 2250...  Training loss: 1.7942...  0.1120 sec/batch\n",
      "Epoch: 1/20...  Training Step: 2300...  Training loss: 1.6940...  0.0990 sec/batch\n",
      "Epoch: 1/20...  Training Step: 2350...  Training loss: 1.9373...  0.0960 sec/batch\n",
      "Epoch: 1/20...  Training Step: 2400...  Training loss: 1.8872...  0.0960 sec/batch\n",
      "Epoch: 1/20...  Training Step: 2450...  Training loss: 1.9744...  0.0970 sec/batch\n",
      "Epoch: 1/20...  Training Step: 2500...  Training loss: 1.7153...  0.0980 sec/batch\n",
      "Epoch: 1/20...  Training Step: 2550...  Training loss: 1.8063...  0.0980 sec/batch\n",
      "Epoch: 1/20...  Training Step: 2600...  Training loss: 1.6974...  0.0970 sec/batch\n",
      "Epoch: 1/20...  Training Step: 2650...  Training loss: 1.9434...  0.0970 sec/batch\n",
      "Epoch: 1/20...  Training Step: 2700...  Training loss: 1.8120...  0.0960 sec/batch\n",
      "Epoch: 1/20...  Training Step: 2750...  Training loss: 1.7015...  0.0950 sec/batch\n",
      "Epoch: 1/20...  Training Step: 2800...  Training loss: 1.6538...  0.0990 sec/batch\n",
      "Epoch: 1/20...  Training Step: 2850...  Training loss: 1.8767...  0.0960 sec/batch\n",
      "Epoch: 1/20...  Training Step: 2900...  Training loss: 1.6101...  0.0990 sec/batch\n",
      "Epoch: 1/20...  Training Step: 2950...  Training loss: 1.5459...  0.0980 sec/batch\n",
      "Epoch: 1/20...  Training Step: 3000...  Training loss: 1.7487...  0.0960 sec/batch\n",
      "Epoch: 1/20...  Training Step: 3050...  Training loss: 1.8146...  0.0980 sec/batch\n",
      "Epoch: 1/20...  Training Step: 3100...  Training loss: 1.7258...  0.0990 sec/batch\n",
      "Epoch: 1/20...  Training Step: 3150...  Training loss: 1.6218...  0.0990 sec/batch\n",
      "Epoch: 1/20...  Training Step: 3200...  Training loss: 1.8774...  0.0970 sec/batch\n",
      "Epoch: 1/20...  Training Step: 3250...  Training loss: 1.7442...  0.1270 sec/batch\n",
      "Epoch: 1/20...  Training Step: 3300...  Training loss: 1.8483...  0.1340 sec/batch\n",
      "Epoch: 1/20...  Training Step: 3350...  Training loss: 1.6494...  0.1220 sec/batch\n",
      "Epoch: 1/20...  Training Step: 3400...  Training loss: 1.6671...  0.1330 sec/batch\n",
      "Epoch: 1/20...  Training Step: 3450...  Training loss: 1.6846...  0.1200 sec/batch\n",
      "Epoch: 1/20...  Training Step: 3500...  Training loss: 1.6909...  0.1240 sec/batch\n",
      "Epoch: 1/20...  Training Step: 3550...  Training loss: 1.8137...  0.1130 sec/batch\n",
      "Epoch: 1/20...  Training Step: 3600...  Training loss: 1.7419...  0.1150 sec/batch\n",
      "Epoch: 1/20...  Training Step: 3650...  Training loss: 1.9132...  0.1260 sec/batch\n",
      "Epoch: 1/20...  Training Step: 3700...  Training loss: 1.7104...  0.1140 sec/batch\n",
      "Epoch: 1/20...  Training Step: 3750...  Training loss: 1.7862...  0.1170 sec/batch\n",
      "Epoch: 1/20...  Training Step: 3800...  Training loss: 1.7136...  0.1160 sec/batch\n",
      "Epoch: 1/20...  Training Step: 3850...  Training loss: 1.7387...  0.1310 sec/batch\n",
      "Epoch: 1/20...  Training Step: 3900...  Training loss: 1.8952...  0.1190 sec/batch\n",
      "Epoch: 1/20...  Training Step: 3950...  Training loss: 1.6876...  0.1190 sec/batch\n",
      "Epoch: 2/20...  Training Step: 4000...  Training loss: 1.7082...  0.1140 sec/batch\n",
      "Epoch: 2/20...  Training Step: 4050...  Training loss: 1.7309...  0.1130 sec/batch\n",
      "Epoch: 2/20...  Training Step: 4100...  Training loss: 1.6724...  0.1190 sec/batch\n",
      "Epoch: 2/20...  Training Step: 4150...  Training loss: 1.5690...  0.1040 sec/batch\n",
      "Epoch: 2/20...  Training Step: 4200...  Training loss: 1.6685...  0.1150 sec/batch\n",
      "Epoch: 2/20...  Training Step: 4250...  Training loss: 1.7101...  0.1210 sec/batch\n",
      "Epoch: 2/20...  Training Step: 4300...  Training loss: 1.7434...  0.1080 sec/batch\n",
      "Epoch: 2/20...  Training Step: 4350...  Training loss: 1.7257...  0.1110 sec/batch\n",
      "Epoch: 2/20...  Training Step: 4400...  Training loss: 1.6769...  0.1170 sec/batch\n"
     ]
    },
    {
     "name": "stdout",
     "output_type": "stream",
     "text": [
      "Epoch: 2/20...  Training Step: 4450...  Training loss: 1.7921...  0.1120 sec/batch\n",
      "Epoch: 2/20...  Training Step: 4500...  Training loss: 1.7472...  0.1180 sec/batch\n",
      "Epoch: 2/20...  Training Step: 4550...  Training loss: 1.9029...  0.1060 sec/batch\n",
      "Epoch: 2/20...  Training Step: 4600...  Training loss: 1.7738...  0.1250 sec/batch\n",
      "Epoch: 2/20...  Training Step: 4650...  Training loss: 1.8598...  0.1180 sec/batch\n",
      "Epoch: 2/20...  Training Step: 4700...  Training loss: 1.5767...  0.1180 sec/batch\n",
      "Epoch: 2/20...  Training Step: 4750...  Training loss: 1.7852...  0.1220 sec/batch\n",
      "Epoch: 2/20...  Training Step: 4800...  Training loss: 1.6019...  0.1190 sec/batch\n",
      "Epoch: 2/20...  Training Step: 4850...  Training loss: 1.6127...  0.1150 sec/batch\n",
      "Epoch: 2/20...  Training Step: 4900...  Training loss: 1.7012...  0.1110 sec/batch\n",
      "Epoch: 2/20...  Training Step: 4950...  Training loss: 1.5946...  0.1200 sec/batch\n",
      "Epoch: 2/20...  Training Step: 5000...  Training loss: 1.7323...  0.1210 sec/batch\n",
      "Epoch: 2/20...  Training Step: 5050...  Training loss: 1.5013...  0.1210 sec/batch\n",
      "Epoch: 2/20...  Training Step: 5100...  Training loss: 1.5988...  0.1220 sec/batch\n",
      "Epoch: 2/20...  Training Step: 5150...  Training loss: 1.6888...  0.1140 sec/batch\n",
      "Epoch: 2/20...  Training Step: 5200...  Training loss: 1.8020...  0.1140 sec/batch\n",
      "Epoch: 2/20...  Training Step: 5250...  Training loss: 1.6182...  0.1210 sec/batch\n",
      "Epoch: 2/20...  Training Step: 5300...  Training loss: 1.7777...  0.1160 sec/batch\n",
      "Epoch: 2/20...  Training Step: 5350...  Training loss: 1.6847...  0.1130 sec/batch\n",
      "Epoch: 2/20...  Training Step: 5400...  Training loss: 1.7391...  0.1200 sec/batch\n",
      "Epoch: 2/20...  Training Step: 5450...  Training loss: 1.7479...  0.1140 sec/batch\n",
      "Epoch: 2/20...  Training Step: 5500...  Training loss: 1.7227...  0.1080 sec/batch\n",
      "Epoch: 2/20...  Training Step: 5550...  Training loss: 1.6434...  0.1180 sec/batch\n",
      "Epoch: 2/20...  Training Step: 5600...  Training loss: 1.7700...  0.1180 sec/batch\n",
      "Epoch: 2/20...  Training Step: 5650...  Training loss: 1.6419...  0.1220 sec/batch\n",
      "Epoch: 2/20...  Training Step: 5700...  Training loss: 1.5806...  0.1170 sec/batch\n",
      "Epoch: 2/20...  Training Step: 5750...  Training loss: 1.6702...  0.1080 sec/batch\n",
      "Epoch: 2/20...  Training Step: 5800...  Training loss: 1.7233...  0.1150 sec/batch\n",
      "Epoch: 2/20...  Training Step: 5850...  Training loss: 1.7575...  0.1200 sec/batch\n",
      "Epoch: 2/20...  Training Step: 5900...  Training loss: 1.6878...  0.1170 sec/batch\n",
      "Epoch: 2/20...  Training Step: 5950...  Training loss: 1.6465...  0.1210 sec/batch\n",
      "Epoch: 2/20...  Training Step: 6000...  Training loss: 1.5433...  0.1050 sec/batch\n",
      "Epoch: 2/20...  Training Step: 6050...  Training loss: 1.6490...  0.1190 sec/batch\n",
      "Epoch: 2/20...  Training Step: 6100...  Training loss: 1.7401...  0.1320 sec/batch\n",
      "Epoch: 2/20...  Training Step: 6150...  Training loss: 1.7105...  0.1210 sec/batch\n",
      "Epoch: 2/20...  Training Step: 6200...  Training loss: 1.6105...  0.1320 sec/batch\n",
      "Epoch: 2/20...  Training Step: 6250...  Training loss: 1.6362...  0.1190 sec/batch\n",
      "Epoch: 2/20...  Training Step: 6300...  Training loss: 1.5505...  0.1300 sec/batch\n",
      "Epoch: 2/20...  Training Step: 6350...  Training loss: 1.8054...  0.1210 sec/batch\n",
      "Epoch: 2/20...  Training Step: 6400...  Training loss: 1.6579...  0.1150 sec/batch\n",
      "Epoch: 2/20...  Training Step: 6450...  Training loss: 1.6670...  0.1400 sec/batch\n",
      "Epoch: 2/20...  Training Step: 6500...  Training loss: 1.6974...  0.1310 sec/batch\n",
      "Epoch: 2/20...  Training Step: 6550...  Training loss: 1.6561...  0.1810 sec/batch\n",
      "Epoch: 2/20...  Training Step: 6600...  Training loss: 1.9192...  0.1250 sec/batch\n",
      "Epoch: 2/20...  Training Step: 6650...  Training loss: 1.4830...  0.1170 sec/batch\n",
      "Epoch: 2/20...  Training Step: 6700...  Training loss: 1.5920...  0.1290 sec/batch\n",
      "Epoch: 2/20...  Training Step: 6750...  Training loss: 1.6199...  0.1130 sec/batch\n",
      "Epoch: 2/20...  Training Step: 6800...  Training loss: 1.7168...  0.1220 sec/batch\n",
      "Epoch: 2/20...  Training Step: 6850...  Training loss: 1.6003...  0.1180 sec/batch\n",
      "Epoch: 2/20...  Training Step: 6900...  Training loss: 1.5639...  0.2160 sec/batch\n",
      "Epoch: 2/20...  Training Step: 6950...  Training loss: 1.8774...  0.1760 sec/batch\n",
      "Epoch: 2/20...  Training Step: 7000...  Training loss: 1.6269...  0.1480 sec/batch\n",
      "Epoch: 2/20...  Training Step: 7050...  Training loss: 1.6656...  0.1180 sec/batch\n",
      "Epoch: 2/20...  Training Step: 7100...  Training loss: 1.5801...  0.1190 sec/batch\n",
      "Epoch: 2/20...  Training Step: 7150...  Training loss: 1.5837...  0.1100 sec/batch\n",
      "Epoch: 2/20...  Training Step: 7200...  Training loss: 1.7151...  0.1190 sec/batch\n",
      "Epoch: 2/20...  Training Step: 7250...  Training loss: 1.5449...  0.1510 sec/batch\n",
      "Epoch: 2/20...  Training Step: 7300...  Training loss: 1.7500...  0.1210 sec/batch\n",
      "Epoch: 2/20...  Training Step: 7350...  Training loss: 1.5219...  0.1300 sec/batch\n",
      "Epoch: 2/20...  Training Step: 7400...  Training loss: 1.5392...  0.1470 sec/batch\n",
      "Epoch: 2/20...  Training Step: 7450...  Training loss: 1.4397...  0.1230 sec/batch\n",
      "Epoch: 2/20...  Training Step: 7500...  Training loss: 1.5418...  0.1090 sec/batch\n",
      "Epoch: 2/20...  Training Step: 7550...  Training loss: 1.5793...  0.1290 sec/batch\n",
      "Epoch: 2/20...  Training Step: 7600...  Training loss: 1.6905...  0.1320 sec/batch\n",
      "Epoch: 2/20...  Training Step: 7650...  Training loss: 1.7905...  0.1550 sec/batch\n",
      "Epoch: 2/20...  Training Step: 7700...  Training loss: 1.8276...  0.1310 sec/batch\n",
      "Epoch: 2/20...  Training Step: 7750...  Training loss: 1.8514...  0.1260 sec/batch\n",
      "Epoch: 2/20...  Training Step: 7800...  Training loss: 1.6717...  0.1180 sec/batch\n",
      "Epoch: 2/20...  Training Step: 7850...  Training loss: 1.6491...  0.1240 sec/batch\n",
      "Epoch: 2/20...  Training Step: 7900...  Training loss: 1.7790...  0.1390 sec/batch\n",
      "Epoch: 3/20...  Training Step: 7950...  Training loss: 1.6499...  0.1200 sec/batch\n",
      "Epoch: 3/20...  Training Step: 8000...  Training loss: 1.6561...  0.2890 sec/batch\n",
      "Epoch: 3/20...  Training Step: 8050...  Training loss: 1.6631...  0.1180 sec/batch\n",
      "Epoch: 3/20...  Training Step: 8100...  Training loss: 1.7873...  0.1330 sec/batch\n",
      "Epoch: 3/20...  Training Step: 8150...  Training loss: 1.6032...  0.1240 sec/batch\n",
      "Epoch: 3/20...  Training Step: 8200...  Training loss: 1.5862...  0.1110 sec/batch\n",
      "Epoch: 3/20...  Training Step: 8250...  Training loss: 1.7382...  0.1140 sec/batch\n",
      "Epoch: 3/20...  Training Step: 8300...  Training loss: 1.7824...  0.1190 sec/batch\n",
      "Epoch: 3/20...  Training Step: 8350...  Training loss: 1.6731...  0.1380 sec/batch\n",
      "Epoch: 3/20...  Training Step: 8400...  Training loss: 1.7449...  0.1220 sec/batch\n",
      "Epoch: 3/20...  Training Step: 8450...  Training loss: 1.7101...  0.1370 sec/batch\n",
      "Epoch: 3/20...  Training Step: 8500...  Training loss: 1.6416...  0.1300 sec/batch\n",
      "Epoch: 3/20...  Training Step: 8550...  Training loss: 1.5982...  0.1470 sec/batch\n",
      "Epoch: 3/20...  Training Step: 8600...  Training loss: 1.6427...  0.1160 sec/batch\n",
      "Epoch: 3/20...  Training Step: 8650...  Training loss: 1.7124...  0.1410 sec/batch\n",
      "Epoch: 3/20...  Training Step: 8700...  Training loss: 1.5898...  0.1250 sec/batch\n",
      "Epoch: 3/20...  Training Step: 8750...  Training loss: 1.5816...  0.1600 sec/batch\n",
      "Epoch: 3/20...  Training Step: 8800...  Training loss: 1.8018...  0.1330 sec/batch\n",
      "Epoch: 3/20...  Training Step: 8850...  Training loss: 1.6761...  0.1400 sec/batch\n",
      "Epoch: 3/20...  Training Step: 8900...  Training loss: 1.6268...  0.1230 sec/batch\n",
      "Epoch: 3/20...  Training Step: 8950...  Training loss: 1.7263...  0.1170 sec/batch\n",
      "Epoch: 3/20...  Training Step: 9000...  Training loss: 1.5755...  0.1260 sec/batch\n",
      "Epoch: 3/20...  Training Step: 9050...  Training loss: 1.5540...  0.1260 sec/batch\n",
      "Epoch: 3/20...  Training Step: 9100...  Training loss: 1.4737...  0.1100 sec/batch\n",
      "Epoch: 3/20...  Training Step: 9150...  Training loss: 1.6450...  0.1110 sec/batch\n",
      "Epoch: 3/20...  Training Step: 9200...  Training loss: 1.6115...  0.1210 sec/batch\n",
      "Epoch: 3/20...  Training Step: 9250...  Training loss: 1.6418...  0.1220 sec/batch\n",
      "Epoch: 3/20...  Training Step: 9300...  Training loss: 1.5025...  0.1280 sec/batch\n",
      "Epoch: 3/20...  Training Step: 9350...  Training loss: 1.6516...  0.1200 sec/batch\n"
     ]
    },
    {
     "name": "stdout",
     "output_type": "stream",
     "text": [
      "Epoch: 3/20...  Training Step: 9400...  Training loss: 1.7073...  0.1200 sec/batch\n",
      "Epoch: 3/20...  Training Step: 9450...  Training loss: 1.5471...  0.1160 sec/batch\n",
      "Epoch: 3/20...  Training Step: 9500...  Training loss: 1.7109...  0.1220 sec/batch\n",
      "Epoch: 3/20...  Training Step: 9550...  Training loss: 1.7326...  0.1200 sec/batch\n",
      "Epoch: 3/20...  Training Step: 9600...  Training loss: 1.5398...  0.1230 sec/batch\n",
      "Epoch: 3/20...  Training Step: 9650...  Training loss: 1.5698...  0.1170 sec/batch\n",
      "Epoch: 3/20...  Training Step: 9700...  Training loss: 1.5436...  0.1140 sec/batch\n",
      "Epoch: 3/20...  Training Step: 9750...  Training loss: 1.4101...  0.1120 sec/batch\n",
      "Epoch: 3/20...  Training Step: 9800...  Training loss: 1.6785...  0.1180 sec/batch\n",
      "Epoch: 3/20...  Training Step: 9850...  Training loss: 1.5486...  0.1200 sec/batch\n",
      "Epoch: 3/20...  Training Step: 9900...  Training loss: 1.6763...  0.1460 sec/batch\n",
      "Epoch: 3/20...  Training Step: 9950...  Training loss: 1.7032...  0.1220 sec/batch\n",
      "Epoch: 3/20...  Training Step: 10000...  Training loss: 1.5394...  0.1160 sec/batch\n",
      "Epoch: 3/20...  Training Step: 10050...  Training loss: 1.5874...  0.1230 sec/batch\n",
      "Epoch: 3/20...  Training Step: 10100...  Training loss: 1.6709...  0.1200 sec/batch\n",
      "Epoch: 3/20...  Training Step: 10150...  Training loss: 1.7252...  0.1180 sec/batch\n",
      "Epoch: 3/20...  Training Step: 10200...  Training loss: 1.7584...  0.1170 sec/batch\n",
      "Epoch: 3/20...  Training Step: 10250...  Training loss: 1.5673...  0.1300 sec/batch\n",
      "Epoch: 3/20...  Training Step: 10300...  Training loss: 1.7643...  0.1270 sec/batch\n"
     ]
    },
    {
     "ename": "KeyboardInterrupt",
     "evalue": "",
     "output_type": "error",
     "traceback": [
      "\u001b[1;31m---------------------------------------------------------------------------\u001b[0m",
      "\u001b[1;31mKeyboardInterrupt\u001b[0m                         Traceback (most recent call last)",
      "\u001b[1;32m<ipython-input-18-c669f5f2afff>\u001b[0m in \u001b[0;36m<module>\u001b[1;34m()\u001b[0m\n\u001b[0;32m     31\u001b[0m                                                  \u001b[0mmodel\u001b[0m\u001b[1;33m.\u001b[0m\u001b[0mfinal_state\u001b[0m\u001b[1;33m,\u001b[0m\u001b[1;33m\u001b[0m\u001b[0m\n\u001b[0;32m     32\u001b[0m                                                  model.optimizer], \n\u001b[1;32m---> 33\u001b[1;33m                                                  feed_dict=feed)\n\u001b[0m\u001b[0;32m     34\u001b[0m             \u001b[1;31m#在batch分批次计算中，每次生成的final_state保存为new_state，然后下一批次将new_state传入feed继续计算\u001b[0m\u001b[1;33m\u001b[0m\u001b[1;33m\u001b[0m\u001b[0m\n\u001b[0;32m     35\u001b[0m             \u001b[1;32mif\u001b[0m \u001b[1;33m(\u001b[0m\u001b[0mcounter\u001b[0m \u001b[1;33m%\u001b[0m \u001b[0mprint_every_n\u001b[0m \u001b[1;33m==\u001b[0m \u001b[1;36m0\u001b[0m\u001b[1;33m)\u001b[0m\u001b[1;33m:\u001b[0m\u001b[1;33m\u001b[0m\u001b[0m\n",
      "\u001b[1;32mc:\\users\\zhangwenqi\\appdata\\local\\programs\\python\\python35\\lib\\site-packages\\tensorflow\\python\\client\\session.py\u001b[0m in \u001b[0;36mrun\u001b[1;34m(self, fetches, feed_dict, options, run_metadata)\u001b[0m\n\u001b[0;32m    903\u001b[0m     \u001b[1;32mtry\u001b[0m\u001b[1;33m:\u001b[0m\u001b[1;33m\u001b[0m\u001b[0m\n\u001b[0;32m    904\u001b[0m       result = self._run(None, fetches, feed_dict, options_ptr,\n\u001b[1;32m--> 905\u001b[1;33m                          run_metadata_ptr)\n\u001b[0m\u001b[0;32m    906\u001b[0m       \u001b[1;32mif\u001b[0m \u001b[0mrun_metadata\u001b[0m\u001b[1;33m:\u001b[0m\u001b[1;33m\u001b[0m\u001b[0m\n\u001b[0;32m    907\u001b[0m         \u001b[0mproto_data\u001b[0m \u001b[1;33m=\u001b[0m \u001b[0mtf_session\u001b[0m\u001b[1;33m.\u001b[0m\u001b[0mTF_GetBuffer\u001b[0m\u001b[1;33m(\u001b[0m\u001b[0mrun_metadata_ptr\u001b[0m\u001b[1;33m)\u001b[0m\u001b[1;33m\u001b[0m\u001b[0m\n",
      "\u001b[1;32mc:\\users\\zhangwenqi\\appdata\\local\\programs\\python\\python35\\lib\\site-packages\\tensorflow\\python\\client\\session.py\u001b[0m in \u001b[0;36m_run\u001b[1;34m(self, handle, fetches, feed_dict, options, run_metadata)\u001b[0m\n\u001b[0;32m   1138\u001b[0m     \u001b[1;32mif\u001b[0m \u001b[0mfinal_fetches\u001b[0m \u001b[1;32mor\u001b[0m \u001b[0mfinal_targets\u001b[0m \u001b[1;32mor\u001b[0m \u001b[1;33m(\u001b[0m\u001b[0mhandle\u001b[0m \u001b[1;32mand\u001b[0m \u001b[0mfeed_dict_tensor\u001b[0m\u001b[1;33m)\u001b[0m\u001b[1;33m:\u001b[0m\u001b[1;33m\u001b[0m\u001b[0m\n\u001b[0;32m   1139\u001b[0m       results = self._do_run(handle, final_targets, final_fetches,\n\u001b[1;32m-> 1140\u001b[1;33m                              feed_dict_tensor, options, run_metadata)\n\u001b[0m\u001b[0;32m   1141\u001b[0m     \u001b[1;32melse\u001b[0m\u001b[1;33m:\u001b[0m\u001b[1;33m\u001b[0m\u001b[0m\n\u001b[0;32m   1142\u001b[0m       \u001b[0mresults\u001b[0m \u001b[1;33m=\u001b[0m \u001b[1;33m[\u001b[0m\u001b[1;33m]\u001b[0m\u001b[1;33m\u001b[0m\u001b[0m\n",
      "\u001b[1;32mc:\\users\\zhangwenqi\\appdata\\local\\programs\\python\\python35\\lib\\site-packages\\tensorflow\\python\\client\\session.py\u001b[0m in \u001b[0;36m_do_run\u001b[1;34m(self, handle, target_list, fetch_list, feed_dict, options, run_metadata)\u001b[0m\n\u001b[0;32m   1319\u001b[0m     \u001b[1;32mif\u001b[0m \u001b[0mhandle\u001b[0m \u001b[1;32mis\u001b[0m \u001b[1;32mNone\u001b[0m\u001b[1;33m:\u001b[0m\u001b[1;33m\u001b[0m\u001b[0m\n\u001b[0;32m   1320\u001b[0m       return self._do_call(_run_fn, feeds, fetches, targets, options,\n\u001b[1;32m-> 1321\u001b[1;33m                            run_metadata)\n\u001b[0m\u001b[0;32m   1322\u001b[0m     \u001b[1;32melse\u001b[0m\u001b[1;33m:\u001b[0m\u001b[1;33m\u001b[0m\u001b[0m\n\u001b[0;32m   1323\u001b[0m       \u001b[1;32mreturn\u001b[0m \u001b[0mself\u001b[0m\u001b[1;33m.\u001b[0m\u001b[0m_do_call\u001b[0m\u001b[1;33m(\u001b[0m\u001b[0m_prun_fn\u001b[0m\u001b[1;33m,\u001b[0m \u001b[0mhandle\u001b[0m\u001b[1;33m,\u001b[0m \u001b[0mfeeds\u001b[0m\u001b[1;33m,\u001b[0m \u001b[0mfetches\u001b[0m\u001b[1;33m)\u001b[0m\u001b[1;33m\u001b[0m\u001b[0m\n",
      "\u001b[1;32mc:\\users\\zhangwenqi\\appdata\\local\\programs\\python\\python35\\lib\\site-packages\\tensorflow\\python\\client\\session.py\u001b[0m in \u001b[0;36m_do_call\u001b[1;34m(self, fn, *args)\u001b[0m\n\u001b[0;32m   1325\u001b[0m   \u001b[1;32mdef\u001b[0m \u001b[0m_do_call\u001b[0m\u001b[1;33m(\u001b[0m\u001b[0mself\u001b[0m\u001b[1;33m,\u001b[0m \u001b[0mfn\u001b[0m\u001b[1;33m,\u001b[0m \u001b[1;33m*\u001b[0m\u001b[0margs\u001b[0m\u001b[1;33m)\u001b[0m\u001b[1;33m:\u001b[0m\u001b[1;33m\u001b[0m\u001b[0m\n\u001b[0;32m   1326\u001b[0m     \u001b[1;32mtry\u001b[0m\u001b[1;33m:\u001b[0m\u001b[1;33m\u001b[0m\u001b[0m\n\u001b[1;32m-> 1327\u001b[1;33m       \u001b[1;32mreturn\u001b[0m \u001b[0mfn\u001b[0m\u001b[1;33m(\u001b[0m\u001b[1;33m*\u001b[0m\u001b[0margs\u001b[0m\u001b[1;33m)\u001b[0m\u001b[1;33m\u001b[0m\u001b[0m\n\u001b[0m\u001b[0;32m   1328\u001b[0m     \u001b[1;32mexcept\u001b[0m \u001b[0merrors\u001b[0m\u001b[1;33m.\u001b[0m\u001b[0mOpError\u001b[0m \u001b[1;32mas\u001b[0m \u001b[0me\u001b[0m\u001b[1;33m:\u001b[0m\u001b[1;33m\u001b[0m\u001b[0m\n\u001b[0;32m   1329\u001b[0m       \u001b[0mmessage\u001b[0m \u001b[1;33m=\u001b[0m \u001b[0mcompat\u001b[0m\u001b[1;33m.\u001b[0m\u001b[0mas_text\u001b[0m\u001b[1;33m(\u001b[0m\u001b[0me\u001b[0m\u001b[1;33m.\u001b[0m\u001b[0mmessage\u001b[0m\u001b[1;33m)\u001b[0m\u001b[1;33m\u001b[0m\u001b[0m\n",
      "\u001b[1;32mc:\\users\\zhangwenqi\\appdata\\local\\programs\\python\\python35\\lib\\site-packages\\tensorflow\\python\\client\\session.py\u001b[0m in \u001b[0;36m_run_fn\u001b[1;34m(feed_dict, fetch_list, target_list, options, run_metadata)\u001b[0m\n\u001b[0;32m   1310\u001b[0m       \u001b[0mself\u001b[0m\u001b[1;33m.\u001b[0m\u001b[0m_extend_graph\u001b[0m\u001b[1;33m(\u001b[0m\u001b[1;33m)\u001b[0m\u001b[1;33m\u001b[0m\u001b[0m\n\u001b[0;32m   1311\u001b[0m       return self._call_tf_sessionrun(\n\u001b[1;32m-> 1312\u001b[1;33m           options, feed_dict, fetch_list, target_list, run_metadata)\n\u001b[0m\u001b[0;32m   1313\u001b[0m \u001b[1;33m\u001b[0m\u001b[0m\n\u001b[0;32m   1314\u001b[0m     \u001b[1;32mdef\u001b[0m \u001b[0m_prun_fn\u001b[0m\u001b[1;33m(\u001b[0m\u001b[0mhandle\u001b[0m\u001b[1;33m,\u001b[0m \u001b[0mfeed_dict\u001b[0m\u001b[1;33m,\u001b[0m \u001b[0mfetch_list\u001b[0m\u001b[1;33m)\u001b[0m\u001b[1;33m:\u001b[0m\u001b[1;33m\u001b[0m\u001b[0m\n",
      "\u001b[1;32mc:\\users\\zhangwenqi\\appdata\\local\\programs\\python\\python35\\lib\\site-packages\\tensorflow\\python\\client\\session.py\u001b[0m in \u001b[0;36m_call_tf_sessionrun\u001b[1;34m(self, options, feed_dict, fetch_list, target_list, run_metadata)\u001b[0m\n\u001b[0;32m   1418\u001b[0m         return tf_session.TF_Run(\n\u001b[0;32m   1419\u001b[0m             \u001b[0mself\u001b[0m\u001b[1;33m.\u001b[0m\u001b[0m_session\u001b[0m\u001b[1;33m,\u001b[0m \u001b[0moptions\u001b[0m\u001b[1;33m,\u001b[0m \u001b[0mfeed_dict\u001b[0m\u001b[1;33m,\u001b[0m \u001b[0mfetch_list\u001b[0m\u001b[1;33m,\u001b[0m \u001b[0mtarget_list\u001b[0m\u001b[1;33m,\u001b[0m\u001b[1;33m\u001b[0m\u001b[0m\n\u001b[1;32m-> 1420\u001b[1;33m             status, run_metadata)\n\u001b[0m\u001b[0;32m   1421\u001b[0m \u001b[1;33m\u001b[0m\u001b[0m\n\u001b[0;32m   1422\u001b[0m   \u001b[1;32mdef\u001b[0m \u001b[0m_call_tf_sessionprun\u001b[0m\u001b[1;33m(\u001b[0m\u001b[0mself\u001b[0m\u001b[1;33m,\u001b[0m \u001b[0mhandle\u001b[0m\u001b[1;33m,\u001b[0m \u001b[0mfeed_dict\u001b[0m\u001b[1;33m,\u001b[0m \u001b[0mfetch_list\u001b[0m\u001b[1;33m)\u001b[0m\u001b[1;33m:\u001b[0m\u001b[1;33m\u001b[0m\u001b[0m\n",
      "\u001b[1;31mKeyboardInterrupt\u001b[0m: "
     ]
    }
   ],
   "source": [
    "epochs = 20\n",
    "# Print losses every N interations\n",
    "print_every_n = 50\n",
    "\n",
    "# Save every N iterations\n",
    "save_every_n = 200\n",
    "\n",
    "model = CharRNN(len(vocab), batch_size=batch_size, num_steps=num_steps,\n",
    "                lstm_size=lstm_size, num_layers=num_layers, \n",
    "                learning_rate=learning_rate)\n",
    "\n",
    "saver = tf.train.Saver(max_to_keep=100)\n",
    "with tf.Session() as sess:\n",
    "    sess.run(tf.global_variables_initializer())\n",
    "    \n",
    "    # Use the line below to load a checkpoint and resume training\n",
    "    #saver.restore(sess, 'checkpoints/______.ckpt')\n",
    "    counter = 0\n",
    "    for e in range(epochs):\n",
    "        # Train network\n",
    "        new_state = sess.run(model.initial_state)\n",
    "        loss = 0\n",
    "        for x, y in get_batches(encoded, batch_size, num_steps):\n",
    "            counter += 1\n",
    "            start = time.time()\n",
    "            feed = {model.inputs: x,\n",
    "                    model.targets: y,\n",
    "                    model.keep_prob: keep_prob,\n",
    "                    model.initial_state: new_state}\n",
    "            batch_loss, new_state, _ = sess.run([model.loss, \n",
    "                                                 model.final_state, \n",
    "                                                 model.optimizer], \n",
    "                                                 feed_dict=feed)\n",
    "            #在batch分批次计算中，每次生成的final_state保存为new_state，然后下一批次将new_state传入feed继续计算\n",
    "            if (counter % print_every_n == 0):\n",
    "                end = time.time()\n",
    "                print('Epoch: {}/{}... '.format(e+1, epochs),\n",
    "                      'Training Step: {}... '.format(counter),\n",
    "                      'Training loss: {:.4f}... '.format(batch_loss),\n",
    "                      '{:.4f} sec/batch'.format((end-start)))\n",
    "        \n",
    "            if (counter % save_every_n == 0):\n",
    "                saver.save(sess, \"checkpoints/i{}_l{}.ckpt\".format(counter, lstm_size))\n",
    "    \n",
    "    saver.save(sess, \"checkpoints/i{}_l{}.ckpt\".format(counter, lstm_size))"
   ]
  },
  {
   "cell_type": "markdown",
   "metadata": {},
   "source": [
    "#### Saved checkpoints\n",
    "\n",
    "Read up on saving and loading checkpoints here: https://www.tensorflow.org/programmers_guide/variables"
   ]
  },
  {
   "cell_type": "code",
   "execution_count": 36,
   "metadata": {
    "scrolled": true
   },
   "outputs": [
    {
     "data": {
      "text/plain": [
       "model_checkpoint_path: \"checkpoints\\\\i12400_l128.ckpt\"\n",
       "all_model_checkpoint_paths: \"checkpoints\\\\i200_l128.ckpt\"\n",
       "all_model_checkpoint_paths: \"checkpoints\\\\i400_l128.ckpt\"\n",
       "all_model_checkpoint_paths: \"checkpoints\\\\i600_l128.ckpt\"\n",
       "all_model_checkpoint_paths: \"checkpoints\\\\i800_l128.ckpt\"\n",
       "all_model_checkpoint_paths: \"checkpoints\\\\i1000_l128.ckpt\"\n",
       "all_model_checkpoint_paths: \"checkpoints\\\\i1200_l128.ckpt\"\n",
       "all_model_checkpoint_paths: \"checkpoints\\\\i1400_l128.ckpt\"\n",
       "all_model_checkpoint_paths: \"checkpoints\\\\i1600_l128.ckpt\"\n",
       "all_model_checkpoint_paths: \"checkpoints\\\\i1800_l128.ckpt\"\n",
       "all_model_checkpoint_paths: \"checkpoints\\\\i2000_l128.ckpt\"\n",
       "all_model_checkpoint_paths: \"checkpoints\\\\i2200_l128.ckpt\"\n",
       "all_model_checkpoint_paths: \"checkpoints\\\\i2400_l128.ckpt\"\n",
       "all_model_checkpoint_paths: \"checkpoints\\\\i2600_l128.ckpt\"\n",
       "all_model_checkpoint_paths: \"checkpoints\\\\i2800_l128.ckpt\"\n",
       "all_model_checkpoint_paths: \"checkpoints\\\\i3000_l128.ckpt\"\n",
       "all_model_checkpoint_paths: \"checkpoints\\\\i3200_l128.ckpt\"\n",
       "all_model_checkpoint_paths: \"checkpoints\\\\i3400_l128.ckpt\"\n",
       "all_model_checkpoint_paths: \"checkpoints\\\\i3600_l128.ckpt\"\n",
       "all_model_checkpoint_paths: \"checkpoints\\\\i3800_l128.ckpt\"\n",
       "all_model_checkpoint_paths: \"checkpoints\\\\i4000_l128.ckpt\"\n",
       "all_model_checkpoint_paths: \"checkpoints\\\\i4200_l128.ckpt\"\n",
       "all_model_checkpoint_paths: \"checkpoints\\\\i4400_l128.ckpt\"\n",
       "all_model_checkpoint_paths: \"checkpoints\\\\i4600_l128.ckpt\"\n",
       "all_model_checkpoint_paths: \"checkpoints\\\\i4800_l128.ckpt\"\n",
       "all_model_checkpoint_paths: \"checkpoints\\\\i5000_l128.ckpt\"\n",
       "all_model_checkpoint_paths: \"checkpoints\\\\i5200_l128.ckpt\"\n",
       "all_model_checkpoint_paths: \"checkpoints\\\\i5400_l128.ckpt\"\n",
       "all_model_checkpoint_paths: \"checkpoints\\\\i5600_l128.ckpt\"\n",
       "all_model_checkpoint_paths: \"checkpoints\\\\i5800_l128.ckpt\"\n",
       "all_model_checkpoint_paths: \"checkpoints\\\\i6000_l128.ckpt\"\n",
       "all_model_checkpoint_paths: \"checkpoints\\\\i6200_l128.ckpt\"\n",
       "all_model_checkpoint_paths: \"checkpoints\\\\i6400_l128.ckpt\"\n",
       "all_model_checkpoint_paths: \"checkpoints\\\\i6600_l128.ckpt\"\n",
       "all_model_checkpoint_paths: \"checkpoints\\\\i6800_l128.ckpt\"\n",
       "all_model_checkpoint_paths: \"checkpoints\\\\i7000_l128.ckpt\"\n",
       "all_model_checkpoint_paths: \"checkpoints\\\\i7200_l128.ckpt\"\n",
       "all_model_checkpoint_paths: \"checkpoints\\\\i7400_l128.ckpt\"\n",
       "all_model_checkpoint_paths: \"checkpoints\\\\i7600_l128.ckpt\"\n",
       "all_model_checkpoint_paths: \"checkpoints\\\\i7800_l128.ckpt\"\n",
       "all_model_checkpoint_paths: \"checkpoints\\\\i8000_l128.ckpt\"\n",
       "all_model_checkpoint_paths: \"checkpoints\\\\i8200_l128.ckpt\"\n",
       "all_model_checkpoint_paths: \"checkpoints\\\\i8400_l128.ckpt\"\n",
       "all_model_checkpoint_paths: \"checkpoints\\\\i8600_l128.ckpt\"\n",
       "all_model_checkpoint_paths: \"checkpoints\\\\i8800_l128.ckpt\"\n",
       "all_model_checkpoint_paths: \"checkpoints\\\\i9000_l128.ckpt\"\n",
       "all_model_checkpoint_paths: \"checkpoints\\\\i9200_l128.ckpt\"\n",
       "all_model_checkpoint_paths: \"checkpoints\\\\i9400_l128.ckpt\"\n",
       "all_model_checkpoint_paths: \"checkpoints\\\\i9600_l128.ckpt\"\n",
       "all_model_checkpoint_paths: \"checkpoints\\\\i9800_l128.ckpt\"\n",
       "all_model_checkpoint_paths: \"checkpoints\\\\i10000_l128.ckpt\"\n",
       "all_model_checkpoint_paths: \"checkpoints\\\\i10200_l128.ckpt\"\n",
       "all_model_checkpoint_paths: \"checkpoints\\\\i10400_l128.ckpt\"\n",
       "all_model_checkpoint_paths: \"checkpoints\\\\i10600_l128.ckpt\"\n",
       "all_model_checkpoint_paths: \"checkpoints\\\\i10800_l128.ckpt\"\n",
       "all_model_checkpoint_paths: \"checkpoints\\\\i11000_l128.ckpt\"\n",
       "all_model_checkpoint_paths: \"checkpoints\\\\i11200_l128.ckpt\"\n",
       "all_model_checkpoint_paths: \"checkpoints\\\\i11400_l128.ckpt\"\n",
       "all_model_checkpoint_paths: \"checkpoints\\\\i11600_l128.ckpt\"\n",
       "all_model_checkpoint_paths: \"checkpoints\\\\i11800_l128.ckpt\"\n",
       "all_model_checkpoint_paths: \"checkpoints\\\\i12000_l128.ckpt\"\n",
       "all_model_checkpoint_paths: \"checkpoints\\\\i12200_l128.ckpt\"\n",
       "all_model_checkpoint_paths: \"checkpoints\\\\i12400_l128.ckpt\""
      ]
     },
     "execution_count": 36,
     "metadata": {},
     "output_type": "execute_result"
    }
   ],
   "source": [
    "tf.train.get_checkpoint_state('checkpoints')"
   ]
  },
  {
   "cell_type": "markdown",
   "metadata": {},
   "source": [
    "## Sampling  模仿作者写文本\n",
    "### 输入一个字符串，采用模型预测下一个，然后将预测的结果再次输入，迭代预测生成文本\n",
    "Now that the network is trained, we'll can use it to generate new text. The idea is that we pass in a character, then the network will predict the next character. We can use the new one, to predict the next one. And we keep doing this to generate all new text. I also included some functionality to prime the network with some text by passing in a string and building up a state from that.\n",
    "\n",
    "The network gives us predictions for each character. To reduce noise and make things a little less random, I'm going to only choose a new character from the top N most likely characters.\n",
    "\n"
   ]
  },
  {
   "cell_type": "code",
   "execution_count": 19,
   "metadata": {},
   "outputs": [],
   "source": [
    "def pick_top_n(preds, vocab_size, top_n=5):\n",
    "    p = np.squeeze(preds)\n",
    "    p[np.argsort(p)[:-top_n]] = 0\n",
    "    p = p / np.sum(p)\n",
    "    c = np.random.choice(vocab_size, 1, p=p)[0]\n",
    "    return c"
   ]
  },
  {
   "cell_type": "code",
   "execution_count": 33,
   "metadata": {},
   "outputs": [
    {
     "data": {
      "text/plain": [
       "array([[0.]])"
      ]
     },
     "execution_count": 33,
     "metadata": {},
     "output_type": "execute_result"
    }
   ],
   "source": [
    "xx = np.zeros((1, 1))\n",
    "xx"
   ]
  },
  {
   "cell_type": "code",
   "execution_count": 56,
   "metadata": {},
   "outputs": [],
   "source": [
    "def sample(checkpoint, n_samples, lstm_size, vocab_size, prime=\"The \"):\n",
    "    samples = [c for c in prime]\n",
    "    model = CharRNN(len(vocab), lstm_size=lstm_size, sampling=True)\n",
    "    saver = tf.train.Saver()\n",
    "    print(prime,'prime:')\n",
    "    with tf.Session() as sess:\n",
    "        saver.restore(sess, checkpoint)\n",
    "        new_state = sess.run(model.initial_state)\n",
    "        for c in prime:#将prime的字符串中的字符t，h，e先输入模型，然后开始预测第四个字符，当输入的字符越多，模型输出的文本越像作者\n",
    "            x = np.zeros((1, 1))\n",
    "            print('c:',c)\n",
    "            x[0,0] = vocab_to_int[c]\n",
    "            print('x:',x)\n",
    "            feed = {model.inputs: x,\n",
    "                    model.keep_prob: 1.,\n",
    "                    model.initial_state: new_state}\n",
    "            preds, new_state = sess.run([model.prediction, model.final_state], \n",
    "                                         feed_dict=feed)\n",
    "        print('preds：',preds)\n",
    "        c = pick_top_n(preds, len(vocab))\n",
    "        print('c:',c)\n",
    "        samples.append(int_to_vocab[c])\n",
    "        print('sample：',samples)\n",
    "        \n",
    "        for i in range(n_samples):\n",
    "            x[0,0] = c\n",
    "\n",
    "            feed = {model.inputs: x,\n",
    "                    model.keep_prob: 1.,\n",
    "                    model.initial_state: new_state}\n",
    "            preds, new_state = sess.run([model.prediction, model.final_state], \n",
    "                                         feed_dict=feed)\n",
    "\n",
    "            c = pick_top_n(preds, len(vocab))\n",
    "            samples.append(int_to_vocab[c])\n",
    "        \n",
    "    return ''.join(samples)"
   ]
  },
  {
   "cell_type": "markdown",
   "metadata": {},
   "source": [
    "Here, pass in the path to a checkpoint and sample from the network."
   ]
  },
  {
   "cell_type": "code",
   "execution_count": 57,
   "metadata": {},
   "outputs": [
    {
     "data": {
      "text/plain": [
       "'checkpoints\\\\i8800_l128.ckpt'"
      ]
     },
     "execution_count": 57,
     "metadata": {},
     "output_type": "execute_result"
    }
   ],
   "source": [
    "tf.train.latest_checkpoint('checkpoints')"
   ]
  },
  {
   "cell_type": "code",
   "execution_count": 62,
   "metadata": {
    "scrolled": false
   },
   "outputs": [
    {
     "name": "stdout",
     "output_type": "stream",
     "text": [
      "(1, 1, 83) np.shape(x_one_hot)\n",
      "(1, 1, 128) np.shape((lstm_output))\n",
      "(1, 1, 128) np.shape(seq_output)\n",
      "(1, 128) np.shape(x)\n",
      "(1, 83) np.shape(out)\n",
      "(1, 83) np.shape(y_reshaped)\n",
      "wif prime:\n",
      "INFO:tensorflow:Restoring parameters from checkpoints\\i8800_l128.ckpt\n",
      "c: w\n",
      "x: [[79.]]\n",
      "c: i\n",
      "x: [[65.]]\n",
      "c: f\n",
      "x: [[62.]]\n",
      "preds： [[6.99375914e-06 2.64007802e-04 2.85105170e-06 2.97230166e-12\n",
      "  2.88701420e-12 4.02556851e-12 1.58542699e-12 6.45307455e-06\n",
      "  2.46013418e-11 9.66278790e-08 3.76786005e-13 2.31896429e-05\n",
      "  2.98001225e-07 9.99418353e-06 4.71003011e-12 1.43471305e-14\n",
      "  7.45509950e-15 2.95208329e-14 1.46274162e-15 1.51079930e-14\n",
      "  3.09254135e-14 1.13291463e-13 1.14361738e-14 2.21426610e-14\n",
      "  2.51134400e-13 8.60028422e-07 1.27167129e-06 2.53626627e-06\n",
      "  1.02251289e-11 9.64347768e-11 3.84747139e-12 1.39485201e-09\n",
      "  6.35971692e-11 2.13927862e-10 2.85082266e-12 7.56942252e-12\n",
      "  1.02307811e-12 8.22072662e-13 2.06214750e-11 4.55440243e-12\n",
      "  1.07494976e-11 1.24574170e-11 7.08498321e-12 1.45348915e-11\n",
      "  2.77060601e-12 2.65808764e-14 5.13125341e-11 5.05720570e-11\n",
      "  2.86226446e-12 1.31736254e-11 7.73634767e-11 1.10555206e-14\n",
      "  1.52470848e-11 6.61055574e-13 5.69815516e-13 1.68518653e-07\n",
      "  2.83045072e-12 4.02531005e-05 7.42380678e-07 2.69549255e-05\n",
      "  3.63131221e-06 9.92152274e-01 1.99531787e-05 7.54325356e-07\n",
      "  5.18673682e-04 4.15649265e-03 7.23395788e-09 8.40606008e-05\n",
      "  8.33328231e-04 6.95973949e-06 1.51479662e-05 1.18802949e-04\n",
      "  2.17915931e-05 1.30973888e-07 4.93420848e-05 1.06921316e-05\n",
      "  1.40580966e-03 1.24383136e-04 8.39045811e-07 2.60936481e-08\n",
      "  5.11231855e-12 9.01973690e-05 6.00702208e-08]]\n",
      "c: 61\n",
      "sample： ['w', 'i', 'f', 'e']\n",
      "wife, all, the conning, he heard to some only, the been things to to her. He saw it was tair that she could\n",
      "so sense that's be any too tears to says they was better\n",
      "as at the\n",
      "since and honeshen the came a\n"
     ]
    }
   ],
   "source": [
    "checkpoint = tf.train.latest_checkpoint('checkpoints')\n",
    "samp = sample(checkpoint, 200, lstm_size, len(vocab), prime=\"wif\")\n",
    "print(samp)"
   ]
  },
  {
   "cell_type": "code",
   "execution_count": null,
   "metadata": {},
   "outputs": [],
   "source": []
  }
 ],
 "metadata": {
  "kernelspec": {
   "display_name": "Python 3",
   "language": "python",
   "name": "python3"
  },
  "language_info": {
   "codemirror_mode": {
    "name": "ipython",
    "version": 3
   },
   "file_extension": ".py",
   "mimetype": "text/x-python",
   "name": "python",
   "nbconvert_exporter": "python",
   "pygments_lexer": "ipython3",
   "version": "3.5.4"
  }
 },
 "nbformat": 4,
 "nbformat_minor": 2
}
