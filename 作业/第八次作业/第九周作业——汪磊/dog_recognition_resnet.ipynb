{
 "cells": [
  {
   "cell_type": "code",
   "execution_count": 3,
   "metadata": {},
   "outputs": [
    {
     "name": "stdout",
     "output_type": "stream",
     "text": [
      "There are 133 total dog categories.\n",
      "There are 8351 total dog images.\n",
      "\n",
      "There are 6680 training dog images.\n",
      "There are 835 validation dog images.\n",
      "There are 836 test dog images.\n"
     ]
    }
   ],
   "source": [
    "\"\"\"导入狗数据集\"\"\"\n",
    "from sklearn.datasets import load_files       \n",
    "from keras.utils import np_utils\n",
    "import numpy as np\n",
    "from glob import glob   # 查找符合特定规则的文件路径名\n",
    "\n",
    "# 定义函数来加载train，test和validation数据集\n",
    "def load_dataset(path):\n",
    "    data = load_files(path)\n",
    "    dog_files = np.array(data['filenames'])\n",
    "    dog_targets = np_utils.to_categorical(np.array(data['target']), 133)\n",
    "    return dog_files, dog_targets\n",
    "\n",
    "# 加载train，test和validation数据集\n",
    "train_files, train_targets = load_dataset(r'E:\\USTC\\AI_UAV\\homework\\week8\\dogImages\\train')\n",
    "valid_files, valid_targets = load_dataset(r'E:\\USTC\\AI_UAV\\homework\\week8\\dogImages\\valid')\n",
    "test_files, test_targets = load_dataset(r'E:\\USTC\\AI_UAV\\homework\\week8\\dogImages\\test')\n",
    "\n",
    "# 加载狗品种列表\n",
    "dog_names = [item[72:-1] for item in sorted(glob('E:/USTC/AI_UAV/homework/week8/dogImages/train/*/'))]\n",
    "                                                 \n",
    "# 打印数据统计描述\n",
    "print('There are %d total dog categories.' % len(dog_names))#dog_names是字符串名字组成的list\n",
    "print('There are %s total dog images.\\n' % len(np.hstack([train_files, valid_files, test_files])))\n",
    "print('There are %d training dog images.' % len(train_files))\n",
    "print('There are %d validation dog images.' % len(valid_files))\n",
    "print('There are %d test dog images.'% len(test_files))"
   ]
  },
  {
   "cell_type": "code",
   "execution_count": 12,
   "metadata": {},
   "outputs": [
    {
     "name": "stdout",
     "output_type": "stream",
     "text": [
      "There are 13233 total human images.\n"
     ]
    }
   ],
   "source": [
    "\"\"\"导入人脸数据集\"\"\"\n",
    "import random\n",
    "random.seed(8675309)\n",
    "\n",
    "# 加载打乱后的人脸数据集的文件名\n",
    "human_files = np.array(glob(\"E:/USTC/AI_UAV/homework/week8/lfw/*/*\"))\n",
    "random.shuffle(human_files)\n",
    "\n",
    "# 打印数据集的数据量\n",
    "print('There are %d total human images.' % len(human_files))"
   ]
  },
  {
   "cell_type": "code",
   "execution_count": 13,
   "metadata": {},
   "outputs": [
    {
     "name": "stdout",
     "output_type": "stream",
     "text": [
      "(1, 224, 224, 3)\n"
     ]
    },
    {
     "name": "stderr",
     "output_type": "stream",
     "text": [
      "100%|██████████████████████████████████████████| 10/10 [00:00<00:00, 35.19it/s]\n"
     ]
    },
    {
     "name": "stdout",
     "output_type": "stream",
     "text": [
      "(10, 224, 224, 3)\n"
     ]
    }
   ],
   "source": [
    "\"\"\"将图像转换为CNN的输入张量(nb_samples, rows, columns, channels)\"\"\"\n",
    "from keras.preprocessing import image                  \n",
    "from tqdm import tqdm\n",
    "\n",
    "def path_to_tensor(img_path):    #传进一个图片地址，生成一个四维数组\n",
    "    img = image.load_img(img_path,target_size=(224, 224))    # 用PIL加载RGB图像为PIL.Image.Image类型\n",
    "    x = image.img_to_array(img)         # 将PIL.Image.Image类型转化为格式为(224, 224, 3)的3维张量\n",
    "    return np.expand_dims(x, axis=0)    # 将3维张量转化为格式为(1, 224, 224, 3)的4维张量并返回\n",
    "\n",
    "def paths_to_tensor(img_paths):  #传入多个图片地址，生成4维数组\n",
    "    list_of_tensors = [path_to_tensor(img_path) for img_path in tqdm(img_paths)]\n",
    "    return np.vstack(list_of_tensors)\n",
    "\n",
    "print(np.shape(path_to_tensor(human_files[0])))\n",
    "print(np.shape(paths_to_tensor(human_files[:10])))"
   ]
  },
  {
   "cell_type": "code",
   "execution_count": 4,
   "metadata": {},
   "outputs": [],
   "source": [
    "\"\"\"定义模型\"\"\"\n",
    "from keras.applications.resnet50 import ResNet50\n",
    "\n",
    "ResNet50_model = ResNet50(weights='imagenet')"
   ]
  },
  {
   "cell_type": "code",
   "execution_count": 25,
   "metadata": {},
   "outputs": [],
   "source": [
    "\"\"\"模型测试\"\"\"\n",
    "from keras.applications.resnet50 import preprocess_input, decode_predictions\n",
    "def ResNet50_predict_labels(img_path):\n",
    "    # 返回img_path路径的图像的预测向量\n",
    "    img = preprocess_input(path_to_tensor(img_path))#经过pre处理的图片，img也是(1, 224, 224, 3)，但是经过了归一化和rgb重排列\n",
    "    out=ResNet50_model.predict(img)#out为1*1000的概率分布组成的数组\n",
    "    return  np.argmax(out)  #取概率最大的下标"
   ]
  },
  {
   "cell_type": "code",
   "execution_count": 26,
   "metadata": {
    "collapsed": true
   },
   "outputs": [],
   "source": [
    "\"\"\"狗检测\"\"\"\n",
    "def dog_detector(img_path):\n",
    "    prediction = ResNet50_predict_labels(img_path)\n",
    "    return ((prediction <= 268) & (prediction >= 151)) "
   ]
  },
  {
   "cell_type": "code",
   "execution_count": 27,
   "metadata": {},
   "outputs": [
    {
     "name": "stdout",
     "output_type": "stream",
     "text": [
      "0.01 1.0\n"
     ]
    }
   ],
   "source": [
    "human_files_short = human_files[:100]\n",
    "dog_files_short = train_files[:100]\n",
    "num_human2=0\n",
    "num_dog2=0\n",
    "error_human_pic2=[]\n",
    "error_dog_pic2=[]\n",
    "num_human_per2=np.mean([dog_detector(f) for f in human_files_short])\n",
    "num_dog_per2=np.mean([dog_detector(f) for f in dog_files_short])\n",
    "print(num_human_per2,num_dog_per2)"
   ]
  },
  {
   "cell_type": "code",
   "execution_count": null,
   "metadata": {
    "collapsed": true
   },
   "outputs": [],
   "source": [
    "# 迁移学习"
   ]
  },
  {
   "cell_type": "code",
   "execution_count": 17,
   "metadata": {},
   "outputs": [
    {
     "name": "stdout",
     "output_type": "stream",
     "text": [
      "(6680, 1, 1, 2048)\n",
      "(835, 1, 1, 2048)\n",
      "(836, 1, 1, 2048)\n"
     ]
    }
   ],
   "source": [
    "\"\"\"加载特征向量\"\"\"\n",
    "import numpy as np\n",
    "\n",
    "bottleneck_features = np.load(r'E:\\code\\python\\UAV_homework\\week8\\DogResnet50Data.npz')\n",
    "train_Resnet = bottleneck_features['train']\n",
    "valid_Resnet = bottleneck_features['valid']\n",
    "test_Resnet = bottleneck_features['test']\n",
    "\n",
    "print(np.shape(train_Resnet))\n",
    "print(np.shape(valid_Resnet))\n",
    "print(np.shape(test_Resnet))"
   ]
  },
  {
   "cell_type": "code",
   "execution_count": 18,
   "metadata": {},
   "outputs": [
    {
     "name": "stdout",
     "output_type": "stream",
     "text": [
      "_________________________________________________________________\n",
      "Layer (type)                 Output Shape              Param #   \n",
      "=================================================================\n",
      "global_average_pooling2d_1 ( (None, 2048)              0         \n",
      "_________________________________________________________________\n",
      "dense_1 (Dense)              (None, 133)               272517    \n",
      "=================================================================\n",
      "Total params: 272,517\n",
      "Trainable params: 272,517\n",
      "Non-trainable params: 0\n",
      "_________________________________________________________________\n"
     ]
    }
   ],
   "source": [
    "\"\"\"构建模型\"\"\"\n",
    "from keras.layers import Conv2D, MaxPooling2D, GlobalAveragePooling2D\n",
    "from keras.layers import Dropout, Flatten, Dense\n",
    "from keras.models import Sequential\n",
    "\n",
    "Resnet_model = Sequential()\n",
    "Resnet_model.add(GlobalAveragePooling2D(input_shape=train_Resnet.shape[1:]))\n",
    "Resnet_model.add(Dense(133, activation='softmax'))\n",
    "Resnet_model.summary()"
   ]
  },
  {
   "cell_type": "code",
   "execution_count": 19,
   "metadata": {
    "collapsed": true
   },
   "outputs": [],
   "source": [
    "## 编译模型\n",
    "\n",
    "Resnet_model.compile(loss='categorical_crossentropy', optimizer='rmsprop', metrics=['accuracy'])"
   ]
  },
  {
   "cell_type": "code",
   "execution_count": 23,
   "metadata": {},
   "outputs": [
    {
     "name": "stdout",
     "output_type": "stream",
     "text": [
      "Train on 6680 samples, validate on 835 samples\n",
      "Epoch 1/20\n",
      "6580/6680 [============================>.] - ETA: 2s - loss: 0.0014 - acc: 1.000 - ETA: 2s - loss: 5.9747e-04 - acc: 1.000 - ETA: 2s - loss: 3.7365e-04 - acc: 1.000 - ETA: 2s - loss: 4.4066e-04 - acc: 1.000 - ETA: 2s - loss: 5.1092e-04 - acc: 1.000 - ETA: 2s - loss: 0.0025 - acc: 0.9987    - ETA: 2s - loss: 0.0022 - acc: 0.998 - ETA: 1s - loss: 0.0020 - acc: 0.999 - ETA: 1s - loss: 0.0018 - acc: 0.999 - ETA: 1s - loss: 0.0016 - acc: 0.999 - ETA: 1s - loss: 0.0015 - acc: 0.999 - ETA: 1s - loss: 0.0020 - acc: 0.998 - ETA: 1s - loss: 0.0020 - acc: 0.998 - ETA: 1s - loss: 0.0019 - acc: 0.999 - ETA: 1s - loss: 0.0018 - acc: 0.999 - ETA: 1s - loss: 0.0016 - acc: 0.999 - ETA: 1s - loss: 0.0040 - acc: 0.998 - ETA: 1s - loss: 0.0038 - acc: 0.998 - ETA: 1s - loss: 0.0036 - acc: 0.998 - ETA: 1s - loss: 0.0039 - acc: 0.998 - ETA: 1s - loss: 0.0038 - acc: 0.998 - ETA: 1s - loss: 0.0036 - acc: 0.998 - ETA: 1s - loss: 0.0035 - acc: 0.998 - ETA: 1s - loss: 0.0034 - acc: 0.998 - ETA: 1s - loss: 0.0033 - acc: 0.998 - ETA: 1s - loss: 0.0032 - acc: 0.998 - ETA: 1s - loss: 0.0031 - acc: 0.998 - ETA: 0s - loss: 0.0030 - acc: 0.998 - ETA: 0s - loss: 0.0029 - acc: 0.998 - ETA: 0s - loss: 0.0030 - acc: 0.998 - ETA: 0s - loss: 0.0029 - acc: 0.998 - ETA: 0s - loss: 0.0034 - acc: 0.998 - ETA: 0s - loss: 0.0034 - acc: 0.998 - ETA: 0s - loss: 0.0048 - acc: 0.998 - ETA: 0s - loss: 0.0047 - acc: 0.998 - ETA: 0s - loss: 0.0047 - acc: 0.998 - ETA: 0s - loss: 0.0047 - acc: 0.998 - ETA: 0s - loss: 0.0047 - acc: 0.998 - ETA: 0s - loss: 0.0047 - acc: 0.998 - ETA: 0s - loss: 0.0046 - acc: 0.998 - ETA: 0s - loss: 0.0045 - acc: 0.998 - ETA: 0s - loss: 0.0044 - acc: 0.998 - ETA: 0s - loss: 0.0044 - acc: 0.998 - ETA: 0s - loss: 0.0044 - acc: 0.998 - ETA: 0s - loss: 0.0043 - acc: 0.998 - ETA: 0s - loss: 0.0042 - acc: 0.998 - ETA: 0s - loss: 0.0041 - acc: 0.998 - ETA: 0s - loss: 0.0056 - acc: 0.998 - ETA: 0s - loss: 0.0055 - acc: 0.9985Epoch 00000: val_loss improved from inf to 0.96020, saving model to E:\\code\\python\\UAV_homework\\week8\\weights.best.ResNet.hdf5\n",
      "6680/6680 [==============================] - 2s - loss: 0.0054 - acc: 0.9985 - val_loss: 0.9602 - val_acc: 0.8251\n",
      "Epoch 2/20\n",
      "6580/6680 [============================>.] - ETA: 2s - loss: 5.1199e-05 - acc: 1.000 - ETA: 2s - loss: 0.0035 - acc: 1.0000    - ETA: 2s - loss: 0.0020 - acc: 1.000 - ETA: 2s - loss: 0.0015 - acc: 1.000 - ETA: 2s - loss: 0.0012 - acc: 1.000 - ETA: 2s - loss: 0.0011 - acc: 1.000 - ETA: 2s - loss: 9.1146e-04 - acc: 1.000 - ETA: 2s - loss: 8.2379e-04 - acc: 1.000 - ETA: 2s - loss: 0.0041 - acc: 0.9991    - ETA: 2s - loss: 0.0036 - acc: 0.999 - ETA: 2s - loss: 0.0033 - acc: 0.999 - ETA: 2s - loss: 0.0036 - acc: 0.998 - ETA: 2s - loss: 0.0034 - acc: 0.998 - ETA: 2s - loss: 0.0037 - acc: 0.998 - ETA: 2s - loss: 0.0036 - acc: 0.998 - ETA: 1s - loss: 0.0035 - acc: 0.998 - ETA: 1s - loss: 0.0040 - acc: 0.998 - ETA: 1s - loss: 0.0038 - acc: 0.998 - ETA: 1s - loss: 0.0036 - acc: 0.998 - ETA: 1s - loss: 0.0070 - acc: 0.997 - ETA: 1s - loss: 0.0067 - acc: 0.997 - ETA: 1s - loss: 0.0065 - acc: 0.997 - ETA: 1s - loss: 0.0063 - acc: 0.997 - ETA: 1s - loss: 0.0061 - acc: 0.997 - ETA: 1s - loss: 0.0058 - acc: 0.998 - ETA: 1s - loss: 0.0057 - acc: 0.998 - ETA: 1s - loss: 0.0055 - acc: 0.998 - ETA: 1s - loss: 0.0053 - acc: 0.998 - ETA: 1s - loss: 0.0053 - acc: 0.998 - ETA: 1s - loss: 0.0051 - acc: 0.998 - ETA: 1s - loss: 0.0050 - acc: 0.998 - ETA: 1s - loss: 0.0048 - acc: 0.998 - ETA: 1s - loss: 0.0047 - acc: 0.998 - ETA: 1s - loss: 0.0046 - acc: 0.998 - ETA: 1s - loss: 0.0045 - acc: 0.998 - ETA: 1s - loss: 0.0056 - acc: 0.998 - ETA: 1s - loss: 0.0061 - acc: 0.998 - ETA: 0s - loss: 0.0059 - acc: 0.998 - ETA: 0s - loss: 0.0058 - acc: 0.998 - ETA: 0s - loss: 0.0057 - acc: 0.998 - ETA: 0s - loss: 0.0055 - acc: 0.998 - ETA: 0s - loss: 0.0054 - acc: 0.998 - ETA: 0s - loss: 0.0053 - acc: 0.998 - ETA: 0s - loss: 0.0052 - acc: 0.998 - ETA: 0s - loss: 0.0051 - acc: 0.998 - ETA: 0s - loss: 0.0050 - acc: 0.998 - ETA: 0s - loss: 0.0053 - acc: 0.998 - ETA: 0s - loss: 0.0058 - acc: 0.998 - ETA: 0s - loss: 0.0057 - acc: 0.998 - ETA: 0s - loss: 0.0056 - acc: 0.998 - ETA: 0s - loss: 0.0055 - acc: 0.998 - ETA: 0s - loss: 0.0054 - acc: 0.998 - ETA: 0s - loss: 0.0053 - acc: 0.998 - ETA: 0s - loss: 0.0052 - acc: 0.998 - ETA: 0s - loss: 0.0052 - acc: 0.9985Epoch 00001: val_loss did not improve\n",
      "6680/6680 [==============================] - 3s - loss: 0.0052 - acc: 0.9984 - val_loss: 0.9649 - val_acc: 0.8192\n",
      "Epoch 3/20\n",
      "6620/6680 [============================>.] - ETA: 2s - loss: 4.0483e-05 - acc: 1.000 - ETA: 2s - loss: 5.2902e-05 - acc: 1.000 - ETA: 2s - loss: 6.3773e-05 - acc: 1.000 - ETA: 2s - loss: 7.9635e-05 - acc: 1.000 - ETA: 2s - loss: 1.1092e-04 - acc: 1.000 - ETA: 2s - loss: 0.0016 - acc: 1.0000    - ETA: 2s - loss: 0.0014 - acc: 1.000 - ETA: 2s - loss: 0.0012 - acc: 1.000 - ETA: 2s - loss: 0.0018 - acc: 0.999 - ETA: 2s - loss: 0.0017 - acc: 0.999 - ETA: 2s - loss: 0.0046 - acc: 0.998 - ETA: 2s - loss: 0.0042 - acc: 0.998 - ETA: 2s - loss: 0.0038 - acc: 0.998 - ETA: 2s - loss: 0.0035 - acc: 0.998 - ETA: 2s - loss: 0.0033 - acc: 0.998 - ETA: 2s - loss: 0.0031 - acc: 0.998 - ETA: 1s - loss: 0.0029 - acc: 0.999 - ETA: 1s - loss: 0.0028 - acc: 0.999 - ETA: 1s - loss: 0.0026 - acc: 0.999 - ETA: 1s - loss: 0.0025 - acc: 0.999 - ETA: 1s - loss: 0.0024 - acc: 0.999 - ETA: 1s - loss: 0.0024 - acc: 0.999 - ETA: 1s - loss: 0.0029 - acc: 0.998 - ETA: 1s - loss: 0.0028 - acc: 0.998 - ETA: 1s - loss: 0.0027 - acc: 0.999 - ETA: 1s - loss: 0.0026 - acc: 0.999 - ETA: 1s - loss: 0.0025 - acc: 0.999 - ETA: 1s - loss: 0.0027 - acc: 0.998 - ETA: 1s - loss: 0.0026 - acc: 0.998 - ETA: 1s - loss: 0.0026 - acc: 0.998 - ETA: 1s - loss: 0.0025 - acc: 0.998 - ETA: 1s - loss: 0.0033 - acc: 0.998 - ETA: 1s - loss: 0.0032 - acc: 0.998 - ETA: 1s - loss: 0.0031 - acc: 0.998 - ETA: 1s - loss: 0.0041 - acc: 0.998 - ETA: 1s - loss: 0.0041 - acc: 0.998 - ETA: 1s - loss: 0.0040 - acc: 0.998 - ETA: 0s - loss: 0.0039 - acc: 0.998 - ETA: 0s - loss: 0.0039 - acc: 0.998 - ETA: 0s - loss: 0.0038 - acc: 0.998 - ETA: 0s - loss: 0.0037 - acc: 0.998 - ETA: 0s - loss: 0.0037 - acc: 0.998 - ETA: 0s - loss: 0.0036 - acc: 0.998 - ETA: 0s - loss: 0.0036 - acc: 0.998 - ETA: 0s - loss: 0.0036 - acc: 0.998 - ETA: 0s - loss: 0.0035 - acc: 0.998 - ETA: 0s - loss: 0.0042 - acc: 0.998 - ETA: 0s - loss: 0.0041 - acc: 0.998 - ETA: 0s - loss: 0.0040 - acc: 0.998 - ETA: 0s - loss: 0.0039 - acc: 0.998 - ETA: 0s - loss: 0.0039 - acc: 0.998 - ETA: 0s - loss: 0.0038 - acc: 0.998 - ETA: 0s - loss: 0.0050 - acc: 0.998 - ETA: 0s - loss: 0.0050 - acc: 0.998 - ETA: 0s - loss: 0.0049 - acc: 0.998 - ETA: 0s - loss: 0.0048 - acc: 0.9988Epoch 00002: val_loss did not improve\n",
      "6680/6680 [==============================] - 3s - loss: 0.0048 - acc: 0.9988 - val_loss: 1.0026 - val_acc: 0.8251\n",
      "Epoch 4/20\n"
     ]
    },
    {
     "name": "stdout",
     "output_type": "stream",
     "text": [
      "6540/6680 [============================>.] - ETA: 3s - loss: 8.3033e-05 - acc: 1.000 - ETA: 3s - loss: 4.4402e-04 - acc: 1.000 - ETA: 3s - loss: 3.5339e-04 - acc: 1.000 - ETA: 3s - loss: 3.0768e-04 - acc: 1.000 - ETA: 2s - loss: 2.5292e-04 - acc: 1.000 - ETA: 2s - loss: 2.1454e-04 - acc: 1.000 - ETA: 2s - loss: 2.1731e-04 - acc: 1.000 - ETA: 2s - loss: 2.0890e-04 - acc: 1.000 - ETA: 2s - loss: 1.9275e-04 - acc: 1.000 - ETA: 2s - loss: 1.8048e-04 - acc: 1.000 - ETA: 2s - loss: 1.7236e-04 - acc: 1.000 - ETA: 2s - loss: 1.6147e-04 - acc: 1.000 - ETA: 2s - loss: 1.6728e-04 - acc: 1.000 - ETA: 2s - loss: 1.8175e-04 - acc: 1.000 - ETA: 2s - loss: 2.4671e-04 - acc: 1.000 - ETA: 2s - loss: 2.7496e-04 - acc: 1.000 - ETA: 2s - loss: 2.6317e-04 - acc: 1.000 - ETA: 2s - loss: 2.6233e-04 - acc: 1.000 - ETA: 2s - loss: 3.0744e-04 - acc: 1.000 - ETA: 1s - loss: 3.1354e-04 - acc: 1.000 - ETA: 1s - loss: 3.0291e-04 - acc: 1.000 - ETA: 1s - loss: 3.5844e-04 - acc: 1.000 - ETA: 1s - loss: 3.4959e-04 - acc: 1.000 - ETA: 1s - loss: 3.4314e-04 - acc: 1.000 - ETA: 1s - loss: 3.4292e-04 - acc: 1.000 - ETA: 1s - loss: 3.3404e-04 - acc: 1.000 - ETA: 1s - loss: 3.5366e-04 - acc: 1.000 - ETA: 1s - loss: 3.5570e-04 - acc: 1.000 - ETA: 1s - loss: 3.5347e-04 - acc: 1.000 - ETA: 1s - loss: 3.4693e-04 - acc: 1.000 - ETA: 1s - loss: 3.4358e-04 - acc: 1.000 - ETA: 1s - loss: 3.5544e-04 - acc: 1.000 - ETA: 1s - loss: 3.5132e-04 - acc: 1.000 - ETA: 1s - loss: 4.9352e-04 - acc: 1.000 - ETA: 1s - loss: 4.8720e-04 - acc: 1.000 - ETA: 1s - loss: 4.7521e-04 - acc: 1.000 - ETA: 1s - loss: 0.0012 - acc: 0.9998    - ETA: 0s - loss: 0.0012 - acc: 0.999 - ETA: 0s - loss: 0.0012 - acc: 0.999 - ETA: 0s - loss: 0.0012 - acc: 0.999 - ETA: 0s - loss: 0.0012 - acc: 0.999 - ETA: 0s - loss: 0.0021 - acc: 0.999 - ETA: 0s - loss: 0.0021 - acc: 0.999 - ETA: 0s - loss: 0.0022 - acc: 0.999 - ETA: 0s - loss: 0.0023 - acc: 0.999 - ETA: 0s - loss: 0.0033 - acc: 0.998 - ETA: 0s - loss: 0.0032 - acc: 0.998 - ETA: 0s - loss: 0.0032 - acc: 0.999 - ETA: 0s - loss: 0.0032 - acc: 0.999 - ETA: 0s - loss: 0.0033 - acc: 0.999 - ETA: 0s - loss: 0.0032 - acc: 0.999 - ETA: 0s - loss: 0.0032 - acc: 0.999 - ETA: 0s - loss: 0.0033 - acc: 0.998 - ETA: 0s - loss: 0.0032 - acc: 0.9989Epoch 00003: val_loss did not improve\n",
      "6680/6680 [==============================] - 2s - loss: 0.0039 - acc: 0.9988 - val_loss: 0.9902 - val_acc: 0.8228\n",
      "Epoch 5/20\n",
      "6580/6680 [============================>.] - ETA: 3s - loss: 1.7419e-04 - acc: 1.000 - ETA: 2s - loss: 0.0011 - acc: 1.0000    - ETA: 2s - loss: 0.0182 - acc: 0.996 - ETA: 2s - loss: 0.0128 - acc: 0.997 - ETA: 2s - loss: 0.0099 - acc: 0.998 - ETA: 2s - loss: 0.0078 - acc: 0.998 - ETA: 2s - loss: 0.0065 - acc: 0.998 - ETA: 2s - loss: 0.0057 - acc: 0.998 - ETA: 2s - loss: 0.0050 - acc: 0.999 - ETA: 2s - loss: 0.0044 - acc: 0.999 - ETA: 2s - loss: 0.0040 - acc: 0.999 - ETA: 2s - loss: 0.0051 - acc: 0.998 - ETA: 2s - loss: 0.0058 - acc: 0.998 - ETA: 2s - loss: 0.0054 - acc: 0.998 - ETA: 2s - loss: 0.0051 - acc: 0.998 - ETA: 1s - loss: 0.0057 - acc: 0.998 - ETA: 1s - loss: 0.0053 - acc: 0.998 - ETA: 1s - loss: 0.0052 - acc: 0.998 - ETA: 1s - loss: 0.0050 - acc: 0.998 - ETA: 1s - loss: 0.0047 - acc: 0.998 - ETA: 1s - loss: 0.0045 - acc: 0.998 - ETA: 1s - loss: 0.0043 - acc: 0.998 - ETA: 1s - loss: 0.0041 - acc: 0.998 - ETA: 1s - loss: 0.0039 - acc: 0.998 - ETA: 1s - loss: 0.0037 - acc: 0.998 - ETA: 1s - loss: 0.0036 - acc: 0.998 - ETA: 1s - loss: 0.0035 - acc: 0.998 - ETA: 1s - loss: 0.0042 - acc: 0.998 - ETA: 1s - loss: 0.0041 - acc: 0.998 - ETA: 1s - loss: 0.0040 - acc: 0.998 - ETA: 1s - loss: 0.0038 - acc: 0.998 - ETA: 1s - loss: 0.0037 - acc: 0.998 - ETA: 1s - loss: 0.0036 - acc: 0.998 - ETA: 0s - loss: 0.0035 - acc: 0.998 - ETA: 0s - loss: 0.0034 - acc: 0.998 - ETA: 0s - loss: 0.0033 - acc: 0.998 - ETA: 0s - loss: 0.0032 - acc: 0.998 - ETA: 0s - loss: 0.0037 - acc: 0.998 - ETA: 0s - loss: 0.0036 - acc: 0.998 - ETA: 0s - loss: 0.0036 - acc: 0.998 - ETA: 0s - loss: 0.0035 - acc: 0.998 - ETA: 0s - loss: 0.0034 - acc: 0.998 - ETA: 0s - loss: 0.0034 - acc: 0.998 - ETA: 0s - loss: 0.0033 - acc: 0.998 - ETA: 0s - loss: 0.0032 - acc: 0.998 - ETA: 0s - loss: 0.0039 - acc: 0.998 - ETA: 0s - loss: 0.0041 - acc: 0.998 - ETA: 0s - loss: 0.0045 - acc: 0.998 - ETA: 0s - loss: 0.0044 - acc: 0.998 - ETA: 0s - loss: 0.0044 - acc: 0.998 - ETA: 0s - loss: 0.0043 - acc: 0.998 - ETA: 0s - loss: 0.0043 - acc: 0.998 - ETA: 0s - loss: 0.0047 - acc: 0.9985Epoch 00004: val_loss did not improve\n",
      "6680/6680 [==============================] - 2s - loss: 0.0046 - acc: 0.9985 - val_loss: 1.0071 - val_acc: 0.8251\n",
      "Epoch 6/20\n",
      "6620/6680 [============================>.] - ETA: 2s - loss: 2.6952e-05 - acc: 1.000 - ETA: 2s - loss: 5.8613e-05 - acc: 1.000 - ETA: 2s - loss: 1.4723e-04 - acc: 1.000 - ETA: 2s - loss: 1.2116e-04 - acc: 1.000 - ETA: 2s - loss: 1.0189e-04 - acc: 1.000 - ETA: 2s - loss: 1.1204e-04 - acc: 1.000 - ETA: 2s - loss: 3.5256e-04 - acc: 1.000 - ETA: 2s - loss: 3.1381e-04 - acc: 1.000 - ETA: 2s - loss: 3.2950e-04 - acc: 1.000 - ETA: 2s - loss: 3.0190e-04 - acc: 1.000 - ETA: 2s - loss: 2.8503e-04 - acc: 1.000 - ETA: 2s - loss: 8.3784e-04 - acc: 1.000 - ETA: 2s - loss: 8.0613e-04 - acc: 1.000 - ETA: 2s - loss: 7.5226e-04 - acc: 1.000 - ETA: 2s - loss: 7.0395e-04 - acc: 1.000 - ETA: 2s - loss: 6.8131e-04 - acc: 1.000 - ETA: 2s - loss: 6.4928e-04 - acc: 1.000 - ETA: 1s - loss: 0.0025 - acc: 0.9995    - ETA: 1s - loss: 0.0047 - acc: 0.999 - ETA: 1s - loss: 0.0045 - acc: 0.999 - ETA: 1s - loss: 0.0050 - acc: 0.998 - ETA: 1s - loss: 0.0048 - acc: 0.998 - ETA: 1s - loss: 0.0046 - acc: 0.998 - ETA: 1s - loss: 0.0044 - acc: 0.998 - ETA: 1s - loss: 0.0042 - acc: 0.999 - ETA: 1s - loss: 0.0041 - acc: 0.999 - ETA: 1s - loss: 0.0077 - acc: 0.998 - ETA: 1s - loss: 0.0074 - acc: 0.998 - ETA: 1s - loss: 0.0071 - acc: 0.998 - ETA: 1s - loss: 0.0071 - acc: 0.998 - ETA: 1s - loss: 0.0069 - acc: 0.998 - ETA: 1s - loss: 0.0067 - acc: 0.998 - ETA: 1s - loss: 0.0067 - acc: 0.999 - ETA: 1s - loss: 0.0073 - acc: 0.998 - ETA: 1s - loss: 0.0071 - acc: 0.998 - ETA: 1s - loss: 0.0069 - acc: 0.998 - ETA: 0s - loss: 0.0067 - acc: 0.998 - ETA: 0s - loss: 0.0065 - acc: 0.998 - ETA: 0s - loss: 0.0064 - acc: 0.998 - ETA: 0s - loss: 0.0065 - acc: 0.998 - ETA: 0s - loss: 0.0069 - acc: 0.998 - ETA: 0s - loss: 0.0068 - acc: 0.998 - ETA: 0s - loss: 0.0066 - acc: 0.998 - ETA: 0s - loss: 0.0065 - acc: 0.998 - ETA: 0s - loss: 0.0064 - acc: 0.998 - ETA: 0s - loss: 0.0062 - acc: 0.998 - ETA: 0s - loss: 0.0061 - acc: 0.998 - ETA: 0s - loss: 0.0061 - acc: 0.998 - ETA: 0s - loss: 0.0060 - acc: 0.998 - ETA: 0s - loss: 0.0059 - acc: 0.998 - ETA: 0s - loss: 0.0058 - acc: 0.998 - ETA: 0s - loss: 0.0057 - acc: 0.998 - ETA: 0s - loss: 0.0056 - acc: 0.998 - ETA: 0s - loss: 0.0055 - acc: 0.998 - ETA: 0s - loss: 0.0054 - acc: 0.998 - ETA: 0s - loss: 0.0053 - acc: 0.9988Epoch 00005: val_loss did not improve\n",
      "6680/6680 [==============================] - 3s - loss: 0.0053 - acc: 0.9988 - val_loss: 0.9937 - val_acc: 0.8263\n",
      "Epoch 7/20\n"
     ]
    },
    {
     "name": "stdout",
     "output_type": "stream",
     "text": [
      "6660/6680 [============================>.] - ETA: 2s - loss: 1.4305e-04 - acc: 1.000 - ETA: 2s - loss: 0.0277 - acc: 0.9929    - ETA: 2s - loss: 0.0150 - acc: 0.996 - ETA: 2s - loss: 0.0102 - acc: 0.997 - ETA: 2s - loss: 0.0078 - acc: 0.998 - ETA: 2s - loss: 0.0063 - acc: 0.998 - ETA: 2s - loss: 0.0053 - acc: 0.998 - ETA: 2s - loss: 0.0056 - acc: 0.997 - ETA: 2s - loss: 0.0049 - acc: 0.998 - ETA: 2s - loss: 0.0044 - acc: 0.998 - ETA: 2s - loss: 0.0065 - acc: 0.997 - ETA: 2s - loss: 0.0059 - acc: 0.997 - ETA: 2s - loss: 0.0054 - acc: 0.997 - ETA: 2s - loss: 0.0050 - acc: 0.998 - ETA: 2s - loss: 0.0059 - acc: 0.997 - ETA: 2s - loss: 0.0055 - acc: 0.997 - ETA: 2s - loss: 0.0052 - acc: 0.997 - ETA: 2s - loss: 0.0051 - acc: 0.998 - ETA: 1s - loss: 0.0048 - acc: 0.998 - ETA: 1s - loss: 0.0046 - acc: 0.998 - ETA: 1s - loss: 0.0043 - acc: 0.998 - ETA: 1s - loss: 0.0041 - acc: 0.998 - ETA: 1s - loss: 0.0040 - acc: 0.998 - ETA: 1s - loss: 0.0038 - acc: 0.998 - ETA: 1s - loss: 0.0036 - acc: 0.998 - ETA: 1s - loss: 0.0035 - acc: 0.998 - ETA: 1s - loss: 0.0034 - acc: 0.998 - ETA: 1s - loss: 0.0033 - acc: 0.998 - ETA: 1s - loss: 0.0032 - acc: 0.998 - ETA: 1s - loss: 0.0031 - acc: 0.998 - ETA: 1s - loss: 0.0030 - acc: 0.998 - ETA: 1s - loss: 0.0029 - acc: 0.998 - ETA: 1s - loss: 0.0028 - acc: 0.998 - ETA: 1s - loss: 0.0028 - acc: 0.999 - ETA: 1s - loss: 0.0027 - acc: 0.999 - ETA: 1s - loss: 0.0027 - acc: 0.999 - ETA: 1s - loss: 0.0026 - acc: 0.999 - ETA: 1s - loss: 0.0028 - acc: 0.998 - ETA: 1s - loss: 0.0028 - acc: 0.998 - ETA: 0s - loss: 0.0030 - acc: 0.998 - ETA: 0s - loss: 0.0029 - acc: 0.998 - ETA: 0s - loss: 0.0029 - acc: 0.998 - ETA: 0s - loss: 0.0028 - acc: 0.998 - ETA: 0s - loss: 0.0047 - acc: 0.998 - ETA: 0s - loss: 0.0057 - acc: 0.998 - ETA: 0s - loss: 0.0056 - acc: 0.998 - ETA: 0s - loss: 0.0055 - acc: 0.998 - ETA: 0s - loss: 0.0054 - acc: 0.998 - ETA: 0s - loss: 0.0053 - acc: 0.998 - ETA: 0s - loss: 0.0052 - acc: 0.998 - ETA: 0s - loss: 0.0051 - acc: 0.998 - ETA: 0s - loss: 0.0050 - acc: 0.998 - ETA: 0s - loss: 0.0050 - acc: 0.998 - ETA: 0s - loss: 0.0049 - acc: 0.998 - ETA: 0s - loss: 0.0048 - acc: 0.998 - ETA: 0s - loss: 0.0047 - acc: 0.998 - ETA: 0s - loss: 0.0046 - acc: 0.998 - ETA: 0s - loss: 0.0045 - acc: 0.9988Epoch 00006: val_loss did not improve\n",
      "6680/6680 [==============================] - 3s - loss: 0.0045 - acc: 0.9988 - val_loss: 1.0632 - val_acc: 0.8216\n",
      "Epoch 8/20\n",
      "6580/6680 [============================>.] - ETA: 3s - loss: 5.3335e-05 - acc: 1.000 - ETA: 4s - loss: 5.7225e-05 - acc: 1.000 - ETA: 3s - loss: 4.1066e-05 - acc: 1.000 - ETA: 3s - loss: 3.5864e-05 - acc: 1.000 - ETA: 3s - loss: 4.2250e-05 - acc: 1.000 - ETA: 2s - loss: 6.2031e-05 - acc: 1.000 - ETA: 2s - loss: 6.6446e-05 - acc: 1.000 - ETA: 2s - loss: 0.0020 - acc: 0.9988    - ETA: 2s - loss: 0.0019 - acc: 0.999 - ETA: 2s - loss: 0.0018 - acc: 0.999 - ETA: 2s - loss: 0.0016 - acc: 0.999 - ETA: 2s - loss: 0.0014 - acc: 0.999 - ETA: 2s - loss: 0.0013 - acc: 0.999 - ETA: 2s - loss: 0.0012 - acc: 0.999 - ETA: 2s - loss: 0.0011 - acc: 0.999 - ETA: 2s - loss: 0.0016 - acc: 0.998 - ETA: 2s - loss: 0.0039 - acc: 0.998 - ETA: 2s - loss: 0.0038 - acc: 0.998 - ETA: 1s - loss: 0.0036 - acc: 0.998 - ETA: 1s - loss: 0.0076 - acc: 0.997 - ETA: 1s - loss: 0.0073 - acc: 0.998 - ETA: 1s - loss: 0.0069 - acc: 0.998 - ETA: 1s - loss: 0.0066 - acc: 0.998 - ETA: 1s - loss: 0.0064 - acc: 0.998 - ETA: 1s - loss: 0.0062 - acc: 0.998 - ETA: 1s - loss: 0.0060 - acc: 0.998 - ETA: 1s - loss: 0.0058 - acc: 0.998 - ETA: 1s - loss: 0.0055 - acc: 0.998 - ETA: 1s - loss: 0.0058 - acc: 0.998 - ETA: 1s - loss: 0.0056 - acc: 0.998 - ETA: 1s - loss: 0.0059 - acc: 0.998 - ETA: 1s - loss: 0.0057 - acc: 0.998 - ETA: 1s - loss: 0.0055 - acc: 0.998 - ETA: 1s - loss: 0.0065 - acc: 0.998 - ETA: 1s - loss: 0.0063 - acc: 0.998 - ETA: 1s - loss: 0.0061 - acc: 0.998 - ETA: 1s - loss: 0.0061 - acc: 0.997 - ETA: 0s - loss: 0.0072 - acc: 0.997 - ETA: 0s - loss: 0.0070 - acc: 0.997 - ETA: 0s - loss: 0.0069 - acc: 0.997 - ETA: 0s - loss: 0.0067 - acc: 0.997 - ETA: 0s - loss: 0.0065 - acc: 0.998 - ETA: 0s - loss: 0.0064 - acc: 0.998 - ETA: 0s - loss: 0.0062 - acc: 0.998 - ETA: 0s - loss: 0.0064 - acc: 0.997 - ETA: 0s - loss: 0.0062 - acc: 0.998 - ETA: 0s - loss: 0.0061 - acc: 0.998 - ETA: 0s - loss: 0.0060 - acc: 0.998 - ETA: 0s - loss: 0.0059 - acc: 0.998 - ETA: 0s - loss: 0.0057 - acc: 0.998 - ETA: 0s - loss: 0.0056 - acc: 0.998 - ETA: 0s - loss: 0.0055 - acc: 0.998 - ETA: 0s - loss: 0.0054 - acc: 0.998 - ETA: 0s - loss: 0.0053 - acc: 0.998 - ETA: 0s - loss: 0.0052 - acc: 0.9983Epoch 00007: val_loss did not improve\n",
      "6680/6680 [==============================] - 3s - loss: 0.0051 - acc: 0.9984 - val_loss: 1.0318 - val_acc: 0.8287\n",
      "Epoch 9/20\n",
      "6660/6680 [============================>.] - ETA: 3s - loss: 3.2395e-06 - acc: 1.000 - ETA: 2s - loss: 2.2711e-04 - acc: 1.000 - ETA: 2s - loss: 1.4238e-04 - acc: 1.000 - ETA: 2s - loss: 1.1103e-04 - acc: 1.000 - ETA: 2s - loss: 9.1240e-05 - acc: 1.000 - ETA: 2s - loss: 7.7200e-05 - acc: 1.000 - ETA: 2s - loss: 7.2337e-05 - acc: 1.000 - ETA: 2s - loss: 7.1680e-05 - acc: 1.000 - ETA: 2s - loss: 6.6611e-05 - acc: 1.000 - ETA: 2s - loss: 6.1705e-05 - acc: 1.000 - ETA: 2s - loss: 9.7512e-04 - acc: 0.999 - ETA: 2s - loss: 8.8827e-04 - acc: 0.999 - ETA: 2s - loss: 8.4770e-04 - acc: 0.999 - ETA: 2s - loss: 7.9950e-04 - acc: 0.999 - ETA: 2s - loss: 7.4964e-04 - acc: 0.999 - ETA: 2s - loss: 7.0259e-04 - acc: 0.999 - ETA: 2s - loss: 6.6142e-04 - acc: 0.999 - ETA: 2s - loss: 0.0024 - acc: 0.9990    - ETA: 2s - loss: 0.0023 - acc: 0.999 - ETA: 1s - loss: 0.0022 - acc: 0.999 - ETA: 1s - loss: 0.0021 - acc: 0.999 - ETA: 1s - loss: 0.0020 - acc: 0.999 - ETA: 1s - loss: 0.0019 - acc: 0.999 - ETA: 1s - loss: 0.0018 - acc: 0.999 - ETA: 1s - loss: 0.0018 - acc: 0.999 - ETA: 1s - loss: 0.0017 - acc: 0.999 - ETA: 1s - loss: 0.0041 - acc: 0.998 - ETA: 1s - loss: 0.0040 - acc: 0.998 - ETA: 1s - loss: 0.0039 - acc: 0.998 - ETA: 1s - loss: 0.0038 - acc: 0.998 - ETA: 1s - loss: 0.0036 - acc: 0.998 - ETA: 1s - loss: 0.0037 - acc: 0.998 - ETA: 1s - loss: 0.0036 - acc: 0.998 - ETA: 1s - loss: 0.0035 - acc: 0.998 - ETA: 1s - loss: 0.0034 - acc: 0.998 - ETA: 1s - loss: 0.0039 - acc: 0.998 - ETA: 1s - loss: 0.0047 - acc: 0.998 - ETA: 1s - loss: 0.0046 - acc: 0.998 - ETA: 1s - loss: 0.0045 - acc: 0.998 - ETA: 0s - loss: 0.0052 - acc: 0.998 - ETA: 0s - loss: 0.0054 - acc: 0.998 - ETA: 0s - loss: 0.0053 - acc: 0.998 - ETA: 0s - loss: 0.0053 - acc: 0.998 - ETA: 0s - loss: 0.0053 - acc: 0.998 - ETA: 0s - loss: 0.0052 - acc: 0.998 - ETA: 0s - loss: 0.0051 - acc: 0.998 - ETA: 0s - loss: 0.0050 - acc: 0.998 - ETA: 0s - loss: 0.0049 - acc: 0.998 - ETA: 0s - loss: 0.0048 - acc: 0.998 - ETA: 0s - loss: 0.0047 - acc: 0.998 - ETA: 0s - loss: 0.0046 - acc: 0.998 - ETA: 0s - loss: 0.0045 - acc: 0.998 - ETA: 0s - loss: 0.0044 - acc: 0.998 - ETA: 0s - loss: 0.0044 - acc: 0.998 - ETA: 0s - loss: 0.0043 - acc: 0.998 - ETA: 0s - loss: 0.0042 - acc: 0.998 - ETA: 0s - loss: 0.0042 - acc: 0.998 - ETA: 0s - loss: 0.0041 - acc: 0.998 - ETA: 0s - loss: 0.0040 - acc: 0.9986Epoch 00008: val_loss did not improve\n",
      "6680/6680 [==============================] - 3s - loss: 0.0040 - acc: 0.9987 - val_loss: 1.0503 - val_acc: 0.8287\n",
      "Epoch 10/20\n"
     ]
    },
    {
     "name": "stdout",
     "output_type": "stream",
     "text": [
      "6660/6680 [============================>.] - ETA: 3s - loss: 1.0622e-05 - acc: 1.000 - ETA: 2s - loss: 1.5851e-04 - acc: 1.000 - ETA: 2s - loss: 9.5982e-05 - acc: 1.000 - ETA: 2s - loss: 7.2044e-05 - acc: 1.000 - ETA: 2s - loss: 0.0031 - acc: 0.9979    - ETA: 2s - loss: 0.0037 - acc: 0.998 - ETA: 2s - loss: 0.0038 - acc: 0.998 - ETA: 2s - loss: 0.0032 - acc: 0.998 - ETA: 2s - loss: 0.0071 - acc: 0.997 - ETA: 2s - loss: 0.0064 - acc: 0.998 - ETA: 2s - loss: 0.0057 - acc: 0.998 - ETA: 2s - loss: 0.0052 - acc: 0.998 - ETA: 2s - loss: 0.0048 - acc: 0.998 - ETA: 2s - loss: 0.0045 - acc: 0.998 - ETA: 2s - loss: 0.0042 - acc: 0.998 - ETA: 2s - loss: 0.0040 - acc: 0.998 - ETA: 2s - loss: 0.0038 - acc: 0.998 - ETA: 2s - loss: 0.0037 - acc: 0.998 - ETA: 2s - loss: 0.0035 - acc: 0.999 - ETA: 2s - loss: 0.0033 - acc: 0.999 - ETA: 2s - loss: 0.0050 - acc: 0.998 - ETA: 2s - loss: 0.0047 - acc: 0.998 - ETA: 2s - loss: 0.0045 - acc: 0.998 - ETA: 1s - loss: 0.0043 - acc: 0.998 - ETA: 1s - loss: 0.0042 - acc: 0.998 - ETA: 1s - loss: 0.0040 - acc: 0.998 - ETA: 1s - loss: 0.0038 - acc: 0.999 - ETA: 1s - loss: 0.0037 - acc: 0.999 - ETA: 1s - loss: 0.0036 - acc: 0.999 - ETA: 1s - loss: 0.0034 - acc: 0.999 - ETA: 1s - loss: 0.0033 - acc: 0.999 - ETA: 1s - loss: 0.0033 - acc: 0.999 - ETA: 1s - loss: 0.0032 - acc: 0.999 - ETA: 1s - loss: 0.0031 - acc: 0.999 - ETA: 1s - loss: 0.0044 - acc: 0.999 - ETA: 1s - loss: 0.0043 - acc: 0.999 - ETA: 1s - loss: 0.0042 - acc: 0.999 - ETA: 1s - loss: 0.0040 - acc: 0.999 - ETA: 1s - loss: 0.0039 - acc: 0.999 - ETA: 1s - loss: 0.0038 - acc: 0.999 - ETA: 1s - loss: 0.0037 - acc: 0.999 - ETA: 0s - loss: 0.0036 - acc: 0.999 - ETA: 0s - loss: 0.0036 - acc: 0.999 - ETA: 0s - loss: 0.0035 - acc: 0.999 - ETA: 0s - loss: 0.0034 - acc: 0.999 - ETA: 0s - loss: 0.0033 - acc: 0.999 - ETA: 0s - loss: 0.0033 - acc: 0.999 - ETA: 0s - loss: 0.0032 - acc: 0.999 - ETA: 0s - loss: 0.0031 - acc: 0.999 - ETA: 0s - loss: 0.0031 - acc: 0.999 - ETA: 0s - loss: 0.0030 - acc: 0.999 - ETA: 0s - loss: 0.0030 - acc: 0.999 - ETA: 0s - loss: 0.0029 - acc: 0.999 - ETA: 0s - loss: 0.0030 - acc: 0.999 - ETA: 0s - loss: 0.0030 - acc: 0.999 - ETA: 0s - loss: 0.0033 - acc: 0.999 - ETA: 0s - loss: 0.0032 - acc: 0.999 - ETA: 0s - loss: 0.0032 - acc: 0.999 - ETA: 0s - loss: 0.0031 - acc: 0.999 - ETA: 0s - loss: 0.0031 - acc: 0.9991Epoch 00009: val_loss did not improve\n",
      "6680/6680 [==============================] - 3s - loss: 0.0031 - acc: 0.9991 - val_loss: 1.1322 - val_acc: 0.8132\n",
      "Epoch 11/20\n",
      "6600/6680 [============================>.] - ETA: 2s - loss: 2.3949e-05 - acc: 1.000 - ETA: 2s - loss: 1.2123e-04 - acc: 1.000 - ETA: 2s - loss: 8.4195e-05 - acc: 1.000 - ETA: 2s - loss: 6.0924e-05 - acc: 1.000 - ETA: 2s - loss: 4.9253e-05 - acc: 1.000 - ETA: 2s - loss: 5.3195e-05 - acc: 1.000 - ETA: 2s - loss: 4.8716e-05 - acc: 1.000 - ETA: 2s - loss: 4.7767e-05 - acc: 1.000 - ETA: 2s - loss: 4.3556e-05 - acc: 1.000 - ETA: 2s - loss: 4.3061e-05 - acc: 1.000 - ETA: 2s - loss: 4.3547e-05 - acc: 1.000 - ETA: 2s - loss: 0.0025 - acc: 0.9992    - ETA: 2s - loss: 0.0023 - acc: 0.999 - ETA: 2s - loss: 0.0021 - acc: 0.999 - ETA: 2s - loss: 0.0020 - acc: 0.999 - ETA: 2s - loss: 0.0029 - acc: 0.998 - ETA: 2s - loss: 0.0027 - acc: 0.998 - ETA: 2s - loss: 0.0026 - acc: 0.999 - ETA: 2s - loss: 0.0024 - acc: 0.999 - ETA: 2s - loss: 0.0023 - acc: 0.999 - ETA: 2s - loss: 0.0022 - acc: 0.999 - ETA: 2s - loss: 0.0021 - acc: 0.999 - ETA: 1s - loss: 0.0023 - acc: 0.998 - ETA: 1s - loss: 0.0022 - acc: 0.998 - ETA: 1s - loss: 0.0022 - acc: 0.998 - ETA: 1s - loss: 0.0026 - acc: 0.998 - ETA: 1s - loss: 0.0025 - acc: 0.998 - ETA: 1s - loss: 0.0024 - acc: 0.998 - ETA: 1s - loss: 0.0023 - acc: 0.998 - ETA: 1s - loss: 0.0023 - acc: 0.998 - ETA: 1s - loss: 0.0026 - acc: 0.998 - ETA: 1s - loss: 0.0025 - acc: 0.998 - ETA: 1s - loss: 0.0024 - acc: 0.998 - ETA: 1s - loss: 0.0023 - acc: 0.998 - ETA: 1s - loss: 0.0023 - acc: 0.998 - ETA: 1s - loss: 0.0022 - acc: 0.998 - ETA: 1s - loss: 0.0022 - acc: 0.998 - ETA: 1s - loss: 0.0021 - acc: 0.998 - ETA: 1s - loss: 0.0021 - acc: 0.998 - ETA: 1s - loss: 0.0020 - acc: 0.998 - ETA: 1s - loss: 0.0020 - acc: 0.998 - ETA: 0s - loss: 0.0019 - acc: 0.998 - ETA: 0s - loss: 0.0019 - acc: 0.999 - ETA: 0s - loss: 0.0019 - acc: 0.999 - ETA: 0s - loss: 0.0018 - acc: 0.999 - ETA: 0s - loss: 0.0018 - acc: 0.999 - ETA: 0s - loss: 0.0017 - acc: 0.999 - ETA: 0s - loss: 0.0017 - acc: 0.999 - ETA: 0s - loss: 0.0021 - acc: 0.998 - ETA: 0s - loss: 0.0023 - acc: 0.998 - ETA: 0s - loss: 0.0023 - acc: 0.998 - ETA: 0s - loss: 0.0023 - acc: 0.998 - ETA: 0s - loss: 0.0041 - acc: 0.998 - ETA: 0s - loss: 0.0040 - acc: 0.998 - ETA: 0s - loss: 0.0040 - acc: 0.998 - ETA: 0s - loss: 0.0044 - acc: 0.998 - ETA: 0s - loss: 0.0044 - acc: 0.998 - ETA: 0s - loss: 0.0045 - acc: 0.998 - ETA: 0s - loss: 0.0045 - acc: 0.9983Epoch 00010: val_loss did not improve\n",
      "6680/6680 [==============================] - 3s - loss: 0.0044 - acc: 0.9984 - val_loss: 1.0672 - val_acc: 0.8287\n",
      "Epoch 12/20\n",
      "6660/6680 [============================>.] - ETA: 3s - loss: 2.2799e-06 - acc: 1.000 - ETA: 2s - loss: 6.9838e-05 - acc: 1.000 - ETA: 2s - loss: 5.9667e-05 - acc: 1.000 - ETA: 2s - loss: 5.2044e-05 - acc: 1.000 - ETA: 2s - loss: 5.3754e-05 - acc: 1.000 - ETA: 2s - loss: 4.6242e-05 - acc: 1.000 - ETA: 2s - loss: 4.1179e-05 - acc: 1.000 - ETA: 2s - loss: 3.7398e-05 - acc: 1.000 - ETA: 2s - loss: 0.0044 - acc: 0.9989    - ETA: 2s - loss: 0.0064 - acc: 0.998 - ETA: 2s - loss: 0.0083 - acc: 0.997 - ETA: 2s - loss: 0.0075 - acc: 0.997 - ETA: 2s - loss: 0.0078 - acc: 0.997 - ETA: 2s - loss: 0.0074 - acc: 0.997 - ETA: 2s - loss: 0.0069 - acc: 0.997 - ETA: 2s - loss: 0.0064 - acc: 0.997 - ETA: 2s - loss: 0.0060 - acc: 0.997 - ETA: 2s - loss: 0.0057 - acc: 0.997 - ETA: 2s - loss: 0.0053 - acc: 0.998 - ETA: 2s - loss: 0.0050 - acc: 0.998 - ETA: 2s - loss: 0.0048 - acc: 0.998 - ETA: 2s - loss: 0.0047 - acc: 0.998 - ETA: 2s - loss: 0.0067 - acc: 0.998 - ETA: 2s - loss: 0.0063 - acc: 0.998 - ETA: 1s - loss: 0.0079 - acc: 0.997 - ETA: 1s - loss: 0.0076 - acc: 0.997 - ETA: 1s - loss: 0.0074 - acc: 0.997 - ETA: 1s - loss: 0.0071 - acc: 0.998 - ETA: 1s - loss: 0.0068 - acc: 0.998 - ETA: 1s - loss: 0.0066 - acc: 0.998 - ETA: 1s - loss: 0.0076 - acc: 0.997 - ETA: 1s - loss: 0.0073 - acc: 0.997 - ETA: 1s - loss: 0.0071 - acc: 0.997 - ETA: 1s - loss: 0.0069 - acc: 0.997 - ETA: 1s - loss: 0.0067 - acc: 0.997 - ETA: 1s - loss: 0.0076 - acc: 0.997 - ETA: 1s - loss: 0.0074 - acc: 0.997 - ETA: 1s - loss: 0.0072 - acc: 0.997 - ETA: 1s - loss: 0.0070 - acc: 0.997 - ETA: 1s - loss: 0.0068 - acc: 0.997 - ETA: 1s - loss: 0.0066 - acc: 0.998 - ETA: 1s - loss: 0.0070 - acc: 0.997 - ETA: 0s - loss: 0.0069 - acc: 0.997 - ETA: 0s - loss: 0.0067 - acc: 0.997 - ETA: 0s - loss: 0.0066 - acc: 0.998 - ETA: 0s - loss: 0.0064 - acc: 0.998 - ETA: 0s - loss: 0.0063 - acc: 0.998 - ETA: 0s - loss: 0.0062 - acc: 0.998 - ETA: 0s - loss: 0.0061 - acc: 0.998 - ETA: 0s - loss: 0.0059 - acc: 0.998 - ETA: 0s - loss: 0.0059 - acc: 0.998 - ETA: 0s - loss: 0.0058 - acc: 0.998 - ETA: 0s - loss: 0.0056 - acc: 0.998 - ETA: 0s - loss: 0.0055 - acc: 0.998 - ETA: 0s - loss: 0.0054 - acc: 0.998 - ETA: 0s - loss: 0.0053 - acc: 0.998 - ETA: 0s - loss: 0.0054 - acc: 0.998 - ETA: 0s - loss: 0.0053 - acc: 0.998 - ETA: 0s - loss: 0.0052 - acc: 0.998 - ETA: 0s - loss: 0.0051 - acc: 0.998 - ETA: 0s - loss: 0.0050 - acc: 0.9983Epoch 00011: val_loss did not improve\n",
      "6680/6680 [==============================] - 3s - loss: 0.0050 - acc: 0.9984 - val_loss: 1.0758 - val_acc: 0.8228\n",
      "Epoch 13/20\n"
     ]
    },
    {
     "name": "stdout",
     "output_type": "stream",
     "text": [
      "6600/6680 [============================>.] - ETA: 2s - loss: 1.0867e-05 - acc: 1.000 - ETA: 2s - loss: 0.0078 - acc: 0.9929    - ETA: 3s - loss: 0.0045 - acc: 0.995 - ETA: 3s - loss: 0.0034 - acc: 0.996 - ETA: 3s - loss: 0.0088 - acc: 0.995 - ETA: 3s - loss: 0.0069 - acc: 0.996 - ETA: 3s - loss: 0.0056 - acc: 0.997 - ETA: 2s - loss: 0.0049 - acc: 0.997 - ETA: 2s - loss: 0.0043 - acc: 0.997 - ETA: 2s - loss: 0.0038 - acc: 0.998 - ETA: 2s - loss: 0.0033 - acc: 0.998 - ETA: 2s - loss: 0.0075 - acc: 0.997 - ETA: 2s - loss: 0.0069 - acc: 0.997 - ETA: 2s - loss: 0.0064 - acc: 0.997 - ETA: 2s - loss: 0.0061 - acc: 0.998 - ETA: 2s - loss: 0.0057 - acc: 0.998 - ETA: 2s - loss: 0.0054 - acc: 0.998 - ETA: 2s - loss: 0.0051 - acc: 0.998 - ETA: 2s - loss: 0.0048 - acc: 0.998 - ETA: 2s - loss: 0.0045 - acc: 0.998 - ETA: 2s - loss: 0.0042 - acc: 0.998 - ETA: 2s - loss: 0.0040 - acc: 0.998 - ETA: 2s - loss: 0.0038 - acc: 0.998 - ETA: 1s - loss: 0.0037 - acc: 0.998 - ETA: 1s - loss: 0.0035 - acc: 0.998 - ETA: 1s - loss: 0.0034 - acc: 0.998 - ETA: 1s - loss: 0.0032 - acc: 0.999 - ETA: 1s - loss: 0.0039 - acc: 0.998 - ETA: 1s - loss: 0.0038 - acc: 0.998 - ETA: 1s - loss: 0.0036 - acc: 0.998 - ETA: 1s - loss: 0.0035 - acc: 0.998 - ETA: 1s - loss: 0.0034 - acc: 0.998 - ETA: 1s - loss: 0.0033 - acc: 0.998 - ETA: 1s - loss: 0.0036 - acc: 0.998 - ETA: 1s - loss: 0.0035 - acc: 0.998 - ETA: 1s - loss: 0.0034 - acc: 0.998 - ETA: 1s - loss: 0.0033 - acc: 0.998 - ETA: 1s - loss: 0.0033 - acc: 0.998 - ETA: 1s - loss: 0.0032 - acc: 0.998 - ETA: 1s - loss: 0.0032 - acc: 0.998 - ETA: 1s - loss: 0.0031 - acc: 0.998 - ETA: 1s - loss: 0.0031 - acc: 0.998 - ETA: 0s - loss: 0.0030 - acc: 0.998 - ETA: 0s - loss: 0.0029 - acc: 0.999 - ETA: 0s - loss: 0.0029 - acc: 0.999 - ETA: 0s - loss: 0.0028 - acc: 0.999 - ETA: 0s - loss: 0.0047 - acc: 0.998 - ETA: 0s - loss: 0.0046 - acc: 0.998 - ETA: 0s - loss: 0.0045 - acc: 0.998 - ETA: 0s - loss: 0.0044 - acc: 0.998 - ETA: 0s - loss: 0.0053 - acc: 0.998 - ETA: 0s - loss: 0.0052 - acc: 0.998 - ETA: 0s - loss: 0.0051 - acc: 0.998 - ETA: 0s - loss: 0.0055 - acc: 0.998 - ETA: 0s - loss: 0.0054 - acc: 0.998 - ETA: 0s - loss: 0.0053 - acc: 0.998 - ETA: 0s - loss: 0.0052 - acc: 0.998 - ETA: 0s - loss: 0.0051 - acc: 0.998 - ETA: 0s - loss: 0.0050 - acc: 0.9986Epoch 00012: val_loss did not improve\n",
      "6680/6680 [==============================] - 3s - loss: 0.0050 - acc: 0.9987 - val_loss: 1.1122 - val_acc: 0.8240\n",
      "Epoch 14/20\n",
      "6620/6680 [============================>.] - ETA: 2s - loss: 1.6689e-06 - acc: 1.000 - ETA: 3s - loss: 2.5064e-06 - acc: 1.000 - ETA: 3s - loss: 2.0992e-05 - acc: 1.000 - ETA: 2s - loss: 1.5067e-05 - acc: 1.000 - ETA: 2s - loss: 1.5342e-05 - acc: 1.000 - ETA: 2s - loss: 1.4005e-05 - acc: 1.000 - ETA: 2s - loss: 1.3902e-05 - acc: 1.000 - ETA: 2s - loss: 1.3313e-05 - acc: 1.000 - ETA: 2s - loss: 1.3924e-05 - acc: 1.000 - ETA: 2s - loss: 1.4552e-05 - acc: 1.000 - ETA: 2s - loss: 6.5374e-05 - acc: 1.000 - ETA: 2s - loss: 6.7679e-05 - acc: 1.000 - ETA: 2s - loss: 4.1946e-04 - acc: 1.000 - ETA: 2s - loss: 0.0051 - acc: 0.9994    - ETA: 2s - loss: 0.0048 - acc: 0.999 - ETA: 2s - loss: 0.0045 - acc: 0.999 - ETA: 2s - loss: 0.0042 - acc: 0.999 - ETA: 2s - loss: 0.0040 - acc: 0.999 - ETA: 2s - loss: 0.0038 - acc: 0.999 - ETA: 1s - loss: 0.0058 - acc: 0.999 - ETA: 1s - loss: 0.0055 - acc: 0.999 - ETA: 1s - loss: 0.0052 - acc: 0.999 - ETA: 1s - loss: 0.0050 - acc: 0.999 - ETA: 1s - loss: 0.0048 - acc: 0.999 - ETA: 1s - loss: 0.0046 - acc: 0.999 - ETA: 1s - loss: 0.0044 - acc: 0.999 - ETA: 1s - loss: 0.0043 - acc: 0.999 - ETA: 1s - loss: 0.0042 - acc: 0.999 - ETA: 1s - loss: 0.0040 - acc: 0.999 - ETA: 1s - loss: 0.0039 - acc: 0.999 - ETA: 1s - loss: 0.0037 - acc: 0.999 - ETA: 1s - loss: 0.0036 - acc: 0.999 - ETA: 1s - loss: 0.0035 - acc: 0.999 - ETA: 1s - loss: 0.0034 - acc: 0.999 - ETA: 1s - loss: 0.0033 - acc: 0.999 - ETA: 1s - loss: 0.0032 - acc: 0.999 - ETA: 1s - loss: 0.0031 - acc: 0.999 - ETA: 1s - loss: 0.0031 - acc: 0.999 - ETA: 0s - loss: 0.0030 - acc: 0.999 - ETA: 0s - loss: 0.0029 - acc: 0.999 - ETA: 0s - loss: 0.0028 - acc: 0.999 - ETA: 0s - loss: 0.0028 - acc: 0.999 - ETA: 0s - loss: 0.0027 - acc: 0.999 - ETA: 0s - loss: 0.0027 - acc: 0.999 - ETA: 0s - loss: 0.0026 - acc: 0.999 - ETA: 0s - loss: 0.0025 - acc: 0.999 - ETA: 0s - loss: 0.0025 - acc: 0.999 - ETA: 0s - loss: 0.0026 - acc: 0.999 - ETA: 0s - loss: 0.0025 - acc: 0.999 - ETA: 0s - loss: 0.0028 - acc: 0.999 - ETA: 0s - loss: 0.0028 - acc: 0.999 - ETA: 0s - loss: 0.0032 - acc: 0.999 - ETA: 0s - loss: 0.0032 - acc: 0.999 - ETA: 0s - loss: 0.0031 - acc: 0.999 - ETA: 0s - loss: 0.0031 - acc: 0.999 - ETA: 0s - loss: 0.0040 - acc: 0.999 - ETA: 0s - loss: 0.0039 - acc: 0.999 - ETA: 0s - loss: 0.0038 - acc: 0.9992Epoch 00013: val_loss did not improve\n",
      "6680/6680 [==============================] - 3s - loss: 0.0038 - acc: 0.9993 - val_loss: 1.1837 - val_acc: 0.8180\n",
      "Epoch 15/20\n",
      "6600/6680 [============================>.] - ETA: 3s - loss: 2.4218e-04 - acc: 1.000 - ETA: 2s - loss: 4.1039e-05 - acc: 1.000 - ETA: 3s - loss: 3.0067e-05 - acc: 1.000 - ETA: 3s - loss: 9.0334e-05 - acc: 1.000 - ETA: 2s - loss: 8.4999e-05 - acc: 1.000 - ETA: 2s - loss: 8.6101e-05 - acc: 1.000 - ETA: 2s - loss: 7.4189e-05 - acc: 1.000 - ETA: 2s - loss: 6.4624e-05 - acc: 1.000 - ETA: 2s - loss: 5.6887e-05 - acc: 1.000 - ETA: 2s - loss: 5.1895e-05 - acc: 1.000 - ETA: 2s - loss: 5.0387e-05 - acc: 1.000 - ETA: 2s - loss: 4.8296e-05 - acc: 1.000 - ETA: 2s - loss: 0.0013 - acc: 0.9993    - ETA: 2s - loss: 0.0012 - acc: 0.999 - ETA: 2s - loss: 0.0011 - acc: 0.999 - ETA: 2s - loss: 0.0010 - acc: 0.999 - ETA: 2s - loss: 9.8506e-04 - acc: 0.999 - ETA: 2s - loss: 9.3419e-04 - acc: 0.999 - ETA: 2s - loss: 8.7914e-04 - acc: 0.999 - ETA: 2s - loss: 0.0011 - acc: 0.9995    - ETA: 2s - loss: 0.0031 - acc: 0.999 - ETA: 2s - loss: 0.0029 - acc: 0.999 - ETA: 2s - loss: 0.0029 - acc: 0.999 - ETA: 1s - loss: 0.0028 - acc: 0.999 - ETA: 1s - loss: 0.0027 - acc: 0.999 - ETA: 1s - loss: 0.0026 - acc: 0.999 - ETA: 1s - loss: 0.0025 - acc: 0.999 - ETA: 1s - loss: 0.0026 - acc: 0.999 - ETA: 1s - loss: 0.0025 - acc: 0.999 - ETA: 1s - loss: 0.0025 - acc: 0.999 - ETA: 1s - loss: 0.0024 - acc: 0.999 - ETA: 1s - loss: 0.0023 - acc: 0.999 - ETA: 1s - loss: 0.0022 - acc: 0.999 - ETA: 1s - loss: 0.0022 - acc: 0.999 - ETA: 1s - loss: 0.0021 - acc: 0.999 - ETA: 1s - loss: 0.0020 - acc: 0.999 - ETA: 1s - loss: 0.0020 - acc: 0.999 - ETA: 1s - loss: 0.0030 - acc: 0.999 - ETA: 1s - loss: 0.0029 - acc: 0.999 - ETA: 1s - loss: 0.0028 - acc: 0.999 - ETA: 1s - loss: 0.0028 - acc: 0.999 - ETA: 1s - loss: 0.0027 - acc: 0.999 - ETA: 0s - loss: 0.0027 - acc: 0.999 - ETA: 0s - loss: 0.0026 - acc: 0.999 - ETA: 0s - loss: 0.0025 - acc: 0.999 - ETA: 0s - loss: 0.0025 - acc: 0.999 - ETA: 0s - loss: 0.0026 - acc: 0.999 - ETA: 0s - loss: 0.0026 - acc: 0.999 - ETA: 0s - loss: 0.0034 - acc: 0.999 - ETA: 0s - loss: 0.0033 - acc: 0.999 - ETA: 0s - loss: 0.0033 - acc: 0.999 - ETA: 0s - loss: 0.0043 - acc: 0.998 - ETA: 0s - loss: 0.0042 - acc: 0.998 - ETA: 0s - loss: 0.0041 - acc: 0.999 - ETA: 0s - loss: 0.0041 - acc: 0.999 - ETA: 0s - loss: 0.0040 - acc: 0.999 - ETA: 0s - loss: 0.0040 - acc: 0.999 - ETA: 0s - loss: 0.0055 - acc: 0.998 - ETA: 0s - loss: 0.0054 - acc: 0.998 - ETA: 0s - loss: 0.0058 - acc: 0.998 - ETA: 0s - loss: 0.0057 - acc: 0.998 - ETA: 0s - loss: 0.0056 - acc: 0.9988Epoch 00014: val_loss did not improve\n",
      "6680/6680 [==============================] - 3s - loss: 0.0055 - acc: 0.9988 - val_loss: 1.1563 - val_acc: 0.8240\n",
      "Epoch 16/20\n"
     ]
    },
    {
     "name": "stdout",
     "output_type": "stream",
     "text": [
      "6560/6680 [============================>.] - ETA: 3s - loss: 3.5067e-04 - acc: 1.000 - ETA: 3s - loss: 6.0452e-05 - acc: 1.000 - ETA: 3s - loss: 3.9185e-05 - acc: 1.000 - ETA: 3s - loss: 2.9469e-05 - acc: 1.000 - ETA: 3s - loss: 5.4784e-04 - acc: 1.000 - ETA: 3s - loss: 4.3494e-04 - acc: 1.000 - ETA: 2s - loss: 3.7141e-04 - acc: 1.000 - ETA: 2s - loss: 0.0029 - acc: 0.9987    - ETA: 2s - loss: 0.0026 - acc: 0.998 - ETA: 2s - loss: 0.0023 - acc: 0.999 - ETA: 2s - loss: 0.0021 - acc: 0.999 - ETA: 2s - loss: 0.0019 - acc: 0.999 - ETA: 2s - loss: 0.0018 - acc: 0.999 - ETA: 2s - loss: 0.0016 - acc: 0.999 - ETA: 2s - loss: 0.0015 - acc: 0.999 - ETA: 2s - loss: 0.0015 - acc: 0.999 - ETA: 2s - loss: 0.0014 - acc: 0.999 - ETA: 2s - loss: 0.0013 - acc: 0.999 - ETA: 2s - loss: 0.0012 - acc: 0.999 - ETA: 2s - loss: 0.0011 - acc: 0.999 - ETA: 2s - loss: 0.0011 - acc: 0.999 - ETA: 2s - loss: 0.0021 - acc: 0.999 - ETA: 2s - loss: 0.0020 - acc: 0.999 - ETA: 2s - loss: 0.0019 - acc: 0.999 - ETA: 2s - loss: 0.0019 - acc: 0.999 - ETA: 2s - loss: 0.0018 - acc: 0.999 - ETA: 1s - loss: 0.0018 - acc: 0.999 - ETA: 1s - loss: 0.0017 - acc: 0.999 - ETA: 1s - loss: 0.0016 - acc: 0.999 - ETA: 1s - loss: 0.0016 - acc: 0.999 - ETA: 1s - loss: 0.0015 - acc: 0.999 - ETA: 1s - loss: 0.0015 - acc: 0.999 - ETA: 1s - loss: 0.0014 - acc: 0.999 - ETA: 1s - loss: 0.0014 - acc: 0.999 - ETA: 1s - loss: 0.0013 - acc: 0.999 - ETA: 1s - loss: 0.0013 - acc: 0.999 - ETA: 1s - loss: 0.0025 - acc: 0.999 - ETA: 1s - loss: 0.0035 - acc: 0.998 - ETA: 1s - loss: 0.0034 - acc: 0.998 - ETA: 1s - loss: 0.0045 - acc: 0.998 - ETA: 1s - loss: 0.0045 - acc: 0.998 - ETA: 1s - loss: 0.0044 - acc: 0.998 - ETA: 1s - loss: 0.0053 - acc: 0.998 - ETA: 0s - loss: 0.0052 - acc: 0.998 - ETA: 0s - loss: 0.0051 - acc: 0.998 - ETA: 0s - loss: 0.0049 - acc: 0.998 - ETA: 0s - loss: 0.0048 - acc: 0.998 - ETA: 0s - loss: 0.0047 - acc: 0.998 - ETA: 0s - loss: 0.0046 - acc: 0.998 - ETA: 0s - loss: 0.0045 - acc: 0.998 - ETA: 0s - loss: 0.0044 - acc: 0.998 - ETA: 0s - loss: 0.0043 - acc: 0.998 - ETA: 0s - loss: 0.0043 - acc: 0.998 - ETA: 0s - loss: 0.0042 - acc: 0.998 - ETA: 0s - loss: 0.0043 - acc: 0.998 - ETA: 0s - loss: 0.0048 - acc: 0.998 - ETA: 0s - loss: 0.0048 - acc: 0.998 - ETA: 0s - loss: 0.0047 - acc: 0.998 - ETA: 0s - loss: 0.0046 - acc: 0.998 - ETA: 0s - loss: 0.0045 - acc: 0.9983Epoch 00015: val_loss did not improve\n",
      "6680/6680 [==============================] - 3s - loss: 0.0044 - acc: 0.9984 - val_loss: 1.1393 - val_acc: 0.8204\n",
      "Epoch 17/20\n",
      "6660/6680 [============================>.] - ETA: 3s - loss: 2.2538e-05 - acc: 1.000 - ETA: 2s - loss: 6.2958e-05 - acc: 1.000 - ETA: 2s - loss: 4.0423e-05 - acc: 1.000 - ETA: 2s - loss: 2.8970e-05 - acc: 1.000 - ETA: 2s - loss: 2.2010e-05 - acc: 1.000 - ETA: 2s - loss: 2.6780e-05 - acc: 1.000 - ETA: 2s - loss: 2.3289e-05 - acc: 1.000 - ETA: 2s - loss: 2.0376e-05 - acc: 1.000 - ETA: 2s - loss: 1.9005e-05 - acc: 1.000 - ETA: 2s - loss: 1.9439e-05 - acc: 1.000 - ETA: 2s - loss: 1.7861e-05 - acc: 1.000 - ETA: 2s - loss: 2.9703e-04 - acc: 1.000 - ETA: 2s - loss: 2.7176e-04 - acc: 1.000 - ETA: 2s - loss: 2.4983e-04 - acc: 1.000 - ETA: 2s - loss: 2.3652e-04 - acc: 1.000 - ETA: 2s - loss: 2.2137e-04 - acc: 1.000 - ETA: 2s - loss: 2.0922e-04 - acc: 1.000 - ETA: 2s - loss: 1.9927e-04 - acc: 1.000 - ETA: 2s - loss: 0.0019 - acc: 0.9995    - ETA: 2s - loss: 0.0018 - acc: 0.999 - ETA: 2s - loss: 0.0017 - acc: 0.999 - ETA: 2s - loss: 0.0016 - acc: 0.999 - ETA: 2s - loss: 0.0015 - acc: 0.999 - ETA: 1s - loss: 0.0015 - acc: 0.999 - ETA: 1s - loss: 0.0014 - acc: 0.999 - ETA: 1s - loss: 0.0013 - acc: 0.999 - ETA: 1s - loss: 0.0015 - acc: 0.999 - ETA: 1s - loss: 0.0014 - acc: 0.999 - ETA: 1s - loss: 0.0014 - acc: 0.999 - ETA: 1s - loss: 0.0017 - acc: 0.999 - ETA: 1s - loss: 0.0017 - acc: 0.999 - ETA: 1s - loss: 0.0016 - acc: 0.999 - ETA: 1s - loss: 0.0016 - acc: 0.999 - ETA: 1s - loss: 0.0015 - acc: 0.999 - ETA: 1s - loss: 0.0015 - acc: 0.999 - ETA: 1s - loss: 0.0029 - acc: 0.999 - ETA: 1s - loss: 0.0041 - acc: 0.998 - ETA: 1s - loss: 0.0040 - acc: 0.998 - ETA: 1s - loss: 0.0039 - acc: 0.998 - ETA: 1s - loss: 0.0038 - acc: 0.998 - ETA: 1s - loss: 0.0037 - acc: 0.998 - ETA: 1s - loss: 0.0036 - acc: 0.998 - ETA: 0s - loss: 0.0035 - acc: 0.998 - ETA: 0s - loss: 0.0035 - acc: 0.999 - ETA: 0s - loss: 0.0034 - acc: 0.999 - ETA: 0s - loss: 0.0041 - acc: 0.998 - ETA: 0s - loss: 0.0040 - acc: 0.998 - ETA: 0s - loss: 0.0044 - acc: 0.998 - ETA: 0s - loss: 0.0043 - acc: 0.998 - ETA: 0s - loss: 0.0042 - acc: 0.998 - ETA: 0s - loss: 0.0046 - acc: 0.998 - ETA: 0s - loss: 0.0045 - acc: 0.998 - ETA: 0s - loss: 0.0044 - acc: 0.998 - ETA: 0s - loss: 0.0043 - acc: 0.998 - ETA: 0s - loss: 0.0042 - acc: 0.998 - ETA: 0s - loss: 0.0042 - acc: 0.998 - ETA: 0s - loss: 0.0041 - acc: 0.998 - ETA: 0s - loss: 0.0040 - acc: 0.998 - ETA: 0s - loss: 0.0048 - acc: 0.998 - ETA: 0s - loss: 0.0047 - acc: 0.998 - ETA: 0s - loss: 0.0046 - acc: 0.9986Epoch 00016: val_loss did not improve\n",
      "6680/6680 [==============================] - 3s - loss: 0.0046 - acc: 0.9987 - val_loss: 1.1786 - val_acc: 0.8204\n",
      "Epoch 18/20\n",
      "6600/6680 [============================>.] - ETA: 3s - loss: 3.1292e-07 - acc: 1.000 - ETA: 2s - loss: 2.3115e-06 - acc: 1.000 - ETA: 3s - loss: 4.4780e-05 - acc: 1.000 - ETA: 3s - loss: 3.2236e-05 - acc: 1.000 - ETA: 3s - loss: 2.5418e-05 - acc: 1.000 - ETA: 2s - loss: 2.1020e-05 - acc: 1.000 - ETA: 3s - loss: 1.8425e-05 - acc: 1.000 - ETA: 3s - loss: 1.7158e-05 - acc: 1.000 - ETA: 3s - loss: 1.5592e-05 - acc: 1.000 - ETA: 2s - loss: 1.4947e-04 - acc: 1.000 - ETA: 2s - loss: 1.3689e-04 - acc: 1.000 - ETA: 2s - loss: 0.0020 - acc: 0.9992    - ETA: 2s - loss: 0.0018 - acc: 0.999 - ETA: 2s - loss: 0.0017 - acc: 0.999 - ETA: 2s - loss: 0.0016 - acc: 0.999 - ETA: 2s - loss: 0.0014 - acc: 0.999 - ETA: 2s - loss: 0.0013 - acc: 0.999 - ETA: 2s - loss: 0.0013 - acc: 0.999 - ETA: 2s - loss: 0.0026 - acc: 0.999 - ETA: 2s - loss: 0.0025 - acc: 0.999 - ETA: 2s - loss: 0.0024 - acc: 0.999 - ETA: 2s - loss: 0.0023 - acc: 0.999 - ETA: 2s - loss: 0.0021 - acc: 0.999 - ETA: 2s - loss: 0.0021 - acc: 0.999 - ETA: 2s - loss: 0.0020 - acc: 0.999 - ETA: 2s - loss: 0.0019 - acc: 0.999 - ETA: 1s - loss: 0.0018 - acc: 0.999 - ETA: 1s - loss: 0.0018 - acc: 0.999 - ETA: 1s - loss: 0.0017 - acc: 0.999 - ETA: 1s - loss: 0.0016 - acc: 0.999 - ETA: 1s - loss: 0.0016 - acc: 0.999 - ETA: 1s - loss: 0.0015 - acc: 0.999 - ETA: 1s - loss: 0.0015 - acc: 0.999 - ETA: 1s - loss: 0.0014 - acc: 0.999 - ETA: 1s - loss: 0.0014 - acc: 0.999 - ETA: 1s - loss: 0.0014 - acc: 0.999 - ETA: 1s - loss: 0.0013 - acc: 0.999 - ETA: 1s - loss: 0.0013 - acc: 0.999 - ETA: 1s - loss: 0.0013 - acc: 0.999 - ETA: 1s - loss: 0.0012 - acc: 0.999 - ETA: 1s - loss: 0.0012 - acc: 0.999 - ETA: 1s - loss: 0.0012 - acc: 0.999 - ETA: 1s - loss: 0.0011 - acc: 0.999 - ETA: 1s - loss: 0.0021 - acc: 0.999 - ETA: 1s - loss: 0.0021 - acc: 0.999 - ETA: 0s - loss: 0.0021 - acc: 0.999 - ETA: 0s - loss: 0.0033 - acc: 0.999 - ETA: 0s - loss: 0.0032 - acc: 0.999 - ETA: 0s - loss: 0.0032 - acc: 0.999 - ETA: 0s - loss: 0.0031 - acc: 0.999 - ETA: 0s - loss: 0.0048 - acc: 0.999 - ETA: 0s - loss: 0.0047 - acc: 0.999 - ETA: 0s - loss: 0.0046 - acc: 0.999 - ETA: 0s - loss: 0.0046 - acc: 0.999 - ETA: 0s - loss: 0.0045 - acc: 0.999 - ETA: 0s - loss: 0.0044 - acc: 0.999 - ETA: 0s - loss: 0.0051 - acc: 0.999 - ETA: 0s - loss: 0.0051 - acc: 0.999 - ETA: 0s - loss: 0.0050 - acc: 0.999 - ETA: 0s - loss: 0.0049 - acc: 0.999 - ETA: 0s - loss: 0.0057 - acc: 0.998 - ETA: 0s - loss: 0.0056 - acc: 0.998 - ETA: 0s - loss: 0.0055 - acc: 0.998 - ETA: 0s - loss: 0.0055 - acc: 0.9989Epoch 00017: val_loss did not improve\n",
      "6680/6680 [==============================] - 3s - loss: 0.0054 - acc: 0.9990 - val_loss: 1.1619 - val_acc: 0.8359\n",
      "Epoch 19/20\n"
     ]
    },
    {
     "name": "stdout",
     "output_type": "stream",
     "text": [
      "6660/6680 [============================>.] - ETA: 2s - loss: 1.0163e-06 - acc: 1.000 - ETA: 2s - loss: 0.0446 - acc: 0.9857    - ETA: 3s - loss: 0.0260 - acc: 0.991 - ETA: 3s - loss: 0.0184 - acc: 0.994 - ETA: 3s - loss: 0.0142 - acc: 0.995 - ETA: 3s - loss: 0.0116 - acc: 0.996 - ETA: 3s - loss: 0.0098 - acc: 0.996 - ETA: 3s - loss: 0.0085 - acc: 0.997 - ETA: 2s - loss: 0.0081 - acc: 0.997 - ETA: 2s - loss: 0.0071 - acc: 0.998 - ETA: 2s - loss: 0.0064 - acc: 0.998 - ETA: 2s - loss: 0.0059 - acc: 0.998 - ETA: 2s - loss: 0.0054 - acc: 0.998 - ETA: 2s - loss: 0.0050 - acc: 0.998 - ETA: 2s - loss: 0.0077 - acc: 0.998 - ETA: 2s - loss: 0.0073 - acc: 0.998 - ETA: 2s - loss: 0.0068 - acc: 0.998 - ETA: 2s - loss: 0.0065 - acc: 0.998 - ETA: 2s - loss: 0.0061 - acc: 0.998 - ETA: 2s - loss: 0.0057 - acc: 0.998 - ETA: 2s - loss: 0.0055 - acc: 0.998 - ETA: 2s - loss: 0.0052 - acc: 0.998 - ETA: 2s - loss: 0.0049 - acc: 0.998 - ETA: 2s - loss: 0.0053 - acc: 0.998 - ETA: 2s - loss: 0.0051 - acc: 0.998 - ETA: 1s - loss: 0.0048 - acc: 0.998 - ETA: 1s - loss: 0.0050 - acc: 0.998 - ETA: 1s - loss: 0.0049 - acc: 0.998 - ETA: 1s - loss: 0.0048 - acc: 0.998 - ETA: 1s - loss: 0.0046 - acc: 0.998 - ETA: 1s - loss: 0.0044 - acc: 0.998 - ETA: 1s - loss: 0.0042 - acc: 0.998 - ETA: 1s - loss: 0.0052 - acc: 0.998 - ETA: 1s - loss: 0.0051 - acc: 0.998 - ETA: 1s - loss: 0.0049 - acc: 0.998 - ETA: 1s - loss: 0.0048 - acc: 0.998 - ETA: 1s - loss: 0.0046 - acc: 0.998 - ETA: 1s - loss: 0.0045 - acc: 0.998 - ETA: 1s - loss: 0.0052 - acc: 0.998 - ETA: 1s - loss: 0.0051 - acc: 0.998 - ETA: 1s - loss: 0.0050 - acc: 0.998 - ETA: 1s - loss: 0.0048 - acc: 0.998 - ETA: 1s - loss: 0.0047 - acc: 0.998 - ETA: 0s - loss: 0.0046 - acc: 0.998 - ETA: 0s - loss: 0.0045 - acc: 0.998 - ETA: 0s - loss: 0.0044 - acc: 0.998 - ETA: 0s - loss: 0.0043 - acc: 0.998 - ETA: 0s - loss: 0.0042 - acc: 0.998 - ETA: 0s - loss: 0.0041 - acc: 0.998 - ETA: 0s - loss: 0.0040 - acc: 0.998 - ETA: 0s - loss: 0.0040 - acc: 0.998 - ETA: 0s - loss: 0.0039 - acc: 0.998 - ETA: 0s - loss: 0.0038 - acc: 0.998 - ETA: 0s - loss: 0.0040 - acc: 0.998 - ETA: 0s - loss: 0.0043 - acc: 0.998 - ETA: 0s - loss: 0.0044 - acc: 0.998 - ETA: 0s - loss: 0.0043 - acc: 0.998 - ETA: 0s - loss: 0.0043 - acc: 0.998 - ETA: 0s - loss: 0.0042 - acc: 0.998 - ETA: 0s - loss: 0.0041 - acc: 0.998 - ETA: 0s - loss: 0.0040 - acc: 0.998 - ETA: 0s - loss: 0.0040 - acc: 0.9985Epoch 00018: val_loss did not improve\n",
      "6680/6680 [==============================] - 3s - loss: 0.0040 - acc: 0.9985 - val_loss: 1.2046 - val_acc: 0.8168\n",
      "Epoch 20/20\n",
      "6620/6680 [============================>.] - ETA: 3s - loss: 7.2127e-05 - acc: 1.000 - ETA: 3s - loss: 1.5415e-05 - acc: 1.000 - ETA: 4s - loss: 9.9146e-06 - acc: 1.000 - ETA: 4s - loss: 8.1166e-06 - acc: 1.000 - ETA: 3s - loss: 6.4418e-06 - acc: 1.000 - ETA: 3s - loss: 5.1252e-06 - acc: 1.000 - ETA: 3s - loss: 0.0032 - acc: 0.9983    - ETA: 3s - loss: 0.0031 - acc: 0.998 - ETA: 3s - loss: 0.0030 - acc: 0.998 - ETA: 3s - loss: 0.0027 - acc: 0.998 - ETA: 3s - loss: 0.0025 - acc: 0.998 - ETA: 3s - loss: 0.0022 - acc: 0.998 - ETA: 3s - loss: 0.0020 - acc: 0.999 - ETA: 3s - loss: 0.0019 - acc: 0.999 - ETA: 3s - loss: 0.0024 - acc: 0.998 - ETA: 3s - loss: 0.0022 - acc: 0.998 - ETA: 3s - loss: 0.0021 - acc: 0.998 - ETA: 3s - loss: 0.0036 - acc: 0.997 - ETA: 3s - loss: 0.0034 - acc: 0.998 - ETA: 3s - loss: 0.0032 - acc: 0.998 - ETA: 3s - loss: 0.0030 - acc: 0.998 - ETA: 3s - loss: 0.0028 - acc: 0.998 - ETA: 2s - loss: 0.0027 - acc: 0.998 - ETA: 2s - loss: 0.0026 - acc: 0.998 - ETA: 2s - loss: 0.0024 - acc: 0.998 - ETA: 2s - loss: 0.0023 - acc: 0.998 - ETA: 2s - loss: 0.0022 - acc: 0.998 - ETA: 2s - loss: 0.0022 - acc: 0.998 - ETA: 2s - loss: 0.0021 - acc: 0.998 - ETA: 2s - loss: 0.0021 - acc: 0.998 - ETA: 2s - loss: 0.0020 - acc: 0.998 - ETA: 2s - loss: 0.0019 - acc: 0.998 - ETA: 2s - loss: 0.0019 - acc: 0.999 - ETA: 2s - loss: 0.0018 - acc: 0.999 - ETA: 2s - loss: 0.0018 - acc: 0.999 - ETA: 2s - loss: 0.0017 - acc: 0.999 - ETA: 2s - loss: 0.0016 - acc: 0.999 - ETA: 1s - loss: 0.0016 - acc: 0.999 - ETA: 1s - loss: 0.0016 - acc: 0.999 - ETA: 1s - loss: 0.0018 - acc: 0.998 - ETA: 1s - loss: 0.0018 - acc: 0.998 - ETA: 1s - loss: 0.0017 - acc: 0.998 - ETA: 1s - loss: 0.0027 - acc: 0.998 - ETA: 1s - loss: 0.0027 - acc: 0.998 - ETA: 1s - loss: 0.0026 - acc: 0.998 - ETA: 1s - loss: 0.0026 - acc: 0.998 - ETA: 1s - loss: 0.0034 - acc: 0.998 - ETA: 1s - loss: 0.0057 - acc: 0.998 - ETA: 1s - loss: 0.0056 - acc: 0.998 - ETA: 1s - loss: 0.0054 - acc: 0.998 - ETA: 1s - loss: 0.0053 - acc: 0.998 - ETA: 1s - loss: 0.0052 - acc: 0.998 - ETA: 1s - loss: 0.0051 - acc: 0.998 - ETA: 0s - loss: 0.0050 - acc: 0.998 - ETA: 0s - loss: 0.0049 - acc: 0.998 - ETA: 0s - loss: 0.0048 - acc: 0.998 - ETA: 0s - loss: 0.0047 - acc: 0.998 - ETA: 0s - loss: 0.0046 - acc: 0.998 - ETA: 0s - loss: 0.0046 - acc: 0.998 - ETA: 0s - loss: 0.0045 - acc: 0.998 - ETA: 0s - loss: 0.0044 - acc: 0.998 - ETA: 0s - loss: 0.0044 - acc: 0.998 - ETA: 0s - loss: 0.0049 - acc: 0.998 - ETA: 0s - loss: 0.0048 - acc: 0.998 - ETA: 0s - loss: 0.0048 - acc: 0.998 - ETA: 0s - loss: 0.0047 - acc: 0.998 - ETA: 0s - loss: 0.0046 - acc: 0.998 - ETA: 0s - loss: 0.0046 - acc: 0.998 - ETA: 0s - loss: 0.0055 - acc: 0.998 - ETA: 0s - loss: 0.0054 - acc: 0.998 - ETA: 0s - loss: 0.0054 - acc: 0.998 - ETA: 0s - loss: 0.0053 - acc: 0.998 - ETA: 0s - loss: 0.0052 - acc: 0.9986Epoch 00019: val_loss did not improve\n",
      "6680/6680 [==============================] - 4s - loss: 0.0052 - acc: 0.9987 - val_loss: 1.2323 - val_acc: 0.8275\n"
     ]
    },
    {
     "data": {
      "text/plain": [
       "<keras.callbacks.History at 0x158c6048>"
      ]
     },
     "execution_count": 23,
     "metadata": {},
     "output_type": "execute_result"
    }
   ],
   "source": [
    "## 训练模型\n",
    "from keras.callbacks import ModelCheckpoint\n",
    "\n",
    "checkpointer = ModelCheckpoint(filepath=r'E:\\code\\python\\UAV_homework\\week8\\weights.best.ResNet.hdf5', \n",
    "                               verbose=1, save_best_only=True)\n",
    "\n",
    "Resnet_model.fit(train_Resnet, train_targets, \n",
    "          validation_data=(valid_Resnet, valid_targets),\n",
    "          epochs=20, batch_size=20, callbacks=[checkpointer], verbose=1)"
   ]
  },
  {
   "cell_type": "code",
   "execution_count": 24,
   "metadata": {},
   "outputs": [
    {
     "name": "stdout",
     "output_type": "stream",
     "text": [
      "Test accuracy: 81.6986%\n"
     ]
    }
   ],
   "source": [
    "\"\"\"模型测试\"\"\"\n",
    "Resnet_model.load_weights(r'E:\\code\\python\\UAV_homework\\week8\\weights.best.ResNet.hdf5')    # 加载具有最好验证loss的模型\n",
    "\n",
    "# 获取测试数据集中每一个图像所预测的狗品种的index\n",
    "Resnet_predictions = [np.argmax(Resnet_model.predict(np.expand_dims(feature, axis=0))) for feature in test_Resnet]\n",
    "\n",
    "# 报告测试准确率\n",
    "test_accuracy = 100*np.sum(np.array(Resnet_predictions)==np.argmax(test_targets, axis=1))/len(Resnet_predictions)\n",
    "print('Test accuracy: %.4f%%' % test_accuracy)"
   ]
  },
  {
   "cell_type": "code",
   "execution_count": null,
   "metadata": {
    "collapsed": true
   },
   "outputs": [],
   "source": []
  }
 ],
 "metadata": {
  "kernelspec": {
   "display_name": "Python [conda env:backup1]",
   "language": "python",
   "name": "conda-env-backup1-py"
  },
  "language_info": {
   "codemirror_mode": {
    "name": "ipython",
    "version": 3
   },
   "file_extension": ".py",
   "mimetype": "text/x-python",
   "name": "python",
   "nbconvert_exporter": "python",
   "pygments_lexer": "ipython3",
   "version": "3.5.2"
  }
 },
 "nbformat": 4,
 "nbformat_minor": 1
}
