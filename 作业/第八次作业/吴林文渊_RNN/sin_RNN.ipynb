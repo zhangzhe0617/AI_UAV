{
 "cells": [
  {
   "cell_type": "code",
   "execution_count": 2,
   "metadata": {
    "collapsed": true
   },
   "outputs": [],
   "source": [
    "import tensorflow as tf\n",
    "import numpy as np\n",
    "import matplotlib.pyplot as plt\n",
    "%matplotlib inline"
   ]
  },
  {
   "cell_type": "code",
   "execution_count": 3,
   "metadata": {
    "collapsed": true
   },
   "outputs": [],
   "source": [
    "training_examples=10000\n",
    "testing_examples=1000\n",
    "sample_gap=0.01\n",
    "timesteps=20"
   ]
  },
  {
   "cell_type": "markdown",
   "metadata": {},
   "source": [
    "生成训练数据  输入是20个时间步长的时序数据，输出标签是第21个时序时刻的seq数据"
   ]
  },
  {
   "cell_type": "code",
   "execution_count": 4,
   "metadata": {
    "collapsed": true
   },
   "outputs": [],
   "source": [
    "def generate_data(seq):\n",
    "    x=[]\n",
    "    y=[]\n",
    "    for i in range(len(seq)-timesteps-1):\n",
    "        x.append(seq[i:i+timesteps])#20个为一组 是二维\n",
    "        y.append(seq[i+timesteps])#一维数组就是第21个被预测的值\n",
    "    return np.array(x,dtype=np.float32),np.array(y,dtype=np.float32)"
   ]
  },
  {
   "cell_type": "code",
   "execution_count": 5,
   "metadata": {
    "collapsed": false
   },
   "outputs": [],
   "source": [
    "l=np.linspace(0,100,100)#0-100之间随机生成100个数"
   ]
  },
  {
   "cell_type": "code",
   "execution_count": 6,
   "metadata": {
    "collapsed": false
   },
   "outputs": [
    {
     "name": "stdout",
     "output_type": "stream",
     "text": [
      "(9979, 20) (9979,) (979, 20) (979,)\n"
     ]
    }
   ],
   "source": [
    "test_start=training_examples*sample_gap\n",
    "#10000*0.01=100\n",
    "test_end=test_start+testing_examples*sample_gap\n",
    "#100+1000*0.01=110\n",
    "train_x,train_y=generate_data(np.sin(np.linspace(0,test_start,training_examples)))\n",
    "#0--100之间 生成10000个数字  投放到sin带入生成器中\n",
    "test_x,test_y=generate_data(np.sin(np.linspace(test_start,test_end,testing_examples)))\n",
    "#同上\n",
    "print(np.shape(train_x),np.shape(train_y),np.shape(test_x),np.shape(test_y))"
   ]
  },
  {
   "cell_type": "markdown",
   "metadata": {},
   "source": [
    "# 构建RNN"
   ]
  },
  {
   "cell_type": "code",
   "execution_count": 7,
   "metadata": {
    "collapsed": true
   },
   "outputs": [],
   "source": [
    "lstm_size=20\n",
    "#隐藏层中lstm的数量，time_step=数目是时间维度，就是之前多少个结果来作为输入，\n",
    "lstm_layers=3\n",
    "#lstm_size代表数据维度 2个lstm并行处理 输出两个结果 对output没有影响  但是对状态的输出有影响\n",
    "batch_size=64\n",
    "#权重更新大小\n",
    "#输入数据维度64*20*1\n",
    "#输出数据维度64*20*4"
   ]
  },
  {
   "cell_type": "code",
   "execution_count": 8,
   "metadata": {
    "collapsed": true
   },
   "outputs": [],
   "source": [
    "x=tf.placeholder(tf.float32,[None,timesteps,1],name='input_x')\n",
    "#dynamic_rnn需要三维的数据输入，增加的一维是留给batch的64*20*1,1代表的是输入单个时间步长下输入数据维度是1  \n",
    "y=tf.placeholder(tf.float32,[None,1],name='input_y')\n",
    "keep_prob=tf.placeholder(tf.float32,name='keep_prob')#保持节点的概率"
   ]
  },
  {
   "cell_type": "code",
   "execution_count": 9,
   "metadata": {
    "collapsed": false
   },
   "outputs": [],
   "source": [
    "#定义lstm以及每一层跟着的防过拟合drop率\n",
    "lstm=tf.contrib.rnn.BasicLSTMCell(lstm_size)\n",
    "drop=tf.contrib.rnn.DropoutWrapper(lstm,output_keep_prob=keep_prob)\n",
    "def lstm_cell():\n",
    "    return tf.contrib.rnn.BasicLSTMCell(lstm_size)#定义20个lstm\n",
    "cell=tf.contrib.rnn.MultiRNNCell([lstm_cell()for _ in range(lstm_layers)])\n",
    "outputs,final_state=tf.nn.dynamic_rnn(cell,x,dtype=tf.float32)\n",
    "#保留最后一个步长的输出作为最新的预测输出  投入全连接层中\n",
    "outputs=outputs[:,-1,:]\n",
    "#全连接\n",
    "predictions=tf.contrib.layers.fully_connected(outputs,1,activation_fn=tf.tanh)\n",
    "#损失函数\n",
    "cost=tf.losses.mean_squared_error(y,predictions)\n",
    "#优化器\n",
    "optimizer=tf.train.AdamOptimizer().minimize(cost)"
   ]
  },
  {
   "cell_type": "markdown",
   "metadata": {
    "collapsed": true
   },
   "source": [
    "# 设计一个迭代器"
   ]
  },
  {
   "cell_type": "code",
   "execution_count": 10,
   "metadata": {
    "collapsed": true
   },
   "outputs": [],
   "source": [
    "def get_batches(x,y,batch_size=64):\n",
    "    for i in range(0,len(x),batch_size):\n",
    "        begin_i=i\n",
    "        end_i=i+batch_size if (i+batch_size)<len(x) else len(x)\n",
    "        yield x[begin_i:end_i,:],y[begin_i:end_i]"
   ]
  },
  {
   "cell_type": "code",
   "execution_count": 11,
   "metadata": {
    "collapsed": false
   },
   "outputs": [
    {
     "name": "stdout",
     "output_type": "stream",
     "text": [
      "(64, 20) (64,)\n"
     ]
    }
   ],
   "source": [
    "batch=get_batches(train_x,train_y)\n",
    "batch_x,batch_y=next(batch)\n",
    "print(np.shape(batch_x),np.shape(batch_y))"
   ]
  },
  {
   "cell_type": "code",
   "execution_count": 16,
   "metadata": {
    "collapsed": false
   },
   "outputs": [
    {
     "name": "stdout",
     "output_type": "stream",
     "text": [
      "Epochs:5/50 Train loss:0.01217277 output shape: (59, 20) final_state shape: (3, 2, 59, 20) prediction shape: (1, 59, 1)\n",
      "Epochs:10/50 Train loss:0.00023438 output shape: (59, 20) final_state shape: (3, 2, 59, 20) prediction shape: (1, 59, 1)\n",
      "Epochs:15/50 Train loss:0.00039759 output shape: (59, 20) final_state shape: (3, 2, 59, 20) prediction shape: (1, 59, 1)\n",
      "Epochs:20/50 Train loss:0.00056791 output shape: (59, 20) final_state shape: (3, 2, 59, 20) prediction shape: (1, 59, 1)\n",
      "Epochs:25/50 Train loss:0.00055517 output shape: (59, 20) final_state shape: (3, 2, 59, 20) prediction shape: (1, 59, 1)\n",
      "Epochs:30/50 Train loss:0.00050306 output shape: (59, 20) final_state shape: (3, 2, 59, 20) prediction shape: (1, 59, 1)\n",
      "Epochs:35/50 Train loss:0.00045406 output shape: (59, 20) final_state shape: (3, 2, 59, 20) prediction shape: (1, 59, 1)\n",
      "Epochs:40/50 Train loss:0.00038445 output shape: (59, 20) final_state shape: (3, 2, 59, 20) prediction shape: (1, 59, 1)\n",
      "Epochs:45/50 Train loss:0.00043837 output shape: (59, 20) final_state shape: (3, 2, 59, 20) prediction shape: (1, 59, 1)\n",
      "Epochs:50/50 Train loss:0.00010672 output shape: (59, 20) final_state shape: (3, 2, 59, 20) prediction shape: (1, 59, 1)\n"
     ]
    }
   ],
   "source": [
    "epochs=50\n",
    "session=tf.Session()\n",
    "with session.as_default() as sess:\n",
    "    #初始化\n",
    "    tf.global_variables_initializer().run()\n",
    "    iteration=1\n",
    "    for e in range(1,epochs+1):\n",
    "        for xs,ys in get_batches(train_x,train_y,batch_size):\n",
    "            #与x,y的占位符一致\n",
    "            feed_dict={x:xs[:,:,None],y:ys[:,None],keep_prob:0.8}\n",
    "            outputs_,final_state_=sess.run([outputs,final_state],feed_dict=feed_dict)\n",
    "            predictions_=sess.run([predictions],feed_dict=feed_dict)\n",
    "            loss,_=sess.run([cost,optimizer],feed_dict=feed_dict)\n",
    "            \n",
    "        if e%5==0:\n",
    "            #if iteration %100==0:\n",
    "            print('Epochs:{}/{}'.format(e,epochs),\n",
    "                  'Train loss:{:.8f}'.format(loss),\n",
    "                  'output shape:',np.shape(outputs_),\n",
    "                  'final_state shape:',np.shape(final_state_),\n",
    "                  'prediction shape:',np.shape(predictions_))\n",
    "            #iteration+=1  "
   ]
  },
  {
   "cell_type": "code",
   "execution_count": 17,
   "metadata": {
    "collapsed": false
   },
   "outputs": [
    {
     "name": "stdout",
     "output_type": "stream",
     "text": [
      "(59, 20)\n",
      "(3, 2, 59, 20)\n"
     ]
    }
   ],
   "source": [
    "print(np.shape(outputs_))\n",
    "print(np.shape(final_state_))"
   ]
  },
  {
   "cell_type": "code",
   "execution_count": 18,
   "metadata": {
    "collapsed": false
   },
   "outputs": [
    {
     "data": {
      "image/png": "[encoded data removed]",
      "text/plain": [
       "<Figure size 432x288 with 1 Axes>"
      ]
     },
     "metadata": {},
     "output_type": "display_data"
    }
   ],
   "source": [
    "with session.as_default() as sess:\n",
    "    #结果\n",
    "    feed_dict={x:test_x[:,:,None],keep_prob:1.0}\n",
    "    results=sess.run(predictions,feed_dict=feed_dict)\n",
    "    plt.plot(results,'r',label='predicted')\n",
    "    plt.plot(test_y,'g-',label='real sin')\n",
    "    plt.legend()\n",
    "    plt.show()"
   ]
  },
  {
   "cell_type": "code",
   "execution_count": null,
   "metadata": {
    "collapsed": true
   },
   "outputs": [],
   "source": []
  }
 ],
 "metadata": {
  "anaconda-cloud": {},
  "kernelspec": {
   "display_name": "Python [conda env:Anaconda3]",
   "language": "python",
   "name": "conda-env-Anaconda3-py"
  },
  "language_info": {
   "codemirror_mode": {
    "name": "ipython",
    "version": 3
   },
   "file_extension": ".py",
   "mimetype": "text/x-python",
   "name": "python",
   "nbconvert_exporter": "python",
   "pygments_lexer": "ipython3",
   "version": "3.5.6"
  }
 },
 "nbformat": 4,
 "nbformat_minor": 1
}
