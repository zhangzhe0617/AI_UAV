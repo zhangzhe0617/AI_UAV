{
 "cells": [
  {
   "cell_type": "code",
   "execution_count": 1,
   "metadata": {
    "collapsed": true
   },
   "outputs": [],
   "source": [
    "import tensorflow as tf\n",
    "import numpy as np\n",
    "import matplotlib.pyplot as plt\n",
    "%matplotlib inline"
   ]
  },
  {
   "cell_type": "code",
   "execution_count": 2,
   "metadata": {
    "collapsed": true
   },
   "outputs": [],
   "source": [
    "training_examples=10000\n",
    "testing_examples=1000\n",
    "#sin函数的采样间隔\n",
    "sample_gap=0.01\n",
    "timesteps=20"
   ]
  },
  {
   "cell_type": "code",
   "execution_count": 3,
   "metadata": {
    "collapsed": false
   },
   "outputs": [
    {
     "name": "stdout",
     "output_type": "stream",
     "text": [
      "(9979, 20)\n",
      "(9979,)\n"
     ]
    }
   ],
   "source": [
    "#处理数据 数据是20*1\n",
    "def generate_data(seq,timesteps):\n",
    "    x=[]\n",
    "    y=[]\n",
    "    for i in range(len(seq)-timesteps-1):\n",
    "        x.append(seq[i:i+timesteps])#20个为一组 是二维\n",
    "        y.append(seq[i+timesteps])#一维数组就是第21个被预测的值\n",
    "    return np.array(x,dtype=np.float32),np.array(y,dtype=np.float32)\n",
    "\n",
    "test_start=training_examples*sample_gap\n",
    "#10000*0.01=100\n",
    "test_end=test_start+testing_examples*sample_gap\n",
    "#100+1000*0.01=110\n",
    "train_x,train_y=generate_data(np.sin(np.linspace(0,test_start,training_examples)),timesteps)\n",
    "#0--100之间 生成10000个数字  投放到sin带入生成器中\n",
    "test_x,test_y=generate_data(np.sin(np.linspace(test_start,test_end,testing_examples)),timesteps)\n",
    "print(train_x.shape)\n",
    "print(train_y.shape)"
   ]
  },
  {
   "cell_type": "code",
   "execution_count": 4,
   "metadata": {
    "collapsed": true
   },
   "outputs": [],
   "source": [
    "#如题\n",
    "#def get_batches(x,y,batch_size):\n",
    "    #for i in range(0,len(x),batch_size):\n",
    "        #begin_i=i\n",
    "        #end_i=i+batch_size if (i+batch_size)<len(x) else len(x)\n",
    "        #yield x[begin_i:end_i,:],y[begin_i:end_i]   "
   ]
  },
  {
   "cell_type": "code",
   "execution_count": 5,
   "metadata": {
    "collapsed": true
   },
   "outputs": [],
   "source": [
    "def get_batches(x,y,batch_size):\n",
    "    for i in range(0,len(x),batch_size):\n",
    "        if (i+batch_size)<len(x):\n",
    "            begin_i=i\n",
    "            end_i=i+batch_size \n",
    "            yield x[begin_i:end_i,:],y[begin_i:end_i]  "
   ]
  },
  {
   "cell_type": "code",
   "execution_count": 6,
   "metadata": {
    "collapsed": true
   },
   "outputs": [],
   "source": [
    "#输入，输出，以及丢弃率，的占位符  x=[64,20] 后面的1是因为数据只是一个\n",
    "def build_inputs(timesteps):\n",
    "    x=tf.placeholder(tf.float32,[None,timesteps,1],name='input_x')\n",
    "    y=tf.placeholder(tf.float32,[None,1],name='input_y')\n",
    "    keep_prob=tf.placeholder(tf.float32,name='keep_prob')\n",
    "    return x,y,keep_prob"
   ]
  },
  {
   "cell_type": "code",
   "execution_count": 7,
   "metadata": {
    "collapsed": true
   },
   "outputs": [],
   "source": [
    "#lstm  \n",
    "def build_lstm(lstm_size,num_layers,batch_size,keep_prob):#batch_size:num_seqs * num_steps\n",
    "    def build_cell(lstm_size,keep_prob):\n",
    "        lstm=tf.contrib.rnn.BasicLSTMCell(lstm_size)\n",
    "        drop=tf.contrib.rnn.DropoutWrapper(lstm,output_keep_prob=keep_prob)\n",
    "        return drop\n",
    "    cell=tf.contrib.rnn.MultiRNNCell([build_cell(lstm_size,keep_prob) for _ in range(num_layers)])\n",
    "    initial_state=cell.zero_state(batch_size,tf.float32)\n",
    "    return cell,initial_state"
   ]
  },
  {
   "cell_type": "code",
   "execution_count": 8,
   "metadata": {
    "collapsed": true
   },
   "outputs": [],
   "source": [
    "#输出\n",
    "def build_output(lstm_output):\n",
    "    print('lstm_output=',lstm_output.shape)\n",
    "    outputs=lstm_output[:,-1,:]#取最后一维\n",
    "    print('outputs=',outputs.shape)\n",
    "    predictions=tf.contrib.layers.fully_connected(outputs,1,activation_fn=tf.tanh)\n",
    "    return predictions    "
   ]
  },
  {
   "cell_type": "code",
   "execution_count": 9,
   "metadata": {
    "collapsed": true
   },
   "outputs": [],
   "source": [
    "#损失和优化\n",
    "def build_loss(predictions,y):\n",
    "    loss=tf.losses.mean_squared_error(y,predictions)\n",
    "    return loss\n",
    "def build_optimizer(loss):\n",
    "    optimizer=tf.train.AdamOptimizer().minimize(loss)\n",
    "    return optimizer  "
   ]
  },
  {
   "cell_type": "code",
   "execution_count": 10,
   "metadata": {
    "collapsed": true
   },
   "outputs": [],
   "source": [
    "#定义类\n",
    "class charRNN:\n",
    "    def __init__(self,batch_size=64,lstm_size=20,timesteps=20,num_layers=2):\n",
    "        #输入\n",
    "        self.inputs,self.targets,self.keep_prob=build_inputs(num_steps)\n",
    "        print(self.inputs.shape)\n",
    "        \n",
    "        #lstm\n",
    "        cell,self.initial_state=build_lstm(lstm_size,num_layers,batch_size,self.keep_prob)\n",
    "        \n",
    "        #运行\n",
    "        lstm_output,state=tf.nn.dynamic_rnn(cell,self.inputs,initial_state=self.initial_state)\n",
    "        self.final_state=state\n",
    "        \n",
    "        #预测结果\n",
    "        self.prediction=build_output(lstm_output)\n",
    "        \n",
    "        #loss 和 optimizer\n",
    "        print(self.prediction.shape,self.targets.shape)\n",
    "        self.loss=build_loss(self.prediction,self.targets)\n",
    "        self.optimizer=build_optimizer(self.loss)"
   ]
  },
  {
   "cell_type": "code",
   "execution_count": 11,
   "metadata": {
    "collapsed": true
   },
   "outputs": [],
   "source": [
    "batch_size=64\n",
    "lstm_size=20\n",
    "num_layers=2\n",
    "keep_prob=0.8\n",
    "num_steps=20\n",
    "epochs=50\n",
    "save_every_n=10"
   ]
  },
  {
   "cell_type": "code",
   "execution_count": 12,
   "metadata": {
    "collapsed": false
   },
   "outputs": [
    {
     "name": "stdout",
     "output_type": "stream",
     "text": [
      "(?, 20, 1)\n",
      "lstm_output= (64, 20, 20)\n",
      "outputs= (64, 20)\n",
      "(64, 1) (?, 1)\n",
      "轮数：1/50... 训练步数：155... 训练误差：0.0323...\n",
      "轮数：6/50... 训练步数：930... 训练误差：0.0018...\n",
      "轮数：11/50... 训练步数：1705... 训练误差：0.0007...\n",
      "轮数：16/50... 训练步数：2480... 训练误差：0.0007...\n",
      "轮数：21/50... 训练步数：3255... 训练误差：0.0005...\n",
      "轮数：26/50... 训练步数：4030... 训练误差：0.0006...\n",
      "轮数：31/50... 训练步数：4805... 训练误差：0.0004...\n",
      "轮数：36/50... 训练步数：5580... 训练误差：0.0004...\n",
      "轮数：41/50... 训练步数：6355... 训练误差：0.0004...\n",
      "轮数：46/50... 训练步数：7130... 训练误差：0.0003...\n"
     ]
    }
   ],
   "source": [
    "model=charRNN(batch_size,lstm_size,timesteps,num_layers)\n",
    "#saver=tf.train.Saver(max_to_keep=100)\n",
    "session=tf.Session()\n",
    "with session.as_default() as sess:\n",
    "    sess.run(tf.global_variables_initializer())\n",
    "    count=0\n",
    "    for e in range(epochs):\n",
    "        new_state=sess.run(model.initial_state)\n",
    "        loss=0\n",
    "        for x,y in get_batches(train_x,train_y,batch_size):\n",
    "            count+=1\n",
    "            #print(x.shape,y.shape)\n",
    "            feed={model.inputs:x[:,:,None],\n",
    "                  model.targets:y[:,None],\n",
    "                  model.keep_prob:keep_prob,\n",
    "                  model.initial_state:new_state}\n",
    "            prediction_,batch_loss,new_state,_=sess.run([model.prediction,model.loss,model.final_state,model.optimizer],feed_dict=feed)\n",
    "            #print( 'prediction_:',np.shape(prediction_))\n",
    "        if e%5==0:\n",
    "            print('轮数：{}/{}...'.format(e+1,epochs),\n",
    "                  '训练步数：{}...'.format(count),\n",
    "                  '训练误差：{:.4f}...'.format(batch_loss)\n",
    "                 )\n",
    "            #if (count % save_every_n==0):\n",
    "                #saver.save(sess,'checkpoints/i{}.ckpt'.format(count,lstm_size))\n",
    "    #saver.save(sess,'checkpoints/i{}.ckpt'.format(count,lstm_size))"
   ]
  },
  {
   "cell_type": "code",
   "execution_count": 15,
   "metadata": {
    "collapsed": false
   },
   "outputs": [
    {
     "ename": "InvalidArgumentError",
     "evalue": "ConcatOp : Dimensions of inputs should match: shape[0] = [979,1] vs. shape[1] = [64,20]\n\t [[Node: rnn/while/rnn/multi_rnn_cell/cell_0/basic_lstm_cell/concat = ConcatV2[N=2, T=DT_FLOAT, Tidx=DT_INT32, _device=\"/job:localhost/replica:0/task:0/device:GPU:0\"](rnn/while/TensorArrayReadV3, rnn/while/Identity_4, rnn/while/rnn/multi_rnn_cell/cell_0/basic_lstm_cell/concat/axis)]]\n\nCaused by op 'rnn/while/rnn/multi_rnn_cell/cell_0/basic_lstm_cell/concat', defined at:\n  File \"D:\\Anaconda3\\lib\\runpy.py\", line 193, in _run_module_as_main\n    \"__main__\", mod_spec)\n  File \"D:\\Anaconda3\\lib\\runpy.py\", line 85, in _run_code\n    exec(code, run_globals)\n  File \"D:\\Anaconda3\\lib\\site-packages\\ipykernel\\__main__.py\", line 3, in <module>\n    app.launch_new_instance()\n  File \"D:\\Anaconda3\\lib\\site-packages\\traitlets\\config\\application.py\", line 653, in launch_instance\n    app.start()\n  File \"D:\\Anaconda3\\lib\\site-packages\\ipykernel\\kernelapp.py\", line 474, in start\n    ioloop.IOLoop.instance().start()\n  File \"D:\\Anaconda3\\lib\\site-packages\\zmq\\eventloop\\ioloop.py\", line 162, in start\n    super(ZMQIOLoop, self).start()\n  File \"D:\\Anaconda3\\lib\\site-packages\\tornado\\ioloop.py\", line 887, in start\n    handler_func(fd_obj, events)\n  File \"D:\\Anaconda3\\lib\\site-packages\\tornado\\stack_context.py\", line 275, in null_wrapper\n    return fn(*args, **kwargs)\n  File \"D:\\Anaconda3\\lib\\site-packages\\zmq\\eventloop\\zmqstream.py\", line 440, in _handle_events\n    self._handle_recv()\n  File \"D:\\Anaconda3\\lib\\site-packages\\zmq\\eventloop\\zmqstream.py\", line 472, in _handle_recv\n    self._run_callback(callback, msg)\n  File \"D:\\Anaconda3\\lib\\site-packages\\zmq\\eventloop\\zmqstream.py\", line 414, in _run_callback\n    callback(*args, **kwargs)\n  File \"D:\\Anaconda3\\lib\\site-packages\\tornado\\stack_context.py\", line 275, in null_wrapper\n    return fn(*args, **kwargs)\n  File \"D:\\Anaconda3\\lib\\site-packages\\ipykernel\\kernelbase.py\", line 276, in dispatcher\n    return self.dispatch_shell(stream, msg)\n  File \"D:\\Anaconda3\\lib\\site-packages\\ipykernel\\kernelbase.py\", line 228, in dispatch_shell\n    handler(stream, idents, msg)\n  File \"D:\\Anaconda3\\lib\\site-packages\\ipykernel\\kernelbase.py\", line 390, in execute_request\n    user_expressions, allow_stdin)\n  File \"D:\\Anaconda3\\lib\\site-packages\\ipykernel\\ipkernel.py\", line 196, in do_execute\n    res = shell.run_cell(code, store_history=store_history, silent=silent)\n  File \"D:\\Anaconda3\\lib\\site-packages\\ipykernel\\zmqshell.py\", line 501, in run_cell\n    return super(ZMQInteractiveShell, self).run_cell(*args, **kwargs)\n  File \"D:\\Anaconda3\\lib\\site-packages\\IPython\\core\\interactiveshell.py\", line 2717, in run_cell\n    interactivity=interactivity, compiler=compiler, result=result)\n  File \"D:\\Anaconda3\\lib\\site-packages\\IPython\\core\\interactiveshell.py\", line 2821, in run_ast_nodes\n    if self.run_code(code, result):\n  File \"D:\\Anaconda3\\lib\\site-packages\\IPython\\core\\interactiveshell.py\", line 2881, in run_code\n    exec(code_obj, self.user_global_ns, self.user_ns)\n  File \"<ipython-input-12-ccf30e2dc314>\", line 1, in <module>\n    model=charRNN(batch_size,lstm_size,timesteps,num_layers)\n  File \"<ipython-input-10-e43c4228b212>\", line 12, in __init__\n    lstm_output,state=tf.nn.dynamic_rnn(cell,self.inputs,initial_state=self.initial_state)\n  File \"D:\\Anaconda3\\lib\\site-packages\\tensorflow\\python\\ops\\rnn.py\", line 631, in dynamic_rnn\n    dtype=dtype)\n  File \"D:\\Anaconda3\\lib\\site-packages\\tensorflow\\python\\ops\\rnn.py\", line 828, in _dynamic_rnn_loop\n    swap_memory=swap_memory)\n  File \"D:\\Anaconda3\\lib\\site-packages\\tensorflow\\python\\ops\\control_flow_ops.py\", line 3232, in while_loop\n    return_same_structure)\n  File \"D:\\Anaconda3\\lib\\site-packages\\tensorflow\\python\\ops\\control_flow_ops.py\", line 2952, in BuildLoop\n    pred, body, original_loop_vars, loop_vars, shape_invariants)\n  File \"D:\\Anaconda3\\lib\\site-packages\\tensorflow\\python\\ops\\control_flow_ops.py\", line 2887, in _BuildLoop\n    body_result = body(*packed_vars_for_body)\n  File \"D:\\Anaconda3\\lib\\site-packages\\tensorflow\\python\\ops\\control_flow_ops.py\", line 3201, in <lambda>\n    body = lambda i, lv: (i + 1, orig_body(*lv))\n  File \"D:\\Anaconda3\\lib\\site-packages\\tensorflow\\python\\ops\\rnn.py\", line 799, in _time_step\n    (output, new_state) = call_cell()\n  File \"D:\\Anaconda3\\lib\\site-packages\\tensorflow\\python\\ops\\rnn.py\", line 785, in <lambda>\n    call_cell = lambda: cell(input_t, state)\n  File \"D:\\Anaconda3\\lib\\site-packages\\tensorflow\\python\\ops\\rnn_cell_impl.py\", line 222, in __call__\n    return super(RNNCell, self).__call__(inputs, state)\n  File \"D:\\Anaconda3\\lib\\site-packages\\tensorflow\\python\\layers\\base.py\", line 362, in __call__\n    outputs = super(Layer, self).__call__(inputs, *args, **kwargs)\n  File \"D:\\Anaconda3\\lib\\site-packages\\tensorflow\\python\\keras\\engine\\base_layer.py\", line 736, in __call__\n    outputs = self.call(inputs, *args, **kwargs)\n  File \"D:\\Anaconda3\\lib\\site-packages\\tensorflow\\python\\ops\\rnn_cell_impl.py\", line 1315, in call\n    cur_inp, new_state = cell(cur_inp, cur_state)\n  File \"D:\\Anaconda3\\lib\\site-packages\\tensorflow\\python\\ops\\rnn_cell_impl.py\", line 1116, in __call__\n    output, new_state = self._cell(inputs, state, scope=scope)\n  File \"D:\\Anaconda3\\lib\\site-packages\\tensorflow\\python\\ops\\rnn_cell_impl.py\", line 329, in __call__\n    *args, **kwargs)\n  File \"D:\\Anaconda3\\lib\\site-packages\\tensorflow\\python\\layers\\base.py\", line 362, in __call__\n    outputs = super(Layer, self).__call__(inputs, *args, **kwargs)\n  File \"D:\\Anaconda3\\lib\\site-packages\\tensorflow\\python\\keras\\engine\\base_layer.py\", line 736, in __call__\n    outputs = self.call(inputs, *args, **kwargs)\n  File \"D:\\Anaconda3\\lib\\site-packages\\tensorflow\\python\\ops\\rnn_cell_impl.py\", line 628, in call\n    array_ops.concat([inputs, h], 1), self._kernel)\n  File \"D:\\Anaconda3\\lib\\site-packages\\tensorflow\\python\\ops\\array_ops.py\", line 1114, in concat\n    return gen_array_ops.concat_v2(values=values, axis=axis, name=name)\n  File \"D:\\Anaconda3\\lib\\site-packages\\tensorflow\\python\\ops\\gen_array_ops.py\", line 1030, in concat_v2\n    \"ConcatV2\", values=values, axis=axis, name=name)\n  File \"D:\\Anaconda3\\lib\\site-packages\\tensorflow\\python\\framework\\op_def_library.py\", line 787, in _apply_op_helper\n    op_def=op_def)\n  File \"D:\\Anaconda3\\lib\\site-packages\\tensorflow\\python\\util\\deprecation.py\", line 454, in new_func\n    return func(*args, **kwargs)\n  File \"D:\\Anaconda3\\lib\\site-packages\\tensorflow\\python\\framework\\ops.py\", line 3155, in create_op\n    op_def=op_def)\n  File \"D:\\Anaconda3\\lib\\site-packages\\tensorflow\\python\\framework\\ops.py\", line 1717, in __init__\n    self._traceback = tf_stack.extract_stack()\n\nInvalidArgumentError (see above for traceback): ConcatOp : Dimensions of inputs should match: shape[0] = [979,1] vs. shape[1] = [64,20]\n\t [[Node: rnn/while/rnn/multi_rnn_cell/cell_0/basic_lstm_cell/concat = ConcatV2[N=2, T=DT_FLOAT, Tidx=DT_INT32, _device=\"/job:localhost/replica:0/task:0/device:GPU:0\"](rnn/while/TensorArrayReadV3, rnn/while/Identity_4, rnn/while/rnn/multi_rnn_cell/cell_0/basic_lstm_cell/concat/axis)]]\n",
     "output_type": "error",
     "traceback": [
      "\u001b[0;31m---------------------------------------------------------------------------\u001b[0m",
      "\u001b[0;31mInvalidArgumentError\u001b[0m                      Traceback (most recent call last)",
      "\u001b[0;32mD:\\Anaconda3\\lib\\site-packages\\tensorflow\\python\\client\\session.py\u001b[0m in \u001b[0;36m_do_call\u001b[0;34m(self, fn, *args)\u001b[0m\n\u001b[1;32m   1277\u001b[0m     \u001b[1;32mtry\u001b[0m\u001b[1;33m:\u001b[0m\u001b[1;33m\u001b[0m\u001b[0m\n\u001b[0;32m-> 1278\u001b[0;31m       \u001b[1;32mreturn\u001b[0m \u001b[0mfn\u001b[0m\u001b[1;33m(\u001b[0m\u001b[1;33m*\u001b[0m\u001b[0margs\u001b[0m\u001b[1;33m)\u001b[0m\u001b[1;33m\u001b[0m\u001b[0m\n\u001b[0m\u001b[1;32m   1279\u001b[0m     \u001b[1;32mexcept\u001b[0m \u001b[0merrors\u001b[0m\u001b[1;33m.\u001b[0m\u001b[0mOpError\u001b[0m \u001b[1;32mas\u001b[0m \u001b[0me\u001b[0m\u001b[1;33m:\u001b[0m\u001b[1;33m\u001b[0m\u001b[0m\n",
      "\u001b[0;32mD:\\Anaconda3\\lib\\site-packages\\tensorflow\\python\\client\\session.py\u001b[0m in \u001b[0;36m_run_fn\u001b[0;34m(feed_dict, fetch_list, target_list, options, run_metadata)\u001b[0m\n\u001b[1;32m   1262\u001b[0m       return self._call_tf_sessionrun(\n\u001b[0;32m-> 1263\u001b[0;31m           options, feed_dict, fetch_list, target_list, run_metadata)\n\u001b[0m\u001b[1;32m   1264\u001b[0m \u001b[1;33m\u001b[0m\u001b[0m\n",
      "\u001b[0;32mD:\\Anaconda3\\lib\\site-packages\\tensorflow\\python\\client\\session.py\u001b[0m in \u001b[0;36m_call_tf_sessionrun\u001b[0;34m(self, options, feed_dict, fetch_list, target_list, run_metadata)\u001b[0m\n\u001b[1;32m   1349\u001b[0m         \u001b[0mself\u001b[0m\u001b[1;33m.\u001b[0m\u001b[0m_session\u001b[0m\u001b[1;33m,\u001b[0m \u001b[0moptions\u001b[0m\u001b[1;33m,\u001b[0m \u001b[0mfeed_dict\u001b[0m\u001b[1;33m,\u001b[0m \u001b[0mfetch_list\u001b[0m\u001b[1;33m,\u001b[0m \u001b[0mtarget_list\u001b[0m\u001b[1;33m,\u001b[0m\u001b[1;33m\u001b[0m\u001b[0m\n\u001b[0;32m-> 1350\u001b[0;31m         run_metadata)\n\u001b[0m\u001b[1;32m   1351\u001b[0m \u001b[1;33m\u001b[0m\u001b[0m\n",
      "\u001b[0;31mInvalidArgumentError\u001b[0m: ConcatOp : Dimensions of inputs should match: shape[0] = [979,1] vs. shape[1] = [64,20]\n\t [[Node: rnn/while/rnn/multi_rnn_cell/cell_0/basic_lstm_cell/concat = ConcatV2[N=2, T=DT_FLOAT, Tidx=DT_INT32, _device=\"/job:localhost/replica:0/task:0/device:GPU:0\"](rnn/while/TensorArrayReadV3, rnn/while/Identity_4, rnn/while/rnn/multi_rnn_cell/cell_0/basic_lstm_cell/concat/axis)]]",
      "\nDuring handling of the above exception, another exception occurred:\n",
      "\u001b[0;31mInvalidArgumentError\u001b[0m                      Traceback (most recent call last)",
      "\u001b[0;32m<ipython-input-15-11dea96e743a>\u001b[0m in \u001b[0;36m<module>\u001b[0;34m()\u001b[0m\n\u001b[1;32m      6\u001b[0m           \u001b[0mmodel\u001b[0m\u001b[1;33m.\u001b[0m\u001b[0mkeep_prob\u001b[0m\u001b[1;33m:\u001b[0m\u001b[0mkeep_prob\u001b[0m\u001b[1;33m,\u001b[0m\u001b[1;33m\u001b[0m\u001b[0m\n\u001b[1;32m      7\u001b[0m           model.initial_state:new_state}\n\u001b[0;32m----> 8\u001b[0;31m     \u001b[0mresults\u001b[0m\u001b[1;33m=\u001b[0m\u001b[0msess\u001b[0m\u001b[1;33m.\u001b[0m\u001b[0mrun\u001b[0m\u001b[1;33m(\u001b[0m\u001b[0mmodel\u001b[0m\u001b[1;33m.\u001b[0m\u001b[0mprediction\u001b[0m\u001b[1;33m,\u001b[0m\u001b[0mfeed_dict\u001b[0m\u001b[1;33m=\u001b[0m\u001b[0mfeed\u001b[0m\u001b[1;33m)\u001b[0m\u001b[1;33m\u001b[0m\u001b[0m\n\u001b[0m\u001b[1;32m      9\u001b[0m     \u001b[0mplt\u001b[0m\u001b[1;33m.\u001b[0m\u001b[0mplot\u001b[0m\u001b[1;33m(\u001b[0m\u001b[0mresults\u001b[0m\u001b[1;33m,\u001b[0m\u001b[1;34m'r'\u001b[0m\u001b[1;33m,\u001b[0m\u001b[0mlabel\u001b[0m\u001b[1;33m=\u001b[0m\u001b[1;34m'predicted'\u001b[0m\u001b[1;33m)\u001b[0m\u001b[1;33m\u001b[0m\u001b[0m\n\u001b[1;32m     10\u001b[0m     \u001b[0mplt\u001b[0m\u001b[1;33m.\u001b[0m\u001b[0mplot\u001b[0m\u001b[1;33m(\u001b[0m\u001b[0mtest_y\u001b[0m\u001b[1;33m,\u001b[0m\u001b[1;34m'g-'\u001b[0m\u001b[1;33m,\u001b[0m\u001b[0mlabel\u001b[0m\u001b[1;33m=\u001b[0m\u001b[1;34m'real sin'\u001b[0m\u001b[1;33m)\u001b[0m\u001b[1;33m\u001b[0m\u001b[0m\n",
      "\u001b[0;32mD:\\Anaconda3\\lib\\site-packages\\tensorflow\\python\\client\\session.py\u001b[0m in \u001b[0;36mrun\u001b[0;34m(self, fetches, feed_dict, options, run_metadata)\u001b[0m\n\u001b[1;32m    875\u001b[0m     \u001b[1;32mtry\u001b[0m\u001b[1;33m:\u001b[0m\u001b[1;33m\u001b[0m\u001b[0m\n\u001b[1;32m    876\u001b[0m       result = self._run(None, fetches, feed_dict, options_ptr,\n\u001b[0;32m--> 877\u001b[0;31m                          run_metadata_ptr)\n\u001b[0m\u001b[1;32m    878\u001b[0m       \u001b[1;32mif\u001b[0m \u001b[0mrun_metadata\u001b[0m\u001b[1;33m:\u001b[0m\u001b[1;33m\u001b[0m\u001b[0m\n\u001b[1;32m    879\u001b[0m         \u001b[0mproto_data\u001b[0m \u001b[1;33m=\u001b[0m \u001b[0mtf_session\u001b[0m\u001b[1;33m.\u001b[0m\u001b[0mTF_GetBuffer\u001b[0m\u001b[1;33m(\u001b[0m\u001b[0mrun_metadata_ptr\u001b[0m\u001b[1;33m)\u001b[0m\u001b[1;33m\u001b[0m\u001b[0m\n",
      "\u001b[0;32mD:\\Anaconda3\\lib\\site-packages\\tensorflow\\python\\client\\session.py\u001b[0m in \u001b[0;36m_run\u001b[0;34m(self, handle, fetches, feed_dict, options, run_metadata)\u001b[0m\n\u001b[1;32m   1098\u001b[0m     \u001b[1;32mif\u001b[0m \u001b[0mfinal_fetches\u001b[0m \u001b[1;32mor\u001b[0m \u001b[0mfinal_targets\u001b[0m \u001b[1;32mor\u001b[0m \u001b[1;33m(\u001b[0m\u001b[0mhandle\u001b[0m \u001b[1;32mand\u001b[0m \u001b[0mfeed_dict_tensor\u001b[0m\u001b[1;33m)\u001b[0m\u001b[1;33m:\u001b[0m\u001b[1;33m\u001b[0m\u001b[0m\n\u001b[1;32m   1099\u001b[0m       results = self._do_run(handle, final_targets, final_fetches,\n\u001b[0;32m-> 1100\u001b[0;31m                              feed_dict_tensor, options, run_metadata)\n\u001b[0m\u001b[1;32m   1101\u001b[0m     \u001b[1;32melse\u001b[0m\u001b[1;33m:\u001b[0m\u001b[1;33m\u001b[0m\u001b[0m\n\u001b[1;32m   1102\u001b[0m       \u001b[0mresults\u001b[0m \u001b[1;33m=\u001b[0m \u001b[1;33m[\u001b[0m\u001b[1;33m]\u001b[0m\u001b[1;33m\u001b[0m\u001b[0m\n",
      "\u001b[0;32mD:\\Anaconda3\\lib\\site-packages\\tensorflow\\python\\client\\session.py\u001b[0m in \u001b[0;36m_do_run\u001b[0;34m(self, handle, target_list, fetch_list, feed_dict, options, run_metadata)\u001b[0m\n\u001b[1;32m   1270\u001b[0m     \u001b[1;32mif\u001b[0m \u001b[0mhandle\u001b[0m \u001b[1;32mis\u001b[0m \u001b[1;32mNone\u001b[0m\u001b[1;33m:\u001b[0m\u001b[1;33m\u001b[0m\u001b[0m\n\u001b[1;32m   1271\u001b[0m       return self._do_call(_run_fn, feeds, fetches, targets, options,\n\u001b[0;32m-> 1272\u001b[0;31m                            run_metadata)\n\u001b[0m\u001b[1;32m   1273\u001b[0m     \u001b[1;32melse\u001b[0m\u001b[1;33m:\u001b[0m\u001b[1;33m\u001b[0m\u001b[0m\n\u001b[1;32m   1274\u001b[0m       \u001b[1;32mreturn\u001b[0m \u001b[0mself\u001b[0m\u001b[1;33m.\u001b[0m\u001b[0m_do_call\u001b[0m\u001b[1;33m(\u001b[0m\u001b[0m_prun_fn\u001b[0m\u001b[1;33m,\u001b[0m \u001b[0mhandle\u001b[0m\u001b[1;33m,\u001b[0m \u001b[0mfeeds\u001b[0m\u001b[1;33m,\u001b[0m \u001b[0mfetches\u001b[0m\u001b[1;33m)\u001b[0m\u001b[1;33m\u001b[0m\u001b[0m\n",
      "\u001b[0;32mD:\\Anaconda3\\lib\\site-packages\\tensorflow\\python\\client\\session.py\u001b[0m in \u001b[0;36m_do_call\u001b[0;34m(self, fn, *args)\u001b[0m\n\u001b[1;32m   1289\u001b[0m         \u001b[1;32mexcept\u001b[0m \u001b[0mKeyError\u001b[0m\u001b[1;33m:\u001b[0m\u001b[1;33m\u001b[0m\u001b[0m\n\u001b[1;32m   1290\u001b[0m           \u001b[1;32mpass\u001b[0m\u001b[1;33m\u001b[0m\u001b[0m\n\u001b[0;32m-> 1291\u001b[0;31m       \u001b[1;32mraise\u001b[0m \u001b[0mtype\u001b[0m\u001b[1;33m(\u001b[0m\u001b[0me\u001b[0m\u001b[1;33m)\u001b[0m\u001b[1;33m(\u001b[0m\u001b[0mnode_def\u001b[0m\u001b[1;33m,\u001b[0m \u001b[0mop\u001b[0m\u001b[1;33m,\u001b[0m \u001b[0mmessage\u001b[0m\u001b[1;33m)\u001b[0m\u001b[1;33m\u001b[0m\u001b[0m\n\u001b[0m\u001b[1;32m   1292\u001b[0m \u001b[1;33m\u001b[0m\u001b[0m\n\u001b[1;32m   1293\u001b[0m   \u001b[1;32mdef\u001b[0m \u001b[0m_extend_graph\u001b[0m\u001b[1;33m(\u001b[0m\u001b[0mself\u001b[0m\u001b[1;33m)\u001b[0m\u001b[1;33m:\u001b[0m\u001b[1;33m\u001b[0m\u001b[0m\n",
      "\u001b[0;31mInvalidArgumentError\u001b[0m: ConcatOp : Dimensions of inputs should match: shape[0] = [979,1] vs. shape[1] = [64,20]\n\t [[Node: rnn/while/rnn/multi_rnn_cell/cell_0/basic_lstm_cell/concat = ConcatV2[N=2, T=DT_FLOAT, Tidx=DT_INT32, _device=\"/job:localhost/replica:0/task:0/device:GPU:0\"](rnn/while/TensorArrayReadV3, rnn/while/Identity_4, rnn/while/rnn/multi_rnn_cell/cell_0/basic_lstm_cell/concat/axis)]]\n\nCaused by op 'rnn/while/rnn/multi_rnn_cell/cell_0/basic_lstm_cell/concat', defined at:\n  File \"D:\\Anaconda3\\lib\\runpy.py\", line 193, in _run_module_as_main\n    \"__main__\", mod_spec)\n  File \"D:\\Anaconda3\\lib\\runpy.py\", line 85, in _run_code\n    exec(code, run_globals)\n  File \"D:\\Anaconda3\\lib\\site-packages\\ipykernel\\__main__.py\", line 3, in <module>\n    app.launch_new_instance()\n  File \"D:\\Anaconda3\\lib\\site-packages\\traitlets\\config\\application.py\", line 653, in launch_instance\n    app.start()\n  File \"D:\\Anaconda3\\lib\\site-packages\\ipykernel\\kernelapp.py\", line 474, in start\n    ioloop.IOLoop.instance().start()\n  File \"D:\\Anaconda3\\lib\\site-packages\\zmq\\eventloop\\ioloop.py\", line 162, in start\n    super(ZMQIOLoop, self).start()\n  File \"D:\\Anaconda3\\lib\\site-packages\\tornado\\ioloop.py\", line 887, in start\n    handler_func(fd_obj, events)\n  File \"D:\\Anaconda3\\lib\\site-packages\\tornado\\stack_context.py\", line 275, in null_wrapper\n    return fn(*args, **kwargs)\n  File \"D:\\Anaconda3\\lib\\site-packages\\zmq\\eventloop\\zmqstream.py\", line 440, in _handle_events\n    self._handle_recv()\n  File \"D:\\Anaconda3\\lib\\site-packages\\zmq\\eventloop\\zmqstream.py\", line 472, in _handle_recv\n    self._run_callback(callback, msg)\n  File \"D:\\Anaconda3\\lib\\site-packages\\zmq\\eventloop\\zmqstream.py\", line 414, in _run_callback\n    callback(*args, **kwargs)\n  File \"D:\\Anaconda3\\lib\\site-packages\\tornado\\stack_context.py\", line 275, in null_wrapper\n    return fn(*args, **kwargs)\n  File \"D:\\Anaconda3\\lib\\site-packages\\ipykernel\\kernelbase.py\", line 276, in dispatcher\n    return self.dispatch_shell(stream, msg)\n  File \"D:\\Anaconda3\\lib\\site-packages\\ipykernel\\kernelbase.py\", line 228, in dispatch_shell\n    handler(stream, idents, msg)\n  File \"D:\\Anaconda3\\lib\\site-packages\\ipykernel\\kernelbase.py\", line 390, in execute_request\n    user_expressions, allow_stdin)\n  File \"D:\\Anaconda3\\lib\\site-packages\\ipykernel\\ipkernel.py\", line 196, in do_execute\n    res = shell.run_cell(code, store_history=store_history, silent=silent)\n  File \"D:\\Anaconda3\\lib\\site-packages\\ipykernel\\zmqshell.py\", line 501, in run_cell\n    return super(ZMQInteractiveShell, self).run_cell(*args, **kwargs)\n  File \"D:\\Anaconda3\\lib\\site-packages\\IPython\\core\\interactiveshell.py\", line 2717, in run_cell\n    interactivity=interactivity, compiler=compiler, result=result)\n  File \"D:\\Anaconda3\\lib\\site-packages\\IPython\\core\\interactiveshell.py\", line 2821, in run_ast_nodes\n    if self.run_code(code, result):\n  File \"D:\\Anaconda3\\lib\\site-packages\\IPython\\core\\interactiveshell.py\", line 2881, in run_code\n    exec(code_obj, self.user_global_ns, self.user_ns)\n  File \"<ipython-input-12-ccf30e2dc314>\", line 1, in <module>\n    model=charRNN(batch_size,lstm_size,timesteps,num_layers)\n  File \"<ipython-input-10-e43c4228b212>\", line 12, in __init__\n    lstm_output,state=tf.nn.dynamic_rnn(cell,self.inputs,initial_state=self.initial_state)\n  File \"D:\\Anaconda3\\lib\\site-packages\\tensorflow\\python\\ops\\rnn.py\", line 631, in dynamic_rnn\n    dtype=dtype)\n  File \"D:\\Anaconda3\\lib\\site-packages\\tensorflow\\python\\ops\\rnn.py\", line 828, in _dynamic_rnn_loop\n    swap_memory=swap_memory)\n  File \"D:\\Anaconda3\\lib\\site-packages\\tensorflow\\python\\ops\\control_flow_ops.py\", line 3232, in while_loop\n    return_same_structure)\n  File \"D:\\Anaconda3\\lib\\site-packages\\tensorflow\\python\\ops\\control_flow_ops.py\", line 2952, in BuildLoop\n    pred, body, original_loop_vars, loop_vars, shape_invariants)\n  File \"D:\\Anaconda3\\lib\\site-packages\\tensorflow\\python\\ops\\control_flow_ops.py\", line 2887, in _BuildLoop\n    body_result = body(*packed_vars_for_body)\n  File \"D:\\Anaconda3\\lib\\site-packages\\tensorflow\\python\\ops\\control_flow_ops.py\", line 3201, in <lambda>\n    body = lambda i, lv: (i + 1, orig_body(*lv))\n  File \"D:\\Anaconda3\\lib\\site-packages\\tensorflow\\python\\ops\\rnn.py\", line 799, in _time_step\n    (output, new_state) = call_cell()\n  File \"D:\\Anaconda3\\lib\\site-packages\\tensorflow\\python\\ops\\rnn.py\", line 785, in <lambda>\n    call_cell = lambda: cell(input_t, state)\n  File \"D:\\Anaconda3\\lib\\site-packages\\tensorflow\\python\\ops\\rnn_cell_impl.py\", line 222, in __call__\n    return super(RNNCell, self).__call__(inputs, state)\n  File \"D:\\Anaconda3\\lib\\site-packages\\tensorflow\\python\\layers\\base.py\", line 362, in __call__\n    outputs = super(Layer, self).__call__(inputs, *args, **kwargs)\n  File \"D:\\Anaconda3\\lib\\site-packages\\tensorflow\\python\\keras\\engine\\base_layer.py\", line 736, in __call__\n    outputs = self.call(inputs, *args, **kwargs)\n  File \"D:\\Anaconda3\\lib\\site-packages\\tensorflow\\python\\ops\\rnn_cell_impl.py\", line 1315, in call\n    cur_inp, new_state = cell(cur_inp, cur_state)\n  File \"D:\\Anaconda3\\lib\\site-packages\\tensorflow\\python\\ops\\rnn_cell_impl.py\", line 1116, in __call__\n    output, new_state = self._cell(inputs, state, scope=scope)\n  File \"D:\\Anaconda3\\lib\\site-packages\\tensorflow\\python\\ops\\rnn_cell_impl.py\", line 329, in __call__\n    *args, **kwargs)\n  File \"D:\\Anaconda3\\lib\\site-packages\\tensorflow\\python\\layers\\base.py\", line 362, in __call__\n    outputs = super(Layer, self).__call__(inputs, *args, **kwargs)\n  File \"D:\\Anaconda3\\lib\\site-packages\\tensorflow\\python\\keras\\engine\\base_layer.py\", line 736, in __call__\n    outputs = self.call(inputs, *args, **kwargs)\n  File \"D:\\Anaconda3\\lib\\site-packages\\tensorflow\\python\\ops\\rnn_cell_impl.py\", line 628, in call\n    array_ops.concat([inputs, h], 1), self._kernel)\n  File \"D:\\Anaconda3\\lib\\site-packages\\tensorflow\\python\\ops\\array_ops.py\", line 1114, in concat\n    return gen_array_ops.concat_v2(values=values, axis=axis, name=name)\n  File \"D:\\Anaconda3\\lib\\site-packages\\tensorflow\\python\\ops\\gen_array_ops.py\", line 1030, in concat_v2\n    \"ConcatV2\", values=values, axis=axis, name=name)\n  File \"D:\\Anaconda3\\lib\\site-packages\\tensorflow\\python\\framework\\op_def_library.py\", line 787, in _apply_op_helper\n    op_def=op_def)\n  File \"D:\\Anaconda3\\lib\\site-packages\\tensorflow\\python\\util\\deprecation.py\", line 454, in new_func\n    return func(*args, **kwargs)\n  File \"D:\\Anaconda3\\lib\\site-packages\\tensorflow\\python\\framework\\ops.py\", line 3155, in create_op\n    op_def=op_def)\n  File \"D:\\Anaconda3\\lib\\site-packages\\tensorflow\\python\\framework\\ops.py\", line 1717, in __init__\n    self._traceback = tf_stack.extract_stack()\n\nInvalidArgumentError (see above for traceback): ConcatOp : Dimensions of inputs should match: shape[0] = [979,1] vs. shape[1] = [64,20]\n\t [[Node: rnn/while/rnn/multi_rnn_cell/cell_0/basic_lstm_cell/concat = ConcatV2[N=2, T=DT_FLOAT, Tidx=DT_INT32, _device=\"/job:localhost/replica:0/task:0/device:GPU:0\"](rnn/while/TensorArrayReadV3, rnn/while/Identity_4, rnn/while/rnn/multi_rnn_cell/cell_0/basic_lstm_cell/concat/axis)]]\n"
     ]
    }
   ],
   "source": [
    "keep_prob=1\n",
    "with session.as_default() as sess:\n",
    "    #结果\n",
    "    new_state=sess.run(model.initial_state)\n",
    "    feed={model.inputs:test_x[:,:,None],\n",
    "          model.keep_prob:keep_prob,\n",
    "          model.initial_state:new_state}\n",
    "    results=sess.run(model.prediction,feed_dict=feed)\n",
    "    plt.plot(results,'r',label='predicted')\n",
    "    plt.plot(test_y,'g-',label='real sin')\n",
    "    plt.legend()\n",
    "    plt.show()"
   ]
  },
  {
   "cell_type": "code",
   "execution_count": null,
   "metadata": {
    "collapsed": true
   },
   "outputs": [],
   "source": []
  }
 ],
 "metadata": {
  "anaconda-cloud": {},
  "kernelspec": {
   "display_name": "Python [conda env:Anaconda3]",
   "language": "python",
   "name": "conda-env-Anaconda3-py"
  },
  "language_info": {
   "codemirror_mode": {
    "name": "ipython",
    "version": 3
   },
   "file_extension": ".py",
   "mimetype": "text/x-python",
   "name": "python",
   "nbconvert_exporter": "python",
   "pygments_lexer": "ipython3",
   "version": "3.5.6"
  }
 },
 "nbformat": 4,
 "nbformat_minor": 1
}
