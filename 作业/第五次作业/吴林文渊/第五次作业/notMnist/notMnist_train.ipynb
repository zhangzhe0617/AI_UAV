{
 "cells": [
  {
   "cell_type": "code",
   "execution_count": 21,
   "metadata": {
    "collapsed": true
   },
   "outputs": [],
   "source": [
    "%matplotlib inline\n",
    "\n",
    "# 导入module\n",
    "import pickle\n",
    "import math\n",
    "\n",
    "import numpy as np\n",
    "import tensorflow as tf\n",
    "from tqdm import tqdm\n",
    "import matplotlib.pyplot as plt"
   ]
  },
  {
   "cell_type": "code",
   "execution_count": 22,
   "metadata": {
    "collapsed": false
   },
   "outputs": [],
   "source": [
    "#导入数据  对文件的读取操作\n",
    "pickle_file='notMNIST.pickle'\n",
    "with open(pickle_file,'rb') as f:\n",
    "    pickle_data=pickle.load(f)\n",
    "    train_features=pickle_data['train_features']\n",
    "    train_labels=pickle_data['train_labels']\n",
    "    valid_features=pickle_data['valid_features']\n",
    "    valid_labels=pickle_data['valid_labels']\n",
    "    test_features=pickle_data['test_features']\n",
    "    test_labels=pickle_data['test_labels']\n",
    "    del pickle_data"
   ]
  },
  {
   "cell_type": "code",
   "execution_count": 23,
   "metadata": {
    "collapsed": true
   },
   "outputs": [],
   "source": [
    "#初始化参数扁平化为向量\n",
    "features_count=28*28\n",
    "labels_count=10\n",
    "\n",
    "#占位张量\n",
    "features=tf.placeholder(tf.float32)\n",
    "labels=tf.placeholder(tf.float32)\n",
    "#变量张量\n",
    "weights=tf.Variable(tf.truncated_normal((features_count,labels_count)))\n",
    "biases=tf.Variable(tf.zeros(labels_count))"
   ]
  },
  {
   "cell_type": "code",
   "execution_count": 24,
   "metadata": {
    "collapsed": true
   },
   "outputs": [],
   "source": [
    "#其实就相当于前面写的函数  一样一样的\n",
    "#构建模型  XW+b\n",
    "logits=tf.matmul(features,weights)+biases#150000*784 x  784*10 = 150000*10\n",
    "prediction=tf.nn.softmax(logits)#150000*10\n",
    "\n",
    "#按行求和  \n",
    "cross_entropy= -tf.reduce_sum(labels * tf.log(prediction), reduction_indices=1) #150000*10  点乘  150000*10  行对行  列对列 然后按行求和\n",
    "#求取loss\n",
    "loss=tf.reduce_mean(cross_entropy)"
   ]
  },
  {
   "cell_type": "code",
   "execution_count": 25,
   "metadata": {
    "collapsed": true
   },
   "outputs": [],
   "source": [
    "#初始化所有变量\n",
    "init=tf.global_variables_initializer()"
   ]
  },
  {
   "cell_type": "code",
   "execution_count": 26,
   "metadata": {
    "collapsed": false
   },
   "outputs": [],
   "source": [
    "#提前写好  \n",
    "train_feed_dict={features:train_features,labels:train_labels}\n",
    "valid_feed_dict={features:valid_features,labels:valid_labels}\n",
    "test_feed_dict={features:test_features,labels:test_labels}\n"
   ]
  },
  {
   "cell_type": "code",
   "execution_count": 27,
   "metadata": {
    "collapsed": true
   },
   "outputs": [],
   "source": [
    "#返回的是vector中的最大值的索引号，\n",
    "#如果vector是一个向量，那就返回一个值，\n",
    "#如果是一个矩阵，那就返回一个向量，这个向量的每一个维度都是相对应矩阵行的最大值元素的索引号\n",
    "#检查正确性的变量\n",
    "correct_prediction=tf.equal(tf.argmax(prediction,1),tf.argmax(labels,1))\n",
    "#计算准确度的变量\n",
    "accuracy=tf.reduce_mean(tf.cast(correct_prediction,tf.float32))"
   ]
  },
  {
   "cell_type": "code",
   "execution_count": 28,
   "metadata": {
    "collapsed": false
   },
   "outputs": [],
   "source": [
    "#寻找最合适的参数，训练次数和学习率\n",
    "epoches=20\n",
    "learn_rate=0.005\n",
    "#每次的训练量\n",
    "batch_size=128\n",
    "#梯度下降\n",
    "optimizer=tf.train.GradientDescentOptimizer(learn_rate).minimize(loss)\n",
    "#交叉验证的准确度\n",
    "validation_accuracy=0.0"
   ]
  },
  {
   "cell_type": "code",
   "execution_count": 29,
   "metadata": {
    "collapsed": true
   },
   "outputs": [],
   "source": [
    "#变量\n",
    "log_batch_step=50\n",
    "batches=[]\n",
    "loss_batch=[]\n",
    "train_acc_batch=[]\n",
    "valid_acc_batch=[]"
   ]
  },
  {
   "cell_type": "code",
   "execution_count": 30,
   "metadata": {
    "collapsed": false
   },
   "outputs": [
    {
     "name": "stderr",
     "output_type": "stream",
     "text": [
      "Epoch  1/20: 100%|████████████████████████████████████████████████████████████| 1114/1114 [00:14<00:00, 76.16batches/s]\n",
      "Epoch  2/20: 100%|████████████████████████████████████████████████████████████| 1114/1114 [00:14<00:00, 75.37batches/s]\n",
      "Epoch  3/20: 100%|████████████████████████████████████████████████████████████| 1114/1114 [00:14<00:00, 75.92batches/s]\n",
      "Epoch  4/20: 100%|████████████████████████████████████████████████████████████| 1114/1114 [00:13<00:00, 80.02batches/s]\n",
      "Epoch  5/20: 100%|████████████████████████████████████████████████████████████| 1114/1114 [00:14<00:00, 77.80batches/s]\n",
      "Epoch  6/20: 100%|████████████████████████████████████████████████████████████| 1114/1114 [00:14<00:00, 77.61batches/s]\n",
      "Epoch  7/20: 100%|████████████████████████████████████████████████████████████| 1114/1114 [00:14<00:00, 77.77batches/s]\n",
      "Epoch  8/20: 100%|████████████████████████████████████████████████████████████| 1114/1114 [00:13<00:00, 83.91batches/s]\n",
      "Epoch  9/20: 100%|████████████████████████████████████████████████████████████| 1114/1114 [00:13<00:00, 83.79batches/s]\n",
      "Epoch 10/20: 100%|████████████████████████████████████████████████████████████| 1114/1114 [00:13<00:00, 82.93batches/s]\n",
      "Epoch 11/20: 100%|████████████████████████████████████████████████████████████| 1114/1114 [00:13<00:00, 79.71batches/s]\n",
      "Epoch 12/20: 100%|████████████████████████████████████████████████████████████| 1114/1114 [00:14<00:00, 78.42batches/s]\n",
      "Epoch 13/20: 100%|████████████████████████████████████████████████████████████| 1114/1114 [00:13<00:00, 82.11batches/s]\n",
      "Epoch 14/20: 100%|████████████████████████████████████████████████████████████| 1114/1114 [00:12<00:00, 86.17batches/s]\n",
      "Epoch 15/20: 100%|████████████████████████████████████████████████████████████| 1114/1114 [00:15<00:00, 73.80batches/s]\n",
      "Epoch 16/20: 100%|████████████████████████████████████████████████████████████| 1114/1114 [00:16<00:00, 68.52batches/s]\n",
      "Epoch 17/20: 100%|████████████████████████████████████████████████████████████| 1114/1114 [00:16<00:00, 68.65batches/s]\n",
      "Epoch 18/20: 100%|████████████████████████████████████████████████████████████| 1114/1114 [00:13<00:00, 80.40batches/s]\n",
      "Epoch 19/20: 100%|████████████████████████████████████████████████████████████| 1114/1114 [00:13<00:00, 80.05batches/s]\n",
      "Epoch 20/20: 100%|████████████████████████████████████████████████████████████| 1114/1114 [00:13<00:00, 81.51batches/s]\n"
     ]
    }
   ],
   "source": [
    "#开始训练\n",
    "with tf.Session() as session:\n",
    "    session.run(init)\n",
    "    batch_count = int(math.ceil(len(train_features)/batch_size))#将整个样本分割成150000/128个部分1100个子集\n",
    "\n",
    "    for epoch_i in range(epoches):\n",
    "        \n",
    "        # 进度条\n",
    "        batches_pbar = tqdm(range(batch_count), desc='Epoch {:>2}/{}'.format(epoch_i+1, epoches), unit='batches')\n",
    "        \n",
    "        # 开始训练\n",
    "        for batch_i in batches_pbar: \n",
    "            \n",
    "            #每个数据集的大小及前后标\n",
    "            batch_start = batch_i*batch_size\n",
    "            batch_features = train_features[batch_start:batch_start + batch_size]\n",
    "            batch_labels = train_labels[batch_start:batch_start + batch_size]\n",
    "\n",
    "\n",
    "            op, l = session.run([optimizer, loss],feed_dict={features: batch_features, labels: batch_labels})\n",
    "\n",
    "            \n",
    "            #每50个数据记录一次\n",
    "            if not batch_i % log_batch_step:\n",
    "                # 训练集和验证集\n",
    "                training_accuracy = session.run(accuracy, feed_dict=train_feed_dict) \n",
    "                validation_accuracy = session.run(accuracy, feed_dict=valid_feed_dict) #\n",
    "\n",
    "                # 记录损失和精度\n",
    "                previous_batch = batches[-1] if batches else 0\n",
    "                batches.append(log_batch_step + previous_batch)\n",
    "                loss_batch.append(l) \n",
    "                train_acc_batch.append(training_accuracy)\n",
    "                valid_acc_batch.append(validation_accuracy)\n",
    "\n",
    "        # Check accuracy against Validation data\n",
    "        validation_accuracy = session.run(accuracy, feed_dict=valid_feed_dict)\n"
   ]
  },
  {
   "cell_type": "code",
   "execution_count": 34,
   "metadata": {
    "collapsed": false
   },
   "outputs": [
    {
     "name": "stdout",
     "output_type": "stream",
     "text": [
      "[0.7384, 0.7377333, 0.7385333, 0.73946667, 0.738, 0.73786664, 0.7385333, 0.73906666, 0.73866665, 0.73786664]\n"
     ]
    }
   ],
   "source": [
    "print(valid_acc_batch[-10:])"
   ]
  },
  {
   "cell_type": "code",
   "execution_count": 35,
   "metadata": {
    "collapsed": false
   },
   "outputs": [
    {
     "name": "stderr",
     "output_type": "stream",
     "text": [
      "Epoch  1/20: 100%|███████████████████████████████████████████████████████████| 1114/1114 [00:02<00:00, 520.38batches/s]\n"
     ]
    },
    {
     "name": "stdout",
     "output_type": "stream",
     "text": [
      "0.3936\n"
     ]
    },
    {
     "name": "stderr",
     "output_type": "stream",
     "text": [
      "Epoch  2/20: 100%|███████████████████████████████████████████████████████████| 1114/1114 [00:02<00:00, 537.06batches/s]\n"
     ]
    },
    {
     "name": "stdout",
     "output_type": "stream",
     "text": [
      "0.5618\n"
     ]
    },
    {
     "name": "stderr",
     "output_type": "stream",
     "text": [
      "Epoch  3/20: 100%|███████████████████████████████████████████████████████████| 1114/1114 [00:01<00:00, 565.17batches/s]\n"
     ]
    },
    {
     "name": "stdout",
     "output_type": "stream",
     "text": [
      "0.659\n"
     ]
    },
    {
     "name": "stderr",
     "output_type": "stream",
     "text": [
      "Epoch  4/20: 100%|███████████████████████████████████████████████████████████| 1114/1114 [00:01<00:00, 557.17batches/s]\n"
     ]
    },
    {
     "name": "stdout",
     "output_type": "stream",
     "text": [
      "0.7037\n"
     ]
    },
    {
     "name": "stderr",
     "output_type": "stream",
     "text": [
      "Epoch  5/20: 100%|███████████████████████████████████████████████████████████| 1114/1114 [00:01<00:00, 563.75batches/s]\n"
     ]
    },
    {
     "name": "stdout",
     "output_type": "stream",
     "text": [
      "0.7329\n"
     ]
    },
    {
     "name": "stderr",
     "output_type": "stream",
     "text": [
      "Epoch  6/20: 100%|███████████████████████████████████████████████████████████| 1114/1114 [00:02<00:00, 449.29batches/s]\n"
     ]
    },
    {
     "name": "stdout",
     "output_type": "stream",
     "text": [
      "0.7504\n"
     ]
    },
    {
     "name": "stderr",
     "output_type": "stream",
     "text": [
      "Epoch  7/20: 100%|███████████████████████████████████████████████████████████| 1114/1114 [00:02<00:00, 546.86batches/s]\n"
     ]
    },
    {
     "name": "stdout",
     "output_type": "stream",
     "text": [
      "0.7634\n"
     ]
    },
    {
     "name": "stderr",
     "output_type": "stream",
     "text": [
      "Epoch  8/20: 100%|███████████████████████████████████████████████████████████| 1114/1114 [00:02<00:00, 544.48batches/s]\n"
     ]
    },
    {
     "name": "stdout",
     "output_type": "stream",
     "text": [
      "0.7722\n"
     ]
    },
    {
     "name": "stderr",
     "output_type": "stream",
     "text": [
      "Epoch  9/20: 100%|███████████████████████████████████████████████████████████| 1114/1114 [00:02<00:00, 446.07batches/s]\n"
     ]
    },
    {
     "name": "stdout",
     "output_type": "stream",
     "text": [
      "0.7806\n"
     ]
    },
    {
     "name": "stderr",
     "output_type": "stream",
     "text": [
      "Epoch 10/20: 100%|███████████████████████████████████████████████████████████| 1114/1114 [00:02<00:00, 534.75batches/s]\n"
     ]
    },
    {
     "name": "stdout",
     "output_type": "stream",
     "text": [
      "0.7874\n"
     ]
    },
    {
     "name": "stderr",
     "output_type": "stream",
     "text": [
      "Epoch 11/20: 100%|███████████████████████████████████████████████████████████| 1114/1114 [00:02<00:00, 548.60batches/s]\n"
     ]
    },
    {
     "name": "stdout",
     "output_type": "stream",
     "text": [
      "0.7938\n"
     ]
    },
    {
     "name": "stderr",
     "output_type": "stream",
     "text": [
      "Epoch 12/20: 100%|███████████████████████████████████████████████████████████| 1114/1114 [00:02<00:00, 515.72batches/s]\n"
     ]
    },
    {
     "name": "stdout",
     "output_type": "stream",
     "text": [
      "0.799\n"
     ]
    },
    {
     "name": "stderr",
     "output_type": "stream",
     "text": [
      "Epoch 13/20: 100%|███████████████████████████████████████████████████████████| 1114/1114 [00:02<00:00, 484.05batches/s]\n"
     ]
    },
    {
     "name": "stdout",
     "output_type": "stream",
     "text": [
      "0.8034\n"
     ]
    },
    {
     "name": "stderr",
     "output_type": "stream",
     "text": [
      "Epoch 14/20: 100%|███████████████████████████████████████████████████████████| 1114/1114 [00:02<00:00, 483.52batches/s]\n"
     ]
    },
    {
     "name": "stdout",
     "output_type": "stream",
     "text": [
      "0.806\n"
     ]
    },
    {
     "name": "stderr",
     "output_type": "stream",
     "text": [
      "Epoch 15/20: 100%|███████████████████████████████████████████████████████████| 1114/1114 [00:02<00:00, 541.85batches/s]\n"
     ]
    },
    {
     "name": "stdout",
     "output_type": "stream",
     "text": [
      "0.8086\n"
     ]
    },
    {
     "name": "stderr",
     "output_type": "stream",
     "text": [
      "Epoch 16/20: 100%|███████████████████████████████████████████████████████████| 1114/1114 [00:02<00:00, 399.50batches/s]\n"
     ]
    },
    {
     "name": "stdout",
     "output_type": "stream",
     "text": [
      "0.8113\n"
     ]
    },
    {
     "name": "stderr",
     "output_type": "stream",
     "text": [
      "Epoch 17/20: 100%|███████████████████████████████████████████████████████████| 1114/1114 [00:03<00:00, 329.66batches/s]\n"
     ]
    },
    {
     "name": "stdout",
     "output_type": "stream",
     "text": [
      "0.8142\n"
     ]
    },
    {
     "name": "stderr",
     "output_type": "stream",
     "text": [
      "Epoch 18/20: 100%|███████████████████████████████████████████████████████████| 1114/1114 [00:02<00:00, 380.61batches/s]\n"
     ]
    },
    {
     "name": "stdout",
     "output_type": "stream",
     "text": [
      "0.8153\n"
     ]
    },
    {
     "name": "stderr",
     "output_type": "stream",
     "text": [
      "Epoch 19/20: 100%|███████████████████████████████████████████████████████████| 1114/1114 [00:02<00:00, 514.42batches/s]\n"
     ]
    },
    {
     "name": "stdout",
     "output_type": "stream",
     "text": [
      "0.817\n"
     ]
    },
    {
     "name": "stderr",
     "output_type": "stream",
     "text": [
      "Epoch 20/20: 100%|███████████████████████████████████████████████████████████| 1114/1114 [00:02<00:00, 494.27batches/s]\n"
     ]
    },
    {
     "name": "stdout",
     "output_type": "stream",
     "text": [
      "0.8181\n"
     ]
    }
   ],
   "source": [
    "#使用测试集进行检验  跟上面的一样   \n",
    "test_accuracy = 0.0\n",
    "with tf.Session() as session:\n",
    "    session.run(init)\n",
    "    batch_count = int(math.ceil(len(train_features)/batch_size))\n",
    "\n",
    "    for epoch_i in range(epoches):\n",
    "        \n",
    "        batches_pbar = tqdm(range(batch_count), desc='Epoch {:>2}/{}'.format(epoch_i+1, epoches), unit='batches')\n",
    "        \n",
    "        for batch_i in batches_pbar: \n",
    "            batch_start = batch_i*batch_size\n",
    "            batch_features = train_features[batch_start:batch_start + batch_size]\n",
    "            batch_labels = train_labels[batch_start:batch_start + batch_size]\n",
    "\n",
    "            op, l = session.run([optimizer, loss],feed_dict={features: batch_features, labels: batch_labels})\n",
    "\n",
    "            if not batch_i % log_batch_step:\n",
    "                test_accuracy = session.run(accuracy, feed_dict=test_feed_dict) \n",
    "\n",
    "                previous_batch = batches[-1] if batches else 0\n",
    "                batches.append(log_batch_step + previous_batch)\n",
    "                \n",
    "\n",
    "\n",
    "        test_accuracy = session.run(accuracy, feed_dict=test_feed_dict)\n",
    "        print(test_accuracy)\n",
    "\n",
    "\n",
    "\n"
   ]
  },
  {
   "cell_type": "code",
   "execution_count": 40,
   "metadata": {
    "collapsed": false
   },
   "outputs": [
    {
     "data": {
      "image/png": "[encoded data removed]",
      "text/plain": [
       "<matplotlib.figure.Figure at 0x21d001124a8>"
      ]
     },
     "metadata": {},
     "output_type": "display_data"
    }
   ],
   "source": [
    "plt.plot(train_acc_batch)\n",
    "plt.plot(valid_acc_batch)\n",
    "plt.show()"
   ]
  },
  {
   "cell_type": "code",
   "execution_count": 43,
   "metadata": {
    "collapsed": false
   },
   "outputs": [
    {
     "data": {
      "image/png": "[encoded data removed]",
      "text/plain": [
       "<matplotlib.figure.Figure at 0x21d001cb9b0>"
      ]
     },
     "metadata": {},
     "output_type": "display_data"
    }
   ],
   "source": [
    "plt.plot(loss_batch)\n",
    "plt.show()"
   ]
  },
  {
   "cell_type": "code",
   "execution_count": null,
   "metadata": {
    "collapsed": false
   },
   "outputs": [],
   "source": []
  },
  {
   "cell_type": "code",
   "execution_count": null,
   "metadata": {
    "collapsed": true
   },
   "outputs": [],
   "source": []
  }
 ],
 "metadata": {
  "anaconda-cloud": {},
  "kernelspec": {
   "display_name": "Python [conda env:Anaconda3]",
   "language": "python",
   "name": "conda-env-Anaconda3-py"
  },
  "language_info": {
   "codemirror_mode": {
    "name": "ipython",
    "version": 3
   },
   "file_extension": ".py",
   "mimetype": "text/x-python",
   "name": "python",
   "nbconvert_exporter": "python",
   "pygments_lexer": "ipython3",
   "version": "3.5.2"
  }
 },
 "nbformat": 4,
 "nbformat_minor": 1
}
