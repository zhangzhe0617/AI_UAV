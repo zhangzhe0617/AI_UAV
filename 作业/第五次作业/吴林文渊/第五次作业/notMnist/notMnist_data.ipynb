{
 "cells": [
  {
   "cell_type": "code",
   "execution_count": 1,
   "metadata": {
    "collapsed": false
   },
   "outputs": [
    {
     "name": "stderr",
     "output_type": "stream",
     "text": [
      "D:\\Anaconda3\\lib\\site-packages\\sklearn\\utils\\fixes.py:313: FutureWarning: numpy not_equal will not check object identity in the future. The comparison did not return the same result as suggested by the identity (`is`)) and will change.\n",
      "  _nan_object_mask = _nan_object_array != _nan_object_array\n"
     ]
    }
   ],
   "source": [
    "import hashlib\n",
    "import os\n",
    "import pickle\n",
    "from urllib.request import urlretrieve\n",
    "\n",
    "import numpy as np\n",
    "from PIL import Image\n",
    "from sklearn.model_selection import train_test_split\n",
    "from sklearn.preprocessing import LabelBinarizer\n",
    "from sklearn.utils import resample\n",
    "from tqdm import tqdm"
   ]
  },
  {
   "cell_type": "code",
   "execution_count": 19,
   "metadata": {
    "collapsed": true
   },
   "outputs": [],
   "source": [
    "#已经提前下载解压\n",
    "filepath_test='D:\\研究生\\研一上\\无人机项目\\AI_UAV-master\\AI_UAV-master\\\\3 卷积神经网络\\卷积神经网络\\\\notMNIST_test\\\\notMNIST_test'\n",
    "filepath_train='D:\\研究生\\研一上\\无人机项目\\AI_UAV-master\\AI_UAV-master\\\\3 卷积神经网络\\卷积神经网络\\\\notMNIST_train\\\\notMNIST_train'\n",
    "def get_feature_label(filepath):\n",
    "    features=[]\n",
    "    labels=[]\n",
    "    if os.path.exists(filepath):  # 如果该路径存在\n",
    "        filename_pbar = os.listdir(filepath)  # 列出所有的文件名\n",
    "        for filename in filename_pbar:\n",
    "            image=Image.open(filepath+'\\\\'+filename)\n",
    "            image.load()\n",
    "            feature=np.array(image,dtype=np.float32).flatten()#数据转化为一维numpy数组\n",
    "            lable=os.path.split(filename)[1][0]#提取标签\n",
    "            features.append(feature)\n",
    "            labels.append(lable)\n",
    "        return np.array(features),np.array(labels)\n",
    "    \n",
    "test_features,test_labels=get_feature_label(filepath_test)\n",
    "train_features,train_labels=get_feature_label(filepath_train)"
   ]
  },
  {
   "cell_type": "code",
   "execution_count": 3,
   "metadata": {
    "collapsed": true
   },
   "outputs": [],
   "source": [
    "#控制数量\n",
    "size_limit=150000\n",
    "train_features,train_labels=resample(train_features,train_labels,n_samples=size_limit)"
   ]
  },
  {
   "cell_type": "code",
   "execution_count": 4,
   "metadata": {
    "collapsed": true
   },
   "outputs": [],
   "source": [
    "#把公式变为代码  灰度值特征缩放\n",
    "def normalize_grayscale(image_data):\n",
    "    a=0.1\n",
    "    b=0.9\n",
    "    min=0\n",
    "    max=255\n",
    "    return a+(((image_data-min)*(b-a))/(max-min))\n",
    "train_features=normalize_grayscale(train_features)\n",
    "test_features=normalize_grayscale(test_features)"
   ]
  },
  {
   "cell_type": "code",
   "execution_count": 5,
   "metadata": {
    "collapsed": true
   },
   "outputs": [],
   "source": [
    "#对A-J进行编码\n",
    "def one_hot(labels):\n",
    "    encoder=LabelBinarizer()\n",
    "    encoder.fit(labels)\n",
    "    labels=encoder.transform(labels)\n",
    "    labels=labels.astype(np.float32)\n",
    "    return labels\n",
    "train_labels=one_hot(train_labels)\n",
    "test_labels=one_hot(test_labels)"
   ]
  },
  {
   "cell_type": "code",
   "execution_count": 6,
   "metadata": {
    "collapsed": true
   },
   "outputs": [],
   "source": [
    "#分割数据 测试集和验证集\n",
    "train_features, valid_features, train_labels, valid_labels = train_test_split(\n",
    "    train_features,\n",
    "    train_labels,\n",
    "    test_size=0.05,#样本占比\n",
    "    random_state=23333)#随机种子"
   ]
  },
  {
   "cell_type": "code",
   "execution_count": 7,
   "metadata": {
    "collapsed": false
   },
   "outputs": [
    {
     "name": "stdout",
     "output_type": "stream",
     "text": [
      "(142500, 784) (142500, 10) (7500, 784) (7500, 10)\n"
     ]
    }
   ],
   "source": [
    "print(train_features.shape,train_labels.shape, valid_features.shape, valid_labels.shape)"
   ]
  },
  {
   "cell_type": "code",
   "execution_count": 11,
   "metadata": {
    "collapsed": false
   },
   "outputs": [
    {
     "name": "stdout",
     "output_type": "stream",
     "text": [
      "Saving data to pickle file...\n",
      "Data cached in pickle file.\n"
     ]
    }
   ],
   "source": [
    "#将数据转换为为容易解析的格式，存储到硬盘上\n",
    "pickle_file = 'notMNIST.pickle'\n",
    "if not os.path.isfile(pickle_file):  #二进制数据流\n",
    "    print('Saving data to pickle file...')\n",
    "    try:\n",
    "        with open(r'notMNIST.pickle', 'wb') as pfile:\n",
    "            pickle.dump(\n",
    "                {\n",
    "                    'train_features': train_features,\n",
    "                    'train_labels': train_labels,\n",
    "                    'valid_features': valid_features,\n",
    "                    'valid_labels': valid_labels,\n",
    "                    'test_features': test_features,\n",
    "                    'test_labels': test_labels,\n",
    "                },\n",
    "                pfile, pickle.HIGHEST_PROTOCOL)\n",
    "    except Exception as e:\n",
    "        print('Unable to save data to', pickle_file, ':', e)\n",
    "        raise\n",
    "\n",
    "print('Data cached in pickle file.')  \n",
    "#可读性差，人无法识别"
   ]
  },
  {
   "cell_type": "code",
   "execution_count": null,
   "metadata": {
    "collapsed": true
   },
   "outputs": [],
   "source": []
  }
 ],
 "metadata": {
  "anaconda-cloud": {},
  "kernelspec": {
   "display_name": "Python [conda env:Anaconda3]",
   "language": "python",
   "name": "conda-env-Anaconda3-py"
  },
  "language_info": {
   "codemirror_mode": {
    "name": "ipython",
    "version": 3
   },
   "file_extension": ".py",
   "mimetype": "text/x-python",
   "name": "python",
   "nbconvert_exporter": "python",
   "pygments_lexer": "ipython3",
   "version": "3.5.2"
  }
 },
 "nbformat": 4,
 "nbformat_minor": 1
}
